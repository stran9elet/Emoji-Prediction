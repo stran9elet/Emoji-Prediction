{
 "cells": [
  {
   "cell_type": "code",
   "execution_count": null,
   "metadata": {
    "colab": {
     "base_uri": "https://localhost:8080/"
    },
    "id": "MwfPhHKlf0kU",
    "outputId": "be5307fb-1129-4032-8827-e80c7ce8dc71"
   },
   "outputs": [
    {
     "name": "stdout",
     "output_type": "stream",
     "text": [
      "--2022-05-27 08:58:31--  http://nlp.stanford.edu/data/glove.6B.zip\n",
      "Resolving nlp.stanford.edu (nlp.stanford.edu)... 171.64.67.140\n",
      "Connecting to nlp.stanford.edu (nlp.stanford.edu)|171.64.67.140|:80... connected.\n",
      "HTTP request sent, awaiting response... 302 Found\n",
      "Location: https://nlp.stanford.edu/data/glove.6B.zip [following]\n",
      "--2022-05-27 08:58:31--  https://nlp.stanford.edu/data/glove.6B.zip\n",
      "Connecting to nlp.stanford.edu (nlp.stanford.edu)|171.64.67.140|:443... connected.\n",
      "HTTP request sent, awaiting response... 301 Moved Permanently\n",
      "Location: http://downloads.cs.stanford.edu/nlp/data/glove.6B.zip [following]\n",
      "--2022-05-27 08:58:32--  http://downloads.cs.stanford.edu/nlp/data/glove.6B.zip\n",
      "Resolving downloads.cs.stanford.edu (downloads.cs.stanford.edu)... 171.64.64.22\n",
      "Connecting to downloads.cs.stanford.edu (downloads.cs.stanford.edu)|171.64.64.22|:80... connected.\n",
      "HTTP request sent, awaiting response... 200 OK\n",
      "Length: 862182613 (822M) [application/zip]\n",
      "Saving to: ‘glove.6B.zip’\n",
      "\n",
      "glove.6B.zip        100%[===================>] 822.24M  5.12MB/s    in 2m 42s  \n",
      "\n",
      "2022-05-27 09:01:15 (5.07 MB/s) - ‘glove.6B.zip’ saved [862182613/862182613]\n",
      "\n"
     ]
    }
   ],
   "source": [
    "!wget http://nlp.stanford.edu/data/glove.6B.zip"
   ]
  },
  {
   "cell_type": "code",
   "execution_count": null,
   "metadata": {
    "colab": {
     "base_uri": "https://localhost:8080/"
    },
    "id": "yRYSaQtof5Bo",
    "outputId": "0b8da9ba-411b-4111-c5ed-fc135f97c724"
   },
   "outputs": [
    {
     "name": "stdout",
     "output_type": "stream",
     "text": [
      "glove.6B.zip  sample_data\n"
     ]
    }
   ],
   "source": [
    "!ls"
   ]
  },
  {
   "cell_type": "code",
   "execution_count": null,
   "metadata": {
    "colab": {
     "base_uri": "https://localhost:8080/"
    },
    "id": "Mkf5l6Eaiu38",
    "outputId": "611b1cc7-27d4-4944-c12d-b394de1b21ec"
   },
   "outputs": [
    {
     "name": "stdout",
     "output_type": "stream",
     "text": [
      "Archive:  glove.6B.zip\n",
      "  inflating: glove.6B.50d.txt        \n",
      "  inflating: glove.6B.100d.txt       \n",
      "  inflating: glove.6B.200d.txt       \n",
      "  inflating: glove.6B.300d.txt       \n"
     ]
    }
   ],
   "source": [
    "!unzip glove.6B.zip"
   ]
  },
  {
   "cell_type": "code",
   "execution_count": null,
   "metadata": {
    "colab": {
     "base_uri": "https://localhost:8080/"
    },
    "id": "F6kW4FXJiznX",
    "outputId": "b6812f5f-d070-4af9-bf85-d7d69effc664"
   },
   "outputs": [
    {
     "name": "stdout",
     "output_type": "stream",
     "text": [
      "glove.6B.100d.txt  glove.6B.300d.txt  glove.6B.zip\n",
      "glove.6B.200d.txt  glove.6B.50d.txt   sample_data\n"
     ]
    }
   ],
   "source": [
    "!ls"
   ]
  },
  {
   "cell_type": "code",
   "execution_count": null,
   "metadata": {
    "id": "pcIS3G0ni-gk"
   },
   "outputs": [],
   "source": [
    "!mkdir glove && mv glove*.txt glove"
   ]
  },
  {
   "cell_type": "code",
   "execution_count": null,
   "metadata": {
    "colab": {
     "base_uri": "https://localhost:8080/"
    },
    "id": "VKYx9LFzjHa4",
    "outputId": "c3a0de86-19dd-4802-c18c-2223561c1873"
   },
   "outputs": [
    {
     "name": "stdout",
     "output_type": "stream",
     "text": [
      "glove.6B.100d.txt  glove.6B.200d.txt  glove.6B.300d.txt  glove.6B.50d.txt\n"
     ]
    }
   ],
   "source": [
    "!ls glove"
   ]
  },
  {
   "cell_type": "code",
   "execution_count": null,
   "metadata": {
    "colab": {
     "base_uri": "https://localhost:8080/"
    },
    "id": "YPVoPl-sgJui",
    "outputId": "64301efa-bcfb-4452-9145-e68ad478976b"
   },
   "outputs": [
    {
     "name": "stdout",
     "output_type": "stream",
     "text": [
      "the 0.418 0.24968 -0.41242 0.1217 0.34527 -0.044457 -0.49688 -0.17862 -0.00066023 -0.6566 0.27843 -0.14767 -0.55677 0.14658 -0.0095095 0.011658 0.10204 -0.12792 -0.8443 -0.12181 -0.016801 -0.33279 -0.1552 -0.23131 -0.19181 -1.8823 -0.76746 0.099051 -0.42125 -0.19526 4.0071 -0.18594 -0.52287 -0.31681 0.00059213 0.0074449 0.17778 -0.15897 0.012041 -0.054223 -0.29871 -0.15749 -0.34758 -0.045637 -0.44251 0.18785 0.0027849 -0.18411 -0.11514 -0.78581\n",
      ", 0.013441 0.23682 -0.16899 0.40951 0.63812 0.47709 -0.42852 -0.55641 -0.364 -0.23938 0.13001 -0.063734 -0.39575 -0.48162 0.23291 0.090201 -0.13324 0.078639 -0.41634 -0.15428 0.10068 0.48891 0.31226 -0.1252 -0.037512 -1.5179 0.12612 -0.02442 -0.042961 -0.28351 3.5416 -0.11956 -0.014533 -0.1499 0.21864 -0.33412 -0.13872 0.31806 0.70358 0.44858 -0.080262 0.63003 0.32111 -0.46765 0.22786 0.36034 -0.37818 -0.56657 0.044691 0.30392\n",
      ". 0.15164 0.30177 -0.16763 0.17684 0.31719 0.33973 -0.43478 -0.31086 -0.44999 -0.29486 0.16608 0.11963 -0.41328 -0.42353 0.59868 0.28825 -0.11547 -0.041848 -0.67989 -0.25063 0.18472 0.086876 0.46582 0.015035 0.043474 -1.4671 -0.30384 -0.023441 0.30589 -0.21785 3.746 0.0042284 -0.18436 -0.46209 0.098329 -0.11907 0.23919 0.1161 0.41705 0.056763 -6.3681e-05 0.068987 0.087939 -0.10285 -0.13931 0.22314 -0.080803 -0.35652 0.016413 0.10216\n",
      "of 0.70853 0.57088 -0.4716 0.18048 0.54449 0.72603 0.18157 -0.52393 0.10381 -0.17566 0.078852 -0.36216 -0.11829 -0.83336 0.11917 -0.16605 0.061555 -0.012719 -0.56623 0.013616 0.22851 -0.14396 -0.067549 -0.38157 -0.23698 -1.7037 -0.86692 -0.26704 -0.2589 0.1767 3.8676 -0.1613 -0.13273 -0.68881 0.18444 0.0052464 -0.33874 -0.078956 0.24185 0.36576 -0.34727 0.28483 0.075693 -0.062178 -0.38988 0.22902 -0.21617 -0.22562 -0.093918 -0.80375\n",
      "to 0.68047 -0.039263 0.30186 -0.17792 0.42962 0.032246 -0.41376 0.13228 -0.29847 -0.085253 0.17118 0.22419 -0.10046 -0.43653 0.33418 0.67846 0.057204 -0.34448 -0.42785 -0.43275 0.55963 0.10032 0.18677 -0.26854 0.037334 -2.0932 0.22171 -0.39868 0.20912 -0.55725 3.8826 0.47466 -0.95658 -0.37788 0.20869 -0.32752 0.12751 0.088359 0.16351 -0.21634 -0.094375 0.018324 0.21048 -0.03088 -0.19722 0.082279 -0.09434 -0.073297 -0.064699 -0.26044\n",
      "and 0.26818 0.14346 -0.27877 0.016257 0.11384 0.69923 -0.51332 -0.47368 -0.33075 -0.13834 0.2702 0.30938 -0.45012 -0.4127 -0.09932 0.038085 0.029749 0.10076 -0.25058 -0.51818 0.34558 0.44922 0.48791 -0.080866 -0.10121 -1.3777 -0.10866 -0.23201 0.012839 -0.46508 3.8463 0.31362 0.13643 -0.52244 0.3302 0.33707 -0.35601 0.32431 0.12041 0.3512 -0.069043 0.36885 0.25168 -0.24517 0.25381 0.1367 -0.31178 -0.6321 -0.25028 -0.38097\n",
      "in 0.33042 0.24995 -0.60874 0.10923 0.036372 0.151 -0.55083 -0.074239 -0.092307 -0.32821 0.09598 -0.82269 -0.36717 -0.67009 0.42909 0.016496 -0.23573 0.12864 -1.0953 0.43334 0.57067 -0.1036 0.20422 0.078308 -0.42795 -1.7984 -0.27865 0.11954 -0.12689 0.031744 3.8631 -0.17786 -0.082434 -0.62698 0.26497 -0.057185 -0.073521 0.46103 0.30862 0.12498 -0.48609 -0.0080272 0.031184 -0.36576 -0.42699 0.42164 -0.11666 -0.50703 -0.027273 -0.53285\n",
      "a 0.21705 0.46515 -0.46757 0.10082 1.0135 0.74845 -0.53104 -0.26256 0.16812 0.13182 -0.24909 -0.44185 -0.21739 0.51004 0.13448 -0.43141 -0.03123 0.20674 -0.78138 -0.20148 -0.097401 0.16088 -0.61836 -0.18504 -0.12461 -2.2526 -0.22321 0.5043 0.32257 0.15313 3.9636 -0.71365 -0.67012 0.28388 0.21738 0.14433 0.25926 0.23434 0.4274 -0.44451 0.13813 0.36973 -0.64289 0.024142 -0.039315 -0.26037 0.12017 -0.043782 0.41013 0.1796\n",
      "\" 0.25769 0.45629 -0.76974 -0.37679 0.59272 -0.063527 0.20545 -0.57385 -0.29009 -0.13662 0.32728 1.4719 -0.73681 -0.12036 0.71354 -0.46098 0.65248 0.48887 -0.51558 0.039951 -0.34307 -0.014087 0.86488 0.3546 0.7999 -1.4995 -1.8153 0.41128 0.23921 -0.43139 3.6623 -0.79834 -0.54538 0.16943 -0.82017 -0.3461 0.69495 -1.2256 -0.17992 -0.057474 0.030498 -0.39543 -0.38515 -1.0002 0.087599 -0.31009 -0.34677 -0.31438 0.75004 0.97065\n",
      "'s 0.23727 0.40478 -0.20547 0.58805 0.65533 0.32867 -0.81964 -0.23236 0.27428 0.24265 0.054992 0.16296 -1.2555 -0.086437 0.44536 0.096561 -0.16519 0.058378 -0.38598 0.086977 0.0033869 0.55095 -0.77697 -0.62096 0.092948 -2.5685 -0.67739 0.10151 -0.48643 -0.057805 3.1859 -0.017554 -0.16138 0.055486 -0.25885 -0.33938 -0.19928 0.26049 0.10478 -0.55934 -0.12342 0.65961 -0.51802 -0.82995 -0.082739 0.28155 -0.423 -0.27378 -0.007901 -0.030231\n",
      "for 0.15272 0.36181 -0.22168 0.066051 0.13029 0.37075 -0.75874 -0.44722 0.22563 0.10208 0.054225 0.13494 -0.43052 -0.2134 0.56139 -0.21445 0.077974 0.10137 -0.51306 -0.40295 0.40639 0.23309 0.20696 -0.12668 -0.50634 -1.7131 0.077183 -0.39138 -0.10594 -0.23743 3.9552 0.66596 -0.61841 -0.3268 0.37021 0.25764 0.38977 0.27121 0.043024 -0.34322 0.020339 0.2142 0.044097 0.14003 -0.20079 0.074794 -0.36076 0.43382 -0.084617 0.1214\n",
      "- -0.16768 1.2151 0.49515 0.26836 -0.4585 -0.23311 -0.52822 -1.3557 0.16098 0.37691 -0.92702 -0.43904 -1.0634 1.028 0.0053943 0.04153 -0.018638 -0.55451 0.026166 0.28066 -0.66245 0.23435 0.2451 0.025668 -1.0869 -2.844 -0.51272 0.27286 0.0071502 0.033984 3.9084 0.52766 -0.66899 1.8238 0.43436 -0.30084 -0.26996 0.4394 0.69956 0.14885 0.029453 1.4888 0.52361 0.099354 1.2515 0.099381 -0.079261 -0.30862 0.30893 0.11023\n",
      "that 0.88387 -0.14199 0.13566 0.098682 0.51218 0.49138 -0.47155 -0.30742 0.01963 0.12686 0.073524 0.35836 -0.60874 -0.18676 0.78935 0.54534 0.1106 -0.2923 0.059041 -0.69551 -0.18804 0.19455 0.32269 -0.49981 0.306 -2.3902 -0.60749 0.37107 0.078912 -0.23896 3.839 -0.20355 -0.35613 -0.69185 -0.17497 -0.35323 0.10598 -0.039303 0.015701 0.038279 -0.35283 0.44882 -0.16534 0.31579 0.14963 -0.071277 -0.53506 0.52711 -0.20148 0.0095952\n",
      "on 0.30045 0.25006 -0.16692 0.1923 0.026921 -0.079486 -0.91383 -0.1974 -0.053413 -0.40846 -0.26844 -0.28212 -0.5 0.1221 0.3903 0.17797 -0.4429 -0.40478 -0.9505 -0.16897 0.77793 0.33525 0.3346 -0.1754 -0.12017 -1.7861 0.29241 0.55933 0.029982 -0.32417 3.9297 0.1088 -0.57335 -0.17842 0.0041748 -0.16309 0.45077 -0.16123 -0.17311 -0.087889 -0.089032 0.062001 -0.19946 -0.38863 -0.18232 0.060751 0.098603 -0.07131 0.23052 -0.51939\n",
      "is 0.6185 0.64254 -0.46552 0.3757 0.74838 0.53739 0.0022239 -0.60577 0.26408 0.11703 0.43722 0.20092 -0.057859 -0.34589 0.21664 0.58573 0.53919 0.6949 -0.15618 0.05583 -0.60515 -0.28997 -0.025594 0.55593 0.25356 -1.9612 -0.51381 0.69096 0.066246 -0.054224 3.7871 -0.77403 -0.12689 -0.51465 0.066705 -0.32933 0.13483 0.19049 0.13812 -0.21503 -0.016573 0.312 -0.33189 -0.026001 -0.38203 0.19403 -0.12466 -0.27557 0.30899 0.48497\n",
      "was 0.086888 -0.19416 -0.24267 -0.33391 0.56731 0.39783 -0.97809 0.03159 -0.61469 -0.31406 0.56145 0.12886 -0.84193 -0.46992 0.47097 0.023012 -0.59609 0.22291 -1.1614 0.3865 0.067412 0.44883 0.17394 -0.53574 0.17909 -2.1647 -0.12827 0.29036 -0.15061 0.35242 3.124 -0.90085 -0.02567 -0.41709 0.40565 -0.22703 0.76829 0.60982 0.070068 -0.13271 -0.1201 0.096132 -0.43998 -0.48531 -0.5188 -0.3077 -0.75028 -0.77 0.3945 -0.16937\n",
      "said 0.38973 -0.2121 0.51837 0.80136 1.0336 -0.27784 -0.84525 -0.25333 0.12586 -0.90342 0.24975 0.22022 -1.2053 -0.53771 1.0446 0.62778 0.39704 -0.15812 0.38102 -0.54674 -0.44009 1.0976 0.013069 -0.89971 0.41226 -2.2309 0.28997 0.32175 -0.72738 -0.092244 3.028 -0.062599 0.038329 0.0072918 -0.35388 -0.92256 0.097932 0.10068 1.2116 0.88233 -0.46297 1.3186 0.32705 -0.73446 0.89301 -0.45324 -1.2698 0.86119 0.1415 1.2018\n",
      "with 0.25616 0.43694 -0.11889 0.20345 0.41959 0.85863 -0.60344 -0.31835 -0.6718 0.003984 -0.075159 0.11043 -0.73534 0.27436 0.054015 -0.23828 -0.13767 0.011573 -0.46623 -0.55233 0.083317 0.55938 0.51903 -0.27065 -0.28211 -1.3918 0.17498 0.26586 0.061449 -0.273 3.9032 0.38169 -0.056009 -0.004425 0.24033 0.30675 -0.12638 0.33436 0.075485 -0.036218 0.13691 0.37762 -0.12159 -0.13808 0.19505 0.22793 -0.17304 -0.07573 -0.25868 -0.39339\n",
      "he -0.20092 -0.060271 -0.61766 -0.8444 0.5781 0.14671 -0.86098 0.6705 -0.86556 -0.18234 0.15856 0.45814 -1.0163 -0.35874 0.73869 -0.24048 -0.33893 0.25742 -0.78192 0.083528 0.1775 0.91773 0.64531 -0.19896 0.37416 -2.7525 -0.091586 0.040349 -0.064792 -0.31466 3.3944 0.044941 -0.55038 -0.65334 0.10436 0.016394 0.24388 1.0085 0.31412 -0.33806 -0.16925 0.10228 -0.62143 0.19829 -0.36147 -0.24769 -0.38989 -0.33317 -0.041659 -0.013171\n",
      "as 0.20782 0.12713 -0.30188 -0.23125 0.30175 0.33194 -0.52776 -0.44042 -0.48348 0.03502 0.34782 0.54574 -0.2066 -0.083713 0.2462 0.15931 -0.0031349 0.32443 -0.4527 -0.22178 0.022652 -0.041714 0.31815 0.088633 -0.03801 -1.8212 -0.50917 -0.097544 -0.08953 0.050476 3.718 -0.16503 -0.078733 -0.57101 0.20418 0.13411 0.074281 0.087502 -0.25443 -0.15011 -0.15768 0.39606 -0.23646 -0.095054 0.07859 -0.012305 -0.49879 -0.35301 0.05058 0.019495\n"
     ]
    }
   ],
   "source": [
    "!head -n 20 glove/glove.6B.50d.txt"
   ]
  },
  {
   "cell_type": "code",
   "execution_count": null,
   "metadata": {
    "id": "1tbq8CK_oJxD"
   },
   "outputs": [],
   "source": []
  },
  {
   "cell_type": "code",
   "execution_count": null,
   "metadata": {
    "id": "VgwAkEO8oJtH"
   },
   "outputs": [],
   "source": []
  },
  {
   "cell_type": "code",
   "execution_count": null,
   "metadata": {
    "id": "FFFWjwq1oJoN"
   },
   "outputs": [],
   "source": []
  },
  {
   "cell_type": "code",
   "execution_count": 1,
   "metadata": {
    "colab": {
     "base_uri": "https://localhost:8080/"
    },
    "id": "O0a9gx40iyUQ",
    "outputId": "614833ac-e730-4023-d1b8-d651f15c632a"
   },
   "outputs": [
    {
     "name": "stdout",
     "output_type": "stream",
     "text": [
      "Collecting emoji\n",
      "  Downloading emoji-1.7.0.tar.gz (175 kB)\n",
      "Building wheels for collected packages: emoji\n",
      "  Building wheel for emoji (setup.py): started\n",
      "  Building wheel for emoji (setup.py): finished with status 'done'\n",
      "  Created wheel for emoji: filename=emoji-1.7.0-py3-none-any.whl size=171047 sha256=cb86ce83fc7dd29ac984f3ac0b67dd243b87becca0a8a8157ed6933d1615debd\n",
      "  Stored in directory: c:\\users\\parvg\\appdata\\local\\pip\\cache\\wheels\\fa\\7a\\e9\\22dd0515e1bad255e51663ee513a2fa839c95934c5fc301090\n",
      "Successfully built emoji\n",
      "Installing collected packages: emoji\n",
      "Successfully installed emoji-1.7.0\n"
     ]
    }
   ],
   "source": [
    "! pip install emoji"
   ]
  },
  {
   "cell_type": "code",
   "execution_count": 2,
   "metadata": {
    "id": "jXDtay7WoKUB"
   },
   "outputs": [],
   "source": [
    "import emoji"
   ]
  },
  {
   "cell_type": "code",
   "execution_count": 3,
   "metadata": {
    "colab": {
     "base_uri": "https://localhost:8080/"
    },
    "id": "xkl4c9598GUf",
    "outputId": "266caafb-1393-43a9-b0f2-406d9b99c235"
   },
   "outputs": [
    {
     "data": {
      "text/plain": [
       "dict_keys(['en', 'es', 'pt', 'it', 'fr', 'de'])"
      ]
     },
     "execution_count": 3,
     "metadata": {},
     "output_type": "execute_result"
    }
   ],
   "source": [
    "emoji.EMOJI_UNICODE.keys()"
   ]
  },
  {
   "cell_type": "code",
   "execution_count": null,
   "metadata": {
    "colab": {
     "base_uri": "https://localhost:8080/"
    },
    "id": "UUlKLIK_opL9",
    "outputId": "84828dcd-c1ce-4111-c46d-223ce2cfdc00",
    "tags": []
   },
   "outputs": [
    {
     "data": {
      "text/plain": [
       "{':1st_place_medal:': '🥇',\n",
       " ':2nd_place_medal:': '🥈',\n",
       " ':3rd_place_medal:': '🥉',\n",
       " ':AB_button_(blood_type):': '🆎',\n",
       " ':ATM_sign:': '🏧',\n",
       " ':A_button_(blood_type):': '🅰️',\n",
       " ':Afghanistan:': '🇦🇫',\n",
       " ':Albania:': '🇦🇱',\n",
       " ':Algeria:': '🇩🇿',\n",
       " ':American_Samoa:': '🇦🇸',\n",
       " ':Andorra:': '🇦🇩',\n",
       " ':Angola:': '🇦🇴',\n",
       " ':Anguilla:': '🇦🇮',\n",
       " ':Antarctica:': '🇦🇶',\n",
       " ':Antigua_&_Barbuda:': '🇦🇬',\n",
       " ':Aquarius:': '♒',\n",
       " ':Argentina:': '🇦🇷',\n",
       " ':Aries:': '♈',\n",
       " ':Armenia:': '🇦🇲',\n",
       " ':Aruba:': '🇦🇼',\n",
       " ':Ascension_Island:': '🇦🇨',\n",
       " ':Australia:': '🇦🇺',\n",
       " ':Austria:': '🇦🇹',\n",
       " ':Azerbaijan:': '🇦🇿',\n",
       " ':BACK_arrow:': '🔙',\n",
       " ':B_button_(blood_type):': '🅱️',\n",
       " ':Bahamas:': '🇧🇸',\n",
       " ':Bahrain:': '🇧🇭',\n",
       " ':Bangladesh:': '🇧🇩',\n",
       " ':Barbados:': '🇧🇧',\n",
       " ':Belarus:': '🇧🇾',\n",
       " ':Belgium:': '🇧🇪',\n",
       " ':Belize:': '🇧🇿',\n",
       " ':Benin:': '🇧🇯',\n",
       " ':Bermuda:': '🇧🇲',\n",
       " ':Bhutan:': '🇧🇹',\n",
       " ':Bolivia:': '🇧🇴',\n",
       " ':Bosnia_&_Herzegovina:': '🇧🇦',\n",
       " ':Botswana:': '🇧🇼',\n",
       " ':Bouvet_Island:': '🇧🇻',\n",
       " ':Brazil:': '🇧🇷',\n",
       " ':British_Indian_Ocean_Territory:': '🇮🇴',\n",
       " ':British_Virgin_Islands:': '🇻🇬',\n",
       " ':Brunei:': '🇧🇳',\n",
       " ':Bulgaria:': '🇧🇬',\n",
       " ':Burkina_Faso:': '🇧🇫',\n",
       " ':Burundi:': '🇧🇮',\n",
       " ':CL_button:': '🆑',\n",
       " ':COOL_button:': '🆒',\n",
       " ':Cambodia:': '🇰🇭',\n",
       " ':Cameroon:': '🇨🇲',\n",
       " ':Canada:': '🇨🇦',\n",
       " ':Canary_Islands:': '🇮🇨',\n",
       " ':Cancer:': '♋',\n",
       " ':Cape_Verde:': '🇨🇻',\n",
       " ':Capricorn:': '♑',\n",
       " ':Caribbean_Netherlands:': '🇧🇶',\n",
       " ':Cayman_Islands:': '🇰🇾',\n",
       " ':Central_African_Republic:': '🇨🇫',\n",
       " ':Ceuta_&_Melilla:': '🇪🇦',\n",
       " ':Chad:': '🇹🇩',\n",
       " ':Chile:': '🇨🇱',\n",
       " ':China:': '🇨🇳',\n",
       " ':Christmas_Island:': '🇨🇽',\n",
       " ':Christmas_tree:': '🎄',\n",
       " ':Clipperton_Island:': '🇨🇵',\n",
       " ':Cocos_(Keeling)_Islands:': '🇨🇨',\n",
       " ':Colombia:': '🇨🇴',\n",
       " ':Comoros:': '🇰🇲',\n",
       " ':Congo_-_Brazzaville:': '🇨🇬',\n",
       " ':Congo_-_Kinshasa:': '🇨🇩',\n",
       " ':Cook_Islands:': '🇨🇰',\n",
       " ':Costa_Rica:': '🇨🇷',\n",
       " ':Croatia:': '🇭🇷',\n",
       " ':Cuba:': '🇨🇺',\n",
       " ':Curaçao:': '🇨🇼',\n",
       " ':Cyprus:': '🇨🇾',\n",
       " ':Czechia:': '🇨🇿',\n",
       " ':Côte_d’Ivoire:': '🇨🇮',\n",
       " ':Denmark:': '🇩🇰',\n",
       " ':Diego_Garcia:': '🇩🇬',\n",
       " ':Djibouti:': '🇩🇯',\n",
       " ':Dominica:': '🇩🇲',\n",
       " ':Dominican_Republic:': '🇩🇴',\n",
       " ':END_arrow:': '🔚',\n",
       " ':Ecuador:': '🇪🇨',\n",
       " ':Egypt:': '🇪🇬',\n",
       " ':El_Salvador:': '🇸🇻',\n",
       " ':England:': '🏴\\U000e0067\\U000e0062\\U000e0065\\U000e006e\\U000e0067\\U000e007f',\n",
       " ':Equatorial_Guinea:': '🇬🇶',\n",
       " ':Eritrea:': '🇪🇷',\n",
       " ':Estonia:': '🇪🇪',\n",
       " ':Eswatini:': '🇸🇿',\n",
       " ':Ethiopia:': '🇪🇹',\n",
       " ':European_Union:': '🇪🇺',\n",
       " ':FREE_button:': '🆓',\n",
       " ':Falkland_Islands:': '🇫🇰',\n",
       " ':Faroe_Islands:': '🇫🇴',\n",
       " ':Fiji:': '🇫🇯',\n",
       " ':Finland:': '🇫🇮',\n",
       " ':France:': '🇫🇷',\n",
       " ':French_Guiana:': '🇬🇫',\n",
       " ':French_Polynesia:': '🇵🇫',\n",
       " ':French_Southern_Territories:': '🇹🇫',\n",
       " ':Gabon:': '🇬🇦',\n",
       " ':Gambia:': '🇬🇲',\n",
       " ':Gemini:': '♊',\n",
       " ':Georgia:': '🇬🇪',\n",
       " ':Germany:': '🇩🇪',\n",
       " ':Ghana:': '🇬🇭',\n",
       " ':Gibraltar:': '🇬🇮',\n",
       " ':Greece:': '🇬🇷',\n",
       " ':Greenland:': '🇬🇱',\n",
       " ':Grenada:': '🇬🇩',\n",
       " ':Guadeloupe:': '🇬🇵',\n",
       " ':Guam:': '🇬🇺',\n",
       " ':Guatemala:': '🇬🇹',\n",
       " ':Guernsey:': '🇬🇬',\n",
       " ':Guinea:': '🇬🇳',\n",
       " ':Guinea-Bissau:': '🇬🇼',\n",
       " ':Guyana:': '🇬🇾',\n",
       " ':Haiti:': '🇭🇹',\n",
       " ':Heard_&_McDonald_Islands:': '🇭🇲',\n",
       " ':Honduras:': '🇭🇳',\n",
       " ':Hong_Kong_SAR_China:': '🇭🇰',\n",
       " ':Hungary:': '🇭🇺',\n",
       " ':ID_button:': '🆔',\n",
       " ':Iceland:': '🇮🇸',\n",
       " ':India:': '🇮🇳',\n",
       " ':Indonesia:': '🇮🇩',\n",
       " ':Iran:': '🇮🇷',\n",
       " ':Iraq:': '🇮🇶',\n",
       " ':Ireland:': '🇮🇪',\n",
       " ':Isle_of_Man:': '🇮🇲',\n",
       " ':Israel:': '🇮🇱',\n",
       " ':Italy:': '🇮🇹',\n",
       " ':Jamaica:': '🇯🇲',\n",
       " ':Japan:': '🇯🇵',\n",
       " ':Japanese_acceptable_button:': '🉑',\n",
       " ':Japanese_application_button:': '🈸',\n",
       " ':Japanese_bargain_button:': '🉐',\n",
       " ':Japanese_castle:': '🏯',\n",
       " ':Japanese_congratulations_button:': '㊗️',\n",
       " ':Japanese_discount_button:': '🈹',\n",
       " ':Japanese_dolls:': '🎎',\n",
       " ':Japanese_free_of_charge_button:': '🈚',\n",
       " ':Japanese_here_button:': '🈁',\n",
       " ':Japanese_monthly_amount_button:': '🈷️',\n",
       " ':Japanese_no_vacancy_button:': '🈵',\n",
       " ':Japanese_not_free_of_charge_button:': '🈶',\n",
       " ':Japanese_open_for_business_button:': '🈺',\n",
       " ':Japanese_passing_grade_button:': '🈴',\n",
       " ':Japanese_post_office:': '🏣',\n",
       " ':Japanese_prohibited_button:': '🈲',\n",
       " ':Japanese_reserved_button:': '🈯',\n",
       " ':Japanese_secret_button:': '㊙️',\n",
       " ':Japanese_service_charge_button:': '🈂️',\n",
       " ':Japanese_symbol_for_beginner:': '🔰',\n",
       " ':Japanese_vacancy_button:': '🈳',\n",
       " ':Jersey:': '🇯🇪',\n",
       " ':Jordan:': '🇯🇴',\n",
       " ':Kazakhstan:': '🇰🇿',\n",
       " ':Kenya:': '🇰🇪',\n",
       " ':Kiribati:': '🇰🇮',\n",
       " ':Kosovo:': '🇽🇰',\n",
       " ':Kuwait:': '🇰🇼',\n",
       " ':Kyrgyzstan:': '🇰🇬',\n",
       " ':Laos:': '🇱🇦',\n",
       " ':Latvia:': '🇱🇻',\n",
       " ':Lebanon:': '🇱🇧',\n",
       " ':Leo:': '♌',\n",
       " ':Lesotho:': '🇱🇸',\n",
       " ':Liberia:': '🇱🇷',\n",
       " ':Libra:': '♎',\n",
       " ':Libya:': '🇱🇾',\n",
       " ':Liechtenstein:': '🇱🇮',\n",
       " ':Lithuania:': '🇱🇹',\n",
       " ':Luxembourg:': '🇱🇺',\n",
       " ':Macao_SAR_China:': '🇲🇴',\n",
       " ':Madagascar:': '🇲🇬',\n",
       " ':Malawi:': '🇲🇼',\n",
       " ':Malaysia:': '🇲🇾',\n",
       " ':Maldives:': '🇲🇻',\n",
       " ':Mali:': '🇲🇱',\n",
       " ':Malta:': '🇲🇹',\n",
       " ':Marshall_Islands:': '🇲🇭',\n",
       " ':Martinique:': '🇲🇶',\n",
       " ':Mauritania:': '🇲🇷',\n",
       " ':Mauritius:': '🇲🇺',\n",
       " ':Mayotte:': '🇾🇹',\n",
       " ':Mexico:': '🇲🇽',\n",
       " ':Micronesia:': '🇫🇲',\n",
       " ':Moldova:': '🇲🇩',\n",
       " ':Monaco:': '🇲🇨',\n",
       " ':Mongolia:': '🇲🇳',\n",
       " ':Montenegro:': '🇲🇪',\n",
       " ':Montserrat:': '🇲🇸',\n",
       " ':Morocco:': '🇲🇦',\n",
       " ':Mozambique:': '🇲🇿',\n",
       " ':Mrs._Claus:': '🤶',\n",
       " ':Mrs._Claus_dark_skin_tone:': '🤶🏿',\n",
       " ':Mrs._Claus_light_skin_tone:': '🤶🏻',\n",
       " ':Mrs._Claus_medium-dark_skin_tone:': '🤶🏾',\n",
       " ':Mrs._Claus_medium-light_skin_tone:': '🤶🏼',\n",
       " ':Mrs._Claus_medium_skin_tone:': '🤶🏽',\n",
       " ':Myanmar_(Burma):': '🇲🇲',\n",
       " ':NEW_button:': '🆕',\n",
       " ':NG_button:': '🆖',\n",
       " ':Namibia:': '🇳🇦',\n",
       " ':Nauru:': '🇳🇷',\n",
       " ':Nepal:': '🇳🇵',\n",
       " ':Netherlands:': '🇳🇱',\n",
       " ':New_Caledonia:': '🇳🇨',\n",
       " ':New_Zealand:': '🇳🇿',\n",
       " ':Nicaragua:': '🇳🇮',\n",
       " ':Niger:': '🇳🇪',\n",
       " ':Nigeria:': '🇳🇬',\n",
       " ':Niue:': '🇳🇺',\n",
       " ':Norfolk_Island:': '🇳🇫',\n",
       " ':North_Korea:': '🇰🇵',\n",
       " ':North_Macedonia:': '🇲🇰',\n",
       " ':Northern_Mariana_Islands:': '🇲🇵',\n",
       " ':Norway:': '🇳🇴',\n",
       " ':OK_button:': '🆗',\n",
       " ':OK_hand:': '👌',\n",
       " ':OK_hand_dark_skin_tone:': '👌🏿',\n",
       " ':OK_hand_light_skin_tone:': '👌🏻',\n",
       " ':OK_hand_medium-dark_skin_tone:': '👌🏾',\n",
       " ':OK_hand_medium-light_skin_tone:': '👌🏼',\n",
       " ':OK_hand_medium_skin_tone:': '👌🏽',\n",
       " ':ON!_arrow:': '🔛',\n",
       " ':O_button_(blood_type):': '🅾️',\n",
       " ':Oman:': '🇴🇲',\n",
       " ':Ophiuchus:': '⛎',\n",
       " ':P_button:': '🅿️',\n",
       " ':Pakistan:': '🇵🇰',\n",
       " ':Palau:': '🇵🇼',\n",
       " ':Palestinian_Territories:': '🇵🇸',\n",
       " ':Panama:': '🇵🇦',\n",
       " ':Papua_New_Guinea:': '🇵🇬',\n",
       " ':Paraguay:': '🇵🇾',\n",
       " ':Peru:': '🇵🇪',\n",
       " ':Philippines:': '🇵🇭',\n",
       " ':Pisces:': '♓',\n",
       " ':Pitcairn_Islands:': '🇵🇳',\n",
       " ':Poland:': '🇵🇱',\n",
       " ':Portugal:': '🇵🇹',\n",
       " ':Puerto_Rico:': '🇵🇷',\n",
       " ':Qatar:': '🇶🇦',\n",
       " ':Romania:': '🇷🇴',\n",
       " ':Russia:': '🇷🇺',\n",
       " ':Rwanda:': '🇷🇼',\n",
       " ':Réunion:': '🇷🇪',\n",
       " ':SOON_arrow:': '🔜',\n",
       " ':SOS_button:': '🆘',\n",
       " ':Sagittarius:': '♐',\n",
       " ':Samoa:': '🇼🇸',\n",
       " ':San_Marino:': '🇸🇲',\n",
       " ':Santa_Claus:': '🎅',\n",
       " ':Santa_Claus_dark_skin_tone:': '🎅🏿',\n",
       " ':Santa_Claus_light_skin_tone:': '🎅🏻',\n",
       " ':Santa_Claus_medium-dark_skin_tone:': '🎅🏾',\n",
       " ':Santa_Claus_medium-light_skin_tone:': '🎅🏼',\n",
       " ':Santa_Claus_medium_skin_tone:': '🎅🏽',\n",
       " ':Saudi_Arabia:': '🇸🇦',\n",
       " ':Scorpio:': '♏',\n",
       " ':Scotland:': '🏴\\U000e0067\\U000e0062\\U000e0073\\U000e0063\\U000e0074\\U000e007f',\n",
       " ':Senegal:': '🇸🇳',\n",
       " ':Serbia:': '🇷🇸',\n",
       " ':Seychelles:': '🇸🇨',\n",
       " ':Sierra_Leone:': '🇸🇱',\n",
       " ':Singapore:': '🇸🇬',\n",
       " ':Sint_Maarten:': '🇸🇽',\n",
       " ':Slovakia:': '🇸🇰',\n",
       " ':Slovenia:': '🇸🇮',\n",
       " ':Solomon_Islands:': '🇸🇧',\n",
       " ':Somalia:': '🇸🇴',\n",
       " ':South_Africa:': '🇿🇦',\n",
       " ':South_Georgia_&_South_Sandwich_Islands:': '🇬🇸',\n",
       " ':South_Korea:': '🇰🇷',\n",
       " ':South_Sudan:': '🇸🇸',\n",
       " ':Spain:': '🇪🇸',\n",
       " ':Sri_Lanka:': '🇱🇰',\n",
       " ':St._Barthélemy:': '🇧🇱',\n",
       " ':St._Helena:': '🇸🇭',\n",
       " ':St._Kitts_&_Nevis:': '🇰🇳',\n",
       " ':St._Lucia:': '🇱🇨',\n",
       " ':St._Martin:': '🇲🇫',\n",
       " ':St._Pierre_&_Miquelon:': '🇵🇲',\n",
       " ':St._Vincent_&_Grenadines:': '🇻🇨',\n",
       " ':Statue_of_Liberty:': '🗽',\n",
       " ':Sudan:': '🇸🇩',\n",
       " ':Suriname:': '🇸🇷',\n",
       " ':Svalbard_&_Jan_Mayen:': '🇸🇯',\n",
       " ':Sweden:': '🇸🇪',\n",
       " ':Switzerland:': '🇨🇭',\n",
       " ':Syria:': '🇸🇾',\n",
       " ':São_Tomé_&_Príncipe:': '🇸🇹',\n",
       " ':T-Rex:': '🦖',\n",
       " ':TOP_arrow:': '🔝',\n",
       " ':Taiwan:': '🇹🇼',\n",
       " ':Tajikistan:': '🇹🇯',\n",
       " ':Tanzania:': '🇹🇿',\n",
       " ':Taurus:': '♉',\n",
       " ':Thailand:': '🇹🇭',\n",
       " ':Timor-Leste:': '🇹🇱',\n",
       " ':Togo:': '🇹🇬',\n",
       " ':Tokelau:': '🇹🇰',\n",
       " ':Tokyo_tower:': '🗼',\n",
       " ':Tonga:': '🇹🇴',\n",
       " ':Trinidad_&_Tobago:': '🇹🇹',\n",
       " ':Tristan_da_Cunha:': '🇹🇦',\n",
       " ':Tunisia:': '🇹🇳',\n",
       " ':Turkey:': '🇹🇷',\n",
       " ':Turkmenistan:': '🇹🇲',\n",
       " ':Turks_&_Caicos_Islands:': '🇹🇨',\n",
       " ':Tuvalu:': '🇹🇻',\n",
       " ':U.S._Outlying_Islands:': '🇺🇲',\n",
       " ':U.S._Virgin_Islands:': '🇻🇮',\n",
       " ':UP!_button:': '🆙',\n",
       " ':Uganda:': '🇺🇬',\n",
       " ':Ukraine:': '🇺🇦',\n",
       " ':United_Arab_Emirates:': '🇦🇪',\n",
       " ':United_Kingdom:': '🇬🇧',\n",
       " ':United_Nations:': '🇺🇳',\n",
       " ':United_States:': '🇺🇸',\n",
       " ':Uruguay:': '🇺🇾',\n",
       " ':Uzbekistan:': '🇺🇿',\n",
       " ':VS_button:': '🆚',\n",
       " ':Vanuatu:': '🇻🇺',\n",
       " ':Vatican_City:': '🇻🇦',\n",
       " ':Venezuela:': '🇻🇪',\n",
       " ':Vietnam:': '🇻🇳',\n",
       " ':Virgo:': '♍',\n",
       " ':Wales:': '🏴\\U000e0067\\U000e0062\\U000e0077\\U000e006c\\U000e0073\\U000e007f',\n",
       " ':Wallis_&_Futuna:': '🇼🇫',\n",
       " ':Western_Sahara:': '🇪🇭',\n",
       " ':Yemen:': '🇾🇪',\n",
       " ':Zambia:': '🇿🇲',\n",
       " ':Zimbabwe:': '🇿🇼',\n",
       " ':abacus:': '🧮',\n",
       " ':accordion:': '\\U0001fa97',\n",
       " ':adhesive_bandage:': '\\U0001fa79',\n",
       " ':admission_tickets:': '🎟️',\n",
       " ':aerial_tramway:': '🚡',\n",
       " ':airplane:': '✈️',\n",
       " ':airplane_arrival:': '🛬',\n",
       " ':airplane_departure:': '🛫',\n",
       " ':alarm_clock:': '⏰',\n",
       " ':alembic:': '⚗️',\n",
       " ':alien:': '👽',\n",
       " ':alien_monster:': '👾',\n",
       " ':ambulance:': '🚑',\n",
       " ':american_football:': '🏈',\n",
       " ':amphora:': '🏺',\n",
       " ':anatomical_heart:': '\\U0001fac0',\n",
       " ':anchor:': '⚓',\n",
       " ':anger_symbol:': '💢',\n",
       " ':angry_face:': '😠',\n",
       " ':angry_face_with_horns:': '👿',\n",
       " ':anguished_face:': '😧',\n",
       " ':ant:': '🐜',\n",
       " ':antenna_bars:': '📶',\n",
       " ':anxious_face_with_sweat:': '😰',\n",
       " ':articulated_lorry:': '🚛',\n",
       " ':artist:': '🧑\\u200d🎨',\n",
       " ':artist_dark_skin_tone:': '🧑🏿\\u200d🎨',\n",
       " ':artist_light_skin_tone:': '🧑🏻\\u200d🎨',\n",
       " ':artist_medium-dark_skin_tone:': '🧑🏾\\u200d🎨',\n",
       " ':artist_medium-light_skin_tone:': '🧑🏼\\u200d🎨',\n",
       " ':artist_medium_skin_tone:': '🧑🏽\\u200d🎨',\n",
       " ':artist_palette:': '🎨',\n",
       " ':astonished_face:': '😲',\n",
       " ':astronaut:': '🧑\\u200d🚀',\n",
       " ':astronaut_dark_skin_tone:': '🧑🏿\\u200d🚀',\n",
       " ':astronaut_light_skin_tone:': '🧑🏻\\u200d🚀',\n",
       " ':astronaut_medium-dark_skin_tone:': '🧑🏾\\u200d🚀',\n",
       " ':astronaut_medium-light_skin_tone:': '🧑🏼\\u200d🚀',\n",
       " ':astronaut_medium_skin_tone:': '🧑🏽\\u200d🚀',\n",
       " ':atom_symbol:': '⚛️',\n",
       " ':auto_rickshaw:': '\\U0001f6fa',\n",
       " ':automobile:': '🚗',\n",
       " ':avocado:': '🥑',\n",
       " ':axe:': '\\U0001fa93',\n",
       " ':baby:': '👶',\n",
       " ':baby_angel:': '👼',\n",
       " ':baby_angel_dark_skin_tone:': '👼🏿',\n",
       " ':baby_angel_light_skin_tone:': '👼🏻',\n",
       " ':baby_angel_medium-dark_skin_tone:': '👼🏾',\n",
       " ':baby_angel_medium-light_skin_tone:': '👼🏼',\n",
       " ':baby_angel_medium_skin_tone:': '👼🏽',\n",
       " ':baby_bottle:': '🍼',\n",
       " ':baby_chick:': '🐤',\n",
       " ':baby_dark_skin_tone:': '👶🏿',\n",
       " ':baby_light_skin_tone:': '👶🏻',\n",
       " ':baby_medium-dark_skin_tone:': '👶🏾',\n",
       " ':baby_medium-light_skin_tone:': '👶🏼',\n",
       " ':baby_medium_skin_tone:': '👶🏽',\n",
       " ':baby_symbol:': '🚼',\n",
       " ':backhand_index_pointing_down:': '👇',\n",
       " ':backhand_index_pointing_down_dark_skin_tone:': '👇🏿',\n",
       " ':backhand_index_pointing_down_light_skin_tone:': '👇🏻',\n",
       " ':backhand_index_pointing_down_medium-dark_skin_tone:': '👇🏾',\n",
       " ':backhand_index_pointing_down_medium-light_skin_tone:': '👇🏼',\n",
       " ':backhand_index_pointing_down_medium_skin_tone:': '👇🏽',\n",
       " ':backhand_index_pointing_left:': '👈',\n",
       " ':backhand_index_pointing_left_dark_skin_tone:': '👈🏿',\n",
       " ':backhand_index_pointing_left_light_skin_tone:': '👈🏻',\n",
       " ':backhand_index_pointing_left_medium-dark_skin_tone:': '👈🏾',\n",
       " ':backhand_index_pointing_left_medium-light_skin_tone:': '👈🏼',\n",
       " ':backhand_index_pointing_left_medium_skin_tone:': '👈🏽',\n",
       " ':backhand_index_pointing_right:': '👉',\n",
       " ':backhand_index_pointing_right_dark_skin_tone:': '👉🏿',\n",
       " ':backhand_index_pointing_right_light_skin_tone:': '👉🏻',\n",
       " ':backhand_index_pointing_right_medium-dark_skin_tone:': '👉🏾',\n",
       " ':backhand_index_pointing_right_medium-light_skin_tone:': '👉🏼',\n",
       " ':backhand_index_pointing_right_medium_skin_tone:': '👉🏽',\n",
       " ':backhand_index_pointing_up:': '👆',\n",
       " ':backhand_index_pointing_up_dark_skin_tone:': '👆🏿',\n",
       " ':backhand_index_pointing_up_light_skin_tone:': '👆🏻',\n",
       " ':backhand_index_pointing_up_medium-dark_skin_tone:': '👆🏾',\n",
       " ':backhand_index_pointing_up_medium-light_skin_tone:': '👆🏼',\n",
       " ':backhand_index_pointing_up_medium_skin_tone:': '👆🏽',\n",
       " ':backpack:': '🎒',\n",
       " ':bacon:': '🥓',\n",
       " ':badger:': '🦡',\n",
       " ':badminton:': '🏸',\n",
       " ':bagel:': '🥯',\n",
       " ':baggage_claim:': '🛄',\n",
       " ':baguette_bread:': '🥖',\n",
       " ':balance_scale:': '⚖️',\n",
       " ':bald:': '🦲',\n",
       " ':ballet_shoes:': '\\U0001fa70',\n",
       " ':balloon:': '🎈',\n",
       " ':ballot_box_with_ballot:': '🗳️',\n",
       " ':banana:': '🍌',\n",
       " ':banjo:': '\\U0001fa95',\n",
       " ':bank:': '🏦',\n",
       " ':bar_chart:': '📊',\n",
       " ':barber_pole:': '💈',\n",
       " ':baseball:': '⚾',\n",
       " ':basket:': '🧺',\n",
       " ':basketball:': '🏀',\n",
       " ':bat:': '🦇',\n",
       " ':bathtub:': '🛁',\n",
       " ':battery:': '🔋',\n",
       " ':beach_with_umbrella:': '🏖️',\n",
       " ':beaming_face_with_smiling_eyes:': '😁',\n",
       " ':beans:': '\\U0001fad8',\n",
       " ':bear:': '🐻',\n",
       " ':beating_heart:': '💓',\n",
       " ':beaver:': '\\U0001f9ab',\n",
       " ':bed:': '🛏️',\n",
       " ':beer_mug:': '🍺',\n",
       " ':beetle:': '\\U0001fab2',\n",
       " ':bell:': '🔔',\n",
       " ':bell_pepper:': '\\U0001fad1',\n",
       " ':bell_with_slash:': '🔕',\n",
       " ':bellhop_bell:': '🛎️',\n",
       " ':bento_box:': '🍱',\n",
       " ':beverage_box:': '\\U0001f9c3',\n",
       " ':bicycle:': '🚲',\n",
       " ':bikini:': '👙',\n",
       " ':billed_cap:': '🧢',\n",
       " ':biohazard:': '☣️',\n",
       " ':bird:': '🐦',\n",
       " ':birthday_cake:': '🎂',\n",
       " ':bison:': '\\U0001f9ac',\n",
       " ':biting_lip:': '\\U0001fae6',\n",
       " ':black_cat:': '🐈\\u200d⬛',\n",
       " ':black_circle:': '⚫',\n",
       " ':black_flag:': '🏴',\n",
       " ':black_heart:': '🖤',\n",
       " ':black_large_square:': '⬛',\n",
       " ':black_medium-small_square:': '◾',\n",
       " ':black_medium_square:': '◼️',\n",
       " ':black_nib:': '✒️',\n",
       " ':black_small_square:': '▪️',\n",
       " ':black_square_button:': '🔲',\n",
       " ':blossom:': '🌼',\n",
       " ':blowfish:': '🐡',\n",
       " ':blue_book:': '📘',\n",
       " ':blue_circle:': '🔵',\n",
       " ':blue_heart:': '💙',\n",
       " ':blue_square:': '\\U0001f7e6',\n",
       " ':blueberries:': '\\U0001fad0',\n",
       " ':boar:': '🐗',\n",
       " ':bomb:': '💣',\n",
       " ':bone:': '🦴',\n",
       " ':bookmark:': '🔖',\n",
       " ':bookmark_tabs:': '📑',\n",
       " ':books:': '📚',\n",
       " ':boomerang:': '\\U0001fa83',\n",
       " ':bottle_with_popping_cork:': '🍾',\n",
       " ':bouquet:': '💐',\n",
       " ':bow_and_arrow:': '🏹',\n",
       " ':bowl_with_spoon:': '🥣',\n",
       " ':bowling:': '🎳',\n",
       " ':boxing_glove:': '🥊',\n",
       " ':boy:': '👦',\n",
       " ':boy_dark_skin_tone:': '👦🏿',\n",
       " ':boy_light_skin_tone:': '👦🏻',\n",
       " ':boy_medium-dark_skin_tone:': '👦🏾',\n",
       " ':boy_medium-light_skin_tone:': '👦🏼',\n",
       " ':boy_medium_skin_tone:': '👦🏽',\n",
       " ':brain:': '🧠',\n",
       " ':bread:': '🍞',\n",
       " ':breast-feeding:': '🤱',\n",
       " ':breast-feeding_dark_skin_tone:': '🤱🏿',\n",
       " ':breast-feeding_light_skin_tone:': '🤱🏻',\n",
       " ':breast-feeding_medium-dark_skin_tone:': '🤱🏾',\n",
       " ':breast-feeding_medium-light_skin_tone:': '🤱🏼',\n",
       " ':breast-feeding_medium_skin_tone:': '🤱🏽',\n",
       " ':brick:': '🧱',\n",
       " ':bridge_at_night:': '🌉',\n",
       " ':briefcase:': '💼',\n",
       " ':briefs:': '\\U0001fa72',\n",
       " ':bright_button:': '🔆',\n",
       " ':broccoli:': '🥦',\n",
       " ':broken_heart:': '💔',\n",
       " ':broom:': '🧹',\n",
       " ':brown_circle:': '\\U0001f7e4',\n",
       " ':brown_heart:': '\\U0001f90e',\n",
       " ':brown_square:': '\\U0001f7eb',\n",
       " ':bubble_tea:': '\\U0001f9cb',\n",
       " ':bubbles:': '\\U0001fae7',\n",
       " ':bucket:': '\\U0001faa3',\n",
       " ':bug:': '🐛',\n",
       " ':building_construction:': '🏗️',\n",
       " ':bullet_train:': '🚅',\n",
       " ':bullseye:': '🎯',\n",
       " ':burrito:': '🌯',\n",
       " ':bus:': '🚌',\n",
       " ':bus_stop:': '🚏',\n",
       " ':bust_in_silhouette:': '👤',\n",
       " ':busts_in_silhouette:': '👥',\n",
       " ':butter:': '\\U0001f9c8',\n",
       " ':butterfly:': '🦋',\n",
       " ':cactus:': '🌵',\n",
       " ':calendar:': '📅',\n",
       " ':call_me_hand:': '🤙',\n",
       " ':call_me_hand_dark_skin_tone:': '🤙🏿',\n",
       " ':call_me_hand_light_skin_tone:': '🤙🏻',\n",
       " ':call_me_hand_medium-dark_skin_tone:': '🤙🏾',\n",
       " ':call_me_hand_medium-light_skin_tone:': '🤙🏼',\n",
       " ':call_me_hand_medium_skin_tone:': '🤙🏽',\n",
       " ':camel:': '🐪',\n",
       " ':camera:': '📷',\n",
       " ':camera_with_flash:': '📸',\n",
       " ':camping:': '🏕️',\n",
       " ':candle:': '🕯️',\n",
       " ':candy:': '🍬',\n",
       " ':canned_food:': '🥫',\n",
       " ':canoe:': '🛶',\n",
       " ':card_file_box:': '🗃️',\n",
       " ':card_index:': '📇',\n",
       " ':card_index_dividers:': '🗂️',\n",
       " ':carousel_horse:': '🎠',\n",
       " ':carp_streamer:': '🎏',\n",
       " ':carpentry_saw:': '\\U0001fa9a',\n",
       " ':carrot:': '🥕',\n",
       " ':castle:': '🏰',\n",
       " ':cat:': '🐈',\n",
       " ':cat_face:': '🐱',\n",
       " ':cat_with_tears_of_joy:': '😹',\n",
       " ':cat_with_wry_smile:': '😼',\n",
       " ':chains:': '⛓️',\n",
       " ':chair:': '\\U0001fa91',\n",
       " ':chart_decreasing:': '📉',\n",
       " ':chart_increasing:': '📈',\n",
       " ':chart_increasing_with_yen:': '💹',\n",
       " ':check_box_with_check:': '☑️',\n",
       " ':check_mark:': '✔️',\n",
       " ':check_mark_button:': '✅',\n",
       " ':cheese_wedge:': '🧀',\n",
       " ':chequered_flag:': '🏁',\n",
       " ':cherries:': '🍒',\n",
       " ':cherry_blossom:': '🌸',\n",
       " ':chess_pawn:': '♟️',\n",
       " ':chestnut:': '🌰',\n",
       " ':chicken:': '🐔',\n",
       " ':child:': '🧒',\n",
       " ':child_dark_skin_tone:': '🧒🏿',\n",
       " ':child_light_skin_tone:': '🧒🏻',\n",
       " ':child_medium-dark_skin_tone:': '🧒🏾',\n",
       " ':child_medium-light_skin_tone:': '🧒🏼',\n",
       " ':child_medium_skin_tone:': '🧒🏽',\n",
       " ':children_crossing:': '🚸',\n",
       " ':chipmunk:': '🐿️',\n",
       " ':chocolate_bar:': '🍫',\n",
       " ':chopsticks:': '🥢',\n",
       " ':church:': '⛪',\n",
       " ':cigarette:': '🚬',\n",
       " ':cinema:': '🎦',\n",
       " ':circled_M:': 'Ⓜ️',\n",
       " ':circus_tent:': '🎪',\n",
       " ':cityscape:': '🏙️',\n",
       " ':cityscape_at_dusk:': '🌆',\n",
       " ':clamp:': '🗜️',\n",
       " ':clapper_board:': '🎬',\n",
       " ':clapping_hands:': '👏',\n",
       " ':clapping_hands_dark_skin_tone:': '👏🏿',\n",
       " ':clapping_hands_light_skin_tone:': '👏🏻',\n",
       " ':clapping_hands_medium-dark_skin_tone:': '👏🏾',\n",
       " ':clapping_hands_medium-light_skin_tone:': '👏🏼',\n",
       " ':clapping_hands_medium_skin_tone:': '👏🏽',\n",
       " ':classical_building:': '🏛️',\n",
       " ':clinking_beer_mugs:': '🍻',\n",
       " ':clinking_glasses:': '🥂',\n",
       " ':clipboard:': '📋',\n",
       " ':clockwise_vertical_arrows:': '🔃',\n",
       " ':closed_book:': '📕',\n",
       " ':closed_mailbox_with_lowered_flag:': '📪',\n",
       " ':closed_mailbox_with_raised_flag:': '📫',\n",
       " ':closed_umbrella:': '🌂',\n",
       " ':cloud:': '☁️',\n",
       " ':cloud_with_lightning:': '🌩️',\n",
       " ':cloud_with_lightning_and_rain:': '⛈️',\n",
       " ':cloud_with_rain:': '🌧️',\n",
       " ':cloud_with_snow:': '🌨️',\n",
       " ':clown_face:': '🤡',\n",
       " ':club_suit:': '♣️',\n",
       " ':clutch_bag:': '👝',\n",
       " ':coat:': '🧥',\n",
       " ':cockroach:': '\\U0001fab3',\n",
       " ':cocktail_glass:': '🍸',\n",
       " ':coconut:': '🥥',\n",
       " ':coffin:': '⚰️',\n",
       " ':coin:': '\\U0001fa99',\n",
       " ':cold_face:': '🥶',\n",
       " ':collision:': '💥',\n",
       " ':comet:': '☄️',\n",
       " ':compass:': '🧭',\n",
       " ':computer_disk:': '💽',\n",
       " ':computer_mouse:': '🖱️',\n",
       " ':confetti_ball:': '🎊',\n",
       " ':confounded_face:': '😖',\n",
       " ':confused_face:': '😕',\n",
       " ':construction:': '🚧',\n",
       " ':construction_worker:': '👷',\n",
       " ':construction_worker_dark_skin_tone:': '👷🏿',\n",
       " ':construction_worker_light_skin_tone:': '👷🏻',\n",
       " ':construction_worker_medium-dark_skin_tone:': '👷🏾',\n",
       " ':construction_worker_medium-light_skin_tone:': '👷🏼',\n",
       " ':construction_worker_medium_skin_tone:': '👷🏽',\n",
       " ':control_knobs:': '🎛️',\n",
       " ':convenience_store:': '🏪',\n",
       " ':cook:': '🧑\\u200d🍳',\n",
       " ':cook_dark_skin_tone:': '🧑🏿\\u200d🍳',\n",
       " ':cook_light_skin_tone:': '🧑🏻\\u200d🍳',\n",
       " ':cook_medium-dark_skin_tone:': '🧑🏾\\u200d🍳',\n",
       " ':cook_medium-light_skin_tone:': '🧑🏼\\u200d🍳',\n",
       " ':cook_medium_skin_tone:': '🧑🏽\\u200d🍳',\n",
       " ':cooked_rice:': '🍚',\n",
       " ':cookie:': '🍪',\n",
       " ':cooking:': '🍳',\n",
       " ':copyright:': '©️',\n",
       " ':coral:': '\\U0001fab8',\n",
       " ':couch_and_lamp:': '🛋️',\n",
       " ':counterclockwise_arrows_button:': '🔄',\n",
       " ':couple_with_heart:': '💑',\n",
       " ':couple_with_heart_dark_skin_tone:': '💑🏿',\n",
       " ':couple_with_heart_light_skin_tone:': '💑🏻',\n",
       " ':couple_with_heart_man_man:': '👨\\u200d❤️\\u200d👨',\n",
       " ':couple_with_heart_man_man_dark_skin_tone:': '👨🏿\\u200d❤️\\u200d👨🏿',\n",
       " ':couple_with_heart_man_man_dark_skin_tone_light_skin_tone:': '👨🏿\\u200d❤️\\u200d👨🏻',\n",
       " ':couple_with_heart_man_man_dark_skin_tone_medium-dark_skin_tone:': '👨🏿\\u200d❤️\\u200d👨🏾',\n",
       " ':couple_with_heart_man_man_dark_skin_tone_medium-light_skin_tone:': '👨🏿\\u200d❤️\\u200d👨🏼',\n",
       " ':couple_with_heart_man_man_dark_skin_tone_medium_skin_tone:': '👨🏿\\u200d❤️\\u200d👨🏽',\n",
       " ':couple_with_heart_man_man_light_skin_tone:': '👨🏻\\u200d❤️\\u200d👨🏻',\n",
       " ':couple_with_heart_man_man_light_skin_tone_dark_skin_tone:': '👨🏻\\u200d❤️\\u200d👨🏿',\n",
       " ':couple_with_heart_man_man_light_skin_tone_medium-dark_skin_tone:': '👨🏻\\u200d❤️\\u200d👨🏾',\n",
       " ':couple_with_heart_man_man_light_skin_tone_medium-light_skin_tone:': '👨🏻\\u200d❤️\\u200d👨🏼',\n",
       " ':couple_with_heart_man_man_light_skin_tone_medium_skin_tone:': '👨🏻\\u200d❤️\\u200d👨🏽',\n",
       " ':couple_with_heart_man_man_medium-dark_skin_tone:': '👨🏾\\u200d❤️\\u200d👨🏾',\n",
       " ':couple_with_heart_man_man_medium-dark_skin_tone_dark_skin_tone:': '👨🏾\\u200d❤️\\u200d👨🏿',\n",
       " ':couple_with_heart_man_man_medium-dark_skin_tone_light_skin_tone:': '👨🏾\\u200d❤️\\u200d👨🏻',\n",
       " ':couple_with_heart_man_man_medium-dark_skin_tone_medium-light_skin_tone:': '👨🏾\\u200d❤️\\u200d👨🏼',\n",
       " ':couple_with_heart_man_man_medium-dark_skin_tone_medium_skin_tone:': '👨🏾\\u200d❤️\\u200d👨🏽',\n",
       " ':couple_with_heart_man_man_medium-light_skin_tone:': '👨🏼\\u200d❤️\\u200d👨🏼',\n",
       " ':couple_with_heart_man_man_medium-light_skin_tone_dark_skin_tone:': '👨🏼\\u200d❤️\\u200d👨🏿',\n",
       " ':couple_with_heart_man_man_medium-light_skin_tone_light_skin_tone:': '👨🏼\\u200d❤️\\u200d👨🏻',\n",
       " ':couple_with_heart_man_man_medium-light_skin_tone_medium-dark_skin_tone:': '👨🏼\\u200d❤️\\u200d👨🏾',\n",
       " ':couple_with_heart_man_man_medium-light_skin_tone_medium_skin_tone:': '👨🏼\\u200d❤️\\u200d👨🏽',\n",
       " ':couple_with_heart_man_man_medium_skin_tone:': '👨🏽\\u200d❤️\\u200d👨🏽',\n",
       " ':couple_with_heart_man_man_medium_skin_tone_dark_skin_tone:': '👨🏽\\u200d❤️\\u200d👨🏿',\n",
       " ':couple_with_heart_man_man_medium_skin_tone_light_skin_tone:': '👨🏽\\u200d❤️\\u200d👨🏻',\n",
       " ':couple_with_heart_man_man_medium_skin_tone_medium-dark_skin_tone:': '👨🏽\\u200d❤️\\u200d👨🏾',\n",
       " ':couple_with_heart_man_man_medium_skin_tone_medium-light_skin_tone:': '👨🏽\\u200d❤️\\u200d👨🏼',\n",
       " ':couple_with_heart_medium-dark_skin_tone:': '💑🏾',\n",
       " ':couple_with_heart_medium-light_skin_tone:': '💑🏼',\n",
       " ':couple_with_heart_medium_skin_tone:': '💑🏽',\n",
       " ':couple_with_heart_person_person_dark_skin_tone_light_skin_tone:': '🧑🏿\\u200d❤️\\u200d🧑🏻',\n",
       " ':couple_with_heart_person_person_dark_skin_tone_medium-dark_skin_tone:': '🧑🏿\\u200d❤️\\u200d🧑🏾',\n",
       " ':couple_with_heart_person_person_dark_skin_tone_medium-light_skin_tone:': '🧑🏿\\u200d❤️\\u200d🧑🏼',\n",
       " ':couple_with_heart_person_person_dark_skin_tone_medium_skin_tone:': '🧑🏿\\u200d❤️\\u200d🧑🏽',\n",
       " ':couple_with_heart_person_person_light_skin_tone_dark_skin_tone:': '🧑🏻\\u200d❤️\\u200d🧑🏿',\n",
       " ':couple_with_heart_person_person_light_skin_tone_medium-dark_skin_tone:': '🧑🏻\\u200d❤️\\u200d🧑🏾',\n",
       " ':couple_with_heart_person_person_light_skin_tone_medium-light_skin_tone:': '🧑🏻\\u200d❤️\\u200d🧑🏼',\n",
       " ':couple_with_heart_person_person_light_skin_tone_medium_skin_tone:': '🧑🏻\\u200d❤️\\u200d🧑🏽',\n",
       " ':couple_with_heart_person_person_medium-dark_skin_tone_dark_skin_tone:': '🧑🏾\\u200d❤️\\u200d🧑🏿',\n",
       " ':couple_with_heart_person_person_medium-dark_skin_tone_light_skin_tone:': '🧑🏾\\u200d❤️\\u200d🧑🏻',\n",
       " ':couple_with_heart_person_person_medium-dark_skin_tone_medium-light_skin_tone:': '🧑🏾\\u200d❤️\\u200d🧑🏼',\n",
       " ':couple_with_heart_person_person_medium-dark_skin_tone_medium_skin_tone:': '🧑🏾\\u200d❤️\\u200d🧑🏽',\n",
       " ':couple_with_heart_person_person_medium-light_skin_tone_dark_skin_tone:': '🧑🏼\\u200d❤️\\u200d🧑🏿',\n",
       " ':couple_with_heart_person_person_medium-light_skin_tone_light_skin_tone:': '🧑🏼\\u200d❤️\\u200d🧑🏻',\n",
       " ':couple_with_heart_person_person_medium-light_skin_tone_medium-dark_skin_tone:': '🧑🏼\\u200d❤️\\u200d🧑🏾',\n",
       " ':couple_with_heart_person_person_medium-light_skin_tone_medium_skin_tone:': '🧑🏼\\u200d❤️\\u200d🧑🏽',\n",
       " ':couple_with_heart_person_person_medium_skin_tone_dark_skin_tone:': '🧑🏽\\u200d❤️\\u200d🧑🏿',\n",
       " ':couple_with_heart_person_person_medium_skin_tone_light_skin_tone:': '🧑🏽\\u200d❤️\\u200d🧑🏻',\n",
       " ':couple_with_heart_person_person_medium_skin_tone_medium-dark_skin_tone:': '🧑🏽\\u200d❤️\\u200d🧑🏾',\n",
       " ':couple_with_heart_person_person_medium_skin_tone_medium-light_skin_tone:': '🧑🏽\\u200d❤️\\u200d🧑🏼',\n",
       " ':couple_with_heart_woman_man:': '👩\\u200d❤️\\u200d👨',\n",
       " ':couple_with_heart_woman_man_dark_skin_tone:': '👩🏿\\u200d❤️\\u200d👨🏿',\n",
       " ':couple_with_heart_woman_man_dark_skin_tone_light_skin_tone:': '👩🏿\\u200d❤️\\u200d👨🏻',\n",
       " ':couple_with_heart_woman_man_dark_skin_tone_medium-dark_skin_tone:': '👩🏿\\u200d❤️\\u200d👨🏾',\n",
       " ':couple_with_heart_woman_man_dark_skin_tone_medium-light_skin_tone:': '👩🏿\\u200d❤️\\u200d👨🏼',\n",
       " ':couple_with_heart_woman_man_dark_skin_tone_medium_skin_tone:': '👩🏿\\u200d❤️\\u200d👨🏽',\n",
       " ':couple_with_heart_woman_man_light_skin_tone:': '👩🏻\\u200d❤️\\u200d👨🏻',\n",
       " ':couple_with_heart_woman_man_light_skin_tone_dark_skin_tone:': '👩🏻\\u200d❤️\\u200d👨🏿',\n",
       " ':couple_with_heart_woman_man_light_skin_tone_medium-dark_skin_tone:': '👩🏻\\u200d❤️\\u200d👨🏾',\n",
       " ':couple_with_heart_woman_man_light_skin_tone_medium-light_skin_tone:': '👩🏻\\u200d❤️\\u200d👨🏼',\n",
       " ':couple_with_heart_woman_man_light_skin_tone_medium_skin_tone:': '👩🏻\\u200d❤️\\u200d👨🏽',\n",
       " ':couple_with_heart_woman_man_medium-dark_skin_tone:': '👩🏾\\u200d❤️\\u200d👨🏾',\n",
       " ':couple_with_heart_woman_man_medium-dark_skin_tone_dark_skin_tone:': '👩🏾\\u200d❤️\\u200d👨🏿',\n",
       " ':couple_with_heart_woman_man_medium-dark_skin_tone_light_skin_tone:': '👩🏾\\u200d❤️\\u200d👨🏻',\n",
       " ':couple_with_heart_woman_man_medium-dark_skin_tone_medium-light_skin_tone:': '👩🏾\\u200d❤️\\u200d👨🏼',\n",
       " ':couple_with_heart_woman_man_medium-dark_skin_tone_medium_skin_tone:': '👩🏾\\u200d❤️\\u200d👨🏽',\n",
       " ':couple_with_heart_woman_man_medium-light_skin_tone:': '👩🏼\\u200d❤️\\u200d👨🏼',\n",
       " ':couple_with_heart_woman_man_medium-light_skin_tone_dark_skin_tone:': '👩🏼\\u200d❤️\\u200d👨🏿',\n",
       " ':couple_with_heart_woman_man_medium-light_skin_tone_light_skin_tone:': '👩🏼\\u200d❤️\\u200d👨🏻',\n",
       " ':couple_with_heart_woman_man_medium-light_skin_tone_medium-dark_skin_tone:': '👩🏼\\u200d❤️\\u200d👨🏾',\n",
       " ':couple_with_heart_woman_man_medium-light_skin_tone_medium_skin_tone:': '👩🏼\\u200d❤️\\u200d👨🏽',\n",
       " ':couple_with_heart_woman_man_medium_skin_tone:': '👩🏽\\u200d❤️\\u200d👨🏽',\n",
       " ':couple_with_heart_woman_man_medium_skin_tone_dark_skin_tone:': '👩🏽\\u200d❤️\\u200d👨🏿',\n",
       " ':couple_with_heart_woman_man_medium_skin_tone_light_skin_tone:': '👩🏽\\u200d❤️\\u200d👨🏻',\n",
       " ':couple_with_heart_woman_man_medium_skin_tone_medium-dark_skin_tone:': '👩🏽\\u200d❤️\\u200d👨🏾',\n",
       " ':couple_with_heart_woman_man_medium_skin_tone_medium-light_skin_tone:': '👩🏽\\u200d❤️\\u200d👨🏼',\n",
       " ':couple_with_heart_woman_woman:': '👩\\u200d❤️\\u200d👩',\n",
       " ':couple_with_heart_woman_woman_dark_skin_tone:': '👩🏿\\u200d❤️\\u200d👩🏿',\n",
       " ':couple_with_heart_woman_woman_dark_skin_tone_light_skin_tone:': '👩🏿\\u200d❤️\\u200d👩🏻',\n",
       " ':couple_with_heart_woman_woman_dark_skin_tone_medium-dark_skin_tone:': '👩🏿\\u200d❤️\\u200d👩🏾',\n",
       " ':couple_with_heart_woman_woman_dark_skin_tone_medium-light_skin_tone:': '👩🏿\\u200d❤️\\u200d👩🏼',\n",
       " ':couple_with_heart_woman_woman_dark_skin_tone_medium_skin_tone:': '👩🏿\\u200d❤️\\u200d👩🏽',\n",
       " ':couple_with_heart_woman_woman_light_skin_tone:': '👩🏻\\u200d❤️\\u200d👩🏻',\n",
       " ':couple_with_heart_woman_woman_light_skin_tone_dark_skin_tone:': '👩🏻\\u200d❤️\\u200d👩🏿',\n",
       " ':couple_with_heart_woman_woman_light_skin_tone_medium-dark_skin_tone:': '👩🏻\\u200d❤️\\u200d👩🏾',\n",
       " ':couple_with_heart_woman_woman_light_skin_tone_medium-light_skin_tone:': '👩🏻\\u200d❤️\\u200d👩🏼',\n",
       " ':couple_with_heart_woman_woman_light_skin_tone_medium_skin_tone:': '👩🏻\\u200d❤️\\u200d👩🏽',\n",
       " ':couple_with_heart_woman_woman_medium-dark_skin_tone:': '👩🏾\\u200d❤️\\u200d👩🏾',\n",
       " ':couple_with_heart_woman_woman_medium-dark_skin_tone_dark_skin_tone:': '👩🏾\\u200d❤️\\u200d👩🏿',\n",
       " ':couple_with_heart_woman_woman_medium-dark_skin_tone_light_skin_tone:': '👩🏾\\u200d❤️\\u200d👩🏻',\n",
       " ':couple_with_heart_woman_woman_medium-dark_skin_tone_medium-light_skin_tone:': '👩🏾\\u200d❤️\\u200d👩🏼',\n",
       " ':couple_with_heart_woman_woman_medium-dark_skin_tone_medium_skin_tone:': '👩🏾\\u200d❤️\\u200d👩🏽',\n",
       " ':couple_with_heart_woman_woman_medium-light_skin_tone:': '👩🏼\\u200d❤️\\u200d👩🏼',\n",
       " ':couple_with_heart_woman_woman_medium-light_skin_tone_dark_skin_tone:': '👩🏼\\u200d❤️\\u200d👩🏿',\n",
       " ':couple_with_heart_woman_woman_medium-light_skin_tone_light_skin_tone:': '👩🏼\\u200d❤️\\u200d👩🏻',\n",
       " ':couple_with_heart_woman_woman_medium-light_skin_tone_medium-dark_skin_tone:': '👩🏼\\u200d❤️\\u200d👩🏾',\n",
       " ':couple_with_heart_woman_woman_medium-light_skin_tone_medium_skin_tone:': '👩🏼\\u200d❤️\\u200d👩🏽',\n",
       " ':couple_with_heart_woman_woman_medium_skin_tone:': '👩🏽\\u200d❤️\\u200d👩🏽',\n",
       " ':couple_with_heart_woman_woman_medium_skin_tone_dark_skin_tone:': '👩🏽\\u200d❤️\\u200d👩🏿',\n",
       " ':couple_with_heart_woman_woman_medium_skin_tone_light_skin_tone:': '👩🏽\\u200d❤️\\u200d👩🏻',\n",
       " ':couple_with_heart_woman_woman_medium_skin_tone_medium-dark_skin_tone:': '👩🏽\\u200d❤️\\u200d👩🏾',\n",
       " ':couple_with_heart_woman_woman_medium_skin_tone_medium-light_skin_tone:': '👩🏽\\u200d❤️\\u200d👩🏼',\n",
       " ':cow:': '🐄',\n",
       " ':cow_face:': '🐮',\n",
       " ':cowboy_hat_face:': '🤠',\n",
       " ':crab:': '🦀',\n",
       " ':crayon:': '🖍️',\n",
       " ':credit_card:': '💳',\n",
       " ':crescent_moon:': '🌙',\n",
       " ':cricket:': '🦗',\n",
       " ':cricket_game:': '🏏',\n",
       " ':crocodile:': '🐊',\n",
       " ':croissant:': '🥐',\n",
       " ':cross_mark:': '❌',\n",
       " ':cross_mark_button:': '❎',\n",
       " ':crossed_fingers:': '🤞',\n",
       " ':crossed_fingers_dark_skin_tone:': '🤞🏿',\n",
       " ':crossed_fingers_light_skin_tone:': '🤞🏻',\n",
       " ':crossed_fingers_medium-dark_skin_tone:': '🤞🏾',\n",
       " ':crossed_fingers_medium-light_skin_tone:': '🤞🏼',\n",
       " ':crossed_fingers_medium_skin_tone:': '🤞🏽',\n",
       " ':crossed_flags:': '🎌',\n",
       " ':crossed_swords:': '⚔️',\n",
       " ':crown:': '👑',\n",
       " ':crutch:': '\\U0001fa7c',\n",
       " ':crying_cat:': '😿',\n",
       " ':crying_face:': '😢',\n",
       " ':crystal_ball:': '🔮',\n",
       " ':cucumber:': '🥒',\n",
       " ':cup_with_straw:': '🥤',\n",
       " ':cupcake:': '🧁',\n",
       " ':curling_stone:': '🥌',\n",
       " ':curly_hair:': '🦱',\n",
       " ':curly_loop:': '➰',\n",
       " ':currency_exchange:': '💱',\n",
       " ':curry_rice:': '🍛',\n",
       " ':custard:': '🍮',\n",
       " ':customs:': '🛃',\n",
       " ':cut_of_meat:': '🥩',\n",
       " ':cyclone:': '🌀',\n",
       " ':dagger:': '🗡️',\n",
       " ':dango:': '🍡',\n",
       " ':dark_skin_tone:': '🏿',\n",
       " ':dashing_away:': '💨',\n",
       " ':deaf_man:': '\\U0001f9cf\\u200d♂️',\n",
       " ':deaf_man_dark_skin_tone:': '\\U0001f9cf🏿\\u200d♂️',\n",
       " ':deaf_man_light_skin_tone:': '\\U0001f9cf🏻\\u200d♂️',\n",
       " ':deaf_man_medium-dark_skin_tone:': '\\U0001f9cf🏾\\u200d♂️',\n",
       " ':deaf_man_medium-light_skin_tone:': '\\U0001f9cf🏼\\u200d♂️',\n",
       " ':deaf_man_medium_skin_tone:': '\\U0001f9cf🏽\\u200d♂️',\n",
       " ':deaf_person:': '\\U0001f9cf',\n",
       " ':deaf_person_dark_skin_tone:': '\\U0001f9cf🏿',\n",
       " ':deaf_person_light_skin_tone:': '\\U0001f9cf🏻',\n",
       " ':deaf_person_medium-dark_skin_tone:': '\\U0001f9cf🏾',\n",
       " ':deaf_person_medium-light_skin_tone:': '\\U0001f9cf🏼',\n",
       " ':deaf_person_medium_skin_tone:': '\\U0001f9cf🏽',\n",
       " ':deaf_woman:': '\\U0001f9cf\\u200d♀️',\n",
       " ':deaf_woman_dark_skin_tone:': '\\U0001f9cf🏿\\u200d♀️',\n",
       " ':deaf_woman_light_skin_tone:': '\\U0001f9cf🏻\\u200d♀️',\n",
       " ':deaf_woman_medium-dark_skin_tone:': '\\U0001f9cf🏾\\u200d♀️',\n",
       " ':deaf_woman_medium-light_skin_tone:': '\\U0001f9cf🏼\\u200d♀️',\n",
       " ':deaf_woman_medium_skin_tone:': '\\U0001f9cf🏽\\u200d♀️',\n",
       " ':deciduous_tree:': '🌳',\n",
       " ':deer:': '🦌',\n",
       " ':delivery_truck:': '🚚',\n",
       " ':department_store:': '🏬',\n",
       " ':derelict_house:': '🏚️',\n",
       " ':desert:': '🏜️',\n",
       " ':desert_island:': '🏝️',\n",
       " ':desktop_computer:': '🖥️',\n",
       " ':detective:': '🕵️',\n",
       " ':detective_dark_skin_tone:': '🕵🏿',\n",
       " ':detective_light_skin_tone:': '🕵🏻',\n",
       " ':detective_medium-dark_skin_tone:': '🕵🏾',\n",
       " ':detective_medium-light_skin_tone:': '🕵🏼',\n",
       " ':detective_medium_skin_tone:': '🕵🏽',\n",
       " ':diamond_suit:': '♦️',\n",
       " ':diamond_with_a_dot:': '💠',\n",
       " ':dim_button:': '🔅',\n",
       " ':disappointed_face:': '😞',\n",
       " ':disguised_face:': '\\U0001f978',\n",
       " ':divide:': '➗',\n",
       " ':diving_mask:': '\\U0001f93f',\n",
       " ':diya_lamp:': '\\U0001fa94',\n",
       " ':dizzy:': '💫',\n",
       " ':dna:': '🧬',\n",
       " ':dodo:': '\\U0001f9a4',\n",
       " ':dog:': '🐕',\n",
       " ':dog_face:': '🐶',\n",
       " ':dollar_banknote:': '💵',\n",
       " ':dolphin:': '🐬',\n",
       " ':door:': '🚪',\n",
       " ':dotted_line_face:': '\\U0001fae5',\n",
       " ':dotted_six-pointed_star:': '🔯',\n",
       " ':double_curly_loop:': '➿',\n",
       " ':double_exclamation_mark:': '‼️',\n",
       " ':doughnut:': '🍩',\n",
       " ':dove:': '🕊️',\n",
       " ':down-left_arrow:': '↙️',\n",
       " ':down-right_arrow:': '↘️',\n",
       " ':down_arrow:': '⬇️',\n",
       " ':downcast_face_with_sweat:': '😓',\n",
       " ':downwards_button:': '🔽',\n",
       " ':dragon:': '🐉',\n",
       " ':dragon_face:': '🐲',\n",
       " ':dress:': '👗',\n",
       " ':drooling_face:': '🤤',\n",
       " ':drop_of_blood:': '\\U0001fa78',\n",
       " ':droplet:': '💧',\n",
       " ':drum:': '🥁',\n",
       " ':duck:': '🦆',\n",
       " ':dumpling:': '🥟',\n",
       " ':dvd:': '📀',\n",
       " ':e-mail:': '📧',\n",
       " ':eagle:': '🦅',\n",
       " ':ear:': '👂',\n",
       " ':ear_dark_skin_tone:': '👂🏿',\n",
       " ':ear_light_skin_tone:': '👂🏻',\n",
       " ':ear_medium-dark_skin_tone:': '👂🏾',\n",
       " ':ear_medium-light_skin_tone:': '👂🏼',\n",
       " ':ear_medium_skin_tone:': '👂🏽',\n",
       " ':ear_of_corn:': '🌽',\n",
       " ':ear_with_hearing_aid:': '\\U0001f9bb',\n",
       " ':ear_with_hearing_aid_dark_skin_tone:': '\\U0001f9bb🏿',\n",
       " ':ear_with_hearing_aid_light_skin_tone:': '\\U0001f9bb🏻',\n",
       " ':ear_with_hearing_aid_medium-dark_skin_tone:': '\\U0001f9bb🏾',\n",
       " ':ear_with_hearing_aid_medium-light_skin_tone:': '\\U0001f9bb🏼',\n",
       " ':ear_with_hearing_aid_medium_skin_tone:': '\\U0001f9bb🏽',\n",
       " ':egg:': '🥚',\n",
       " ':eggplant:': '🍆',\n",
       " ':eight-pointed_star:': '✴️',\n",
       " ':eight-spoked_asterisk:': '✳️',\n",
       " ':eight-thirty:': '🕣',\n",
       " ':eight_o’clock:': '🕗',\n",
       " ':eject_button:': '⏏️',\n",
       " ':electric_plug:': '🔌',\n",
       " ':elephant:': '🐘',\n",
       " ':elevator:': '\\U0001f6d7',\n",
       " ':eleven-thirty:': '🕦',\n",
       " ':eleven_o’clock:': '🕚',\n",
       " ':elf:': '🧝',\n",
       " ':elf_dark_skin_tone:': '🧝🏿',\n",
       " ':elf_light_skin_tone:': '🧝🏻',\n",
       " ':elf_medium-dark_skin_tone:': '🧝🏾',\n",
       " ':elf_medium-light_skin_tone:': '🧝🏼',\n",
       " ':elf_medium_skin_tone:': '🧝🏽',\n",
       " ':empty_nest:': '\\U0001fab9',\n",
       " ':envelope:': '✉️',\n",
       " ':envelope_with_arrow:': '📩',\n",
       " ':euro_banknote:': '💶',\n",
       " ':evergreen_tree:': '🌲',\n",
       " ':ewe:': '🐑',\n",
       " ':exclamation_question_mark:': '⁉️',\n",
       " ':exploding_head:': '🤯',\n",
       " ':expressionless_face:': '😑',\n",
       " ':eye:': '👁️',\n",
       " ':eye_in_speech_bubble:': '👁️\\u200d🗨️',\n",
       " ':eyes:': '👀',\n",
       " ':face_blowing_a_kiss:': '😘',\n",
       " ':face_exhaling:': '😮\\u200d💨',\n",
       " ':face_holding_back_tears:': '\\U0001f979',\n",
       " ':face_in_clouds:': '😶\\u200d🌫️',\n",
       " ':face_savoring_food:': '😋',\n",
       " ':face_screaming_in_fear:': '😱',\n",
       " ':face_vomiting:': '🤮',\n",
       " ':face_with_crossed-out_eyes:': '😵',\n",
       " ':face_with_diagonal_mouth:': '\\U0001fae4',\n",
       " ':face_with_hand_over_mouth:': '🤭',\n",
       " ':face_with_head-bandage:': '🤕',\n",
       " ':face_with_medical_mask:': '😷',\n",
       " ':face_with_monocle:': '🧐',\n",
       " ':face_with_open_eyes_and_hand_over_mouth:': '\\U0001fae2',\n",
       " ':face_with_open_mouth:': '😮',\n",
       " ':face_with_peeking_eye:': '\\U0001fae3',\n",
       " ':face_with_raised_eyebrow:': '🤨',\n",
       " ':face_with_rolling_eyes:': '🙄',\n",
       " ':face_with_spiral_eyes:': '😵\\u200d💫',\n",
       " ':face_with_steam_from_nose:': '😤',\n",
       " ':face_with_symbols_on_mouth:': '🤬',\n",
       " ':face_with_tears_of_joy:': '😂',\n",
       " ':face_with_thermometer:': '🤒',\n",
       " ':face_with_tongue:': '😛',\n",
       " ':face_without_mouth:': '😶',\n",
       " ':factory:': '🏭',\n",
       " ':factory_worker:': '🧑\\u200d🏭',\n",
       " ':factory_worker_dark_skin_tone:': '🧑🏿\\u200d🏭',\n",
       " ':factory_worker_light_skin_tone:': '🧑🏻\\u200d🏭',\n",
       " ':factory_worker_medium-dark_skin_tone:': '🧑🏾\\u200d🏭',\n",
       " ':factory_worker_medium-light_skin_tone:': '🧑🏼\\u200d🏭',\n",
       " ':factory_worker_medium_skin_tone:': '🧑🏽\\u200d🏭',\n",
       " ':fairy:': '🧚',\n",
       " ':fairy_dark_skin_tone:': '🧚🏿',\n",
       " ':fairy_light_skin_tone:': '🧚🏻',\n",
       " ':fairy_medium-dark_skin_tone:': '🧚🏾',\n",
       " ':fairy_medium-light_skin_tone:': '🧚🏼',\n",
       " ':fairy_medium_skin_tone:': '🧚🏽',\n",
       " ':falafel:': '\\U0001f9c6',\n",
       " ':fallen_leaf:': '🍂',\n",
       " ':family:': '👪',\n",
       " ':family_man_boy:': '👨\\u200d👦',\n",
       " ':family_man_boy_boy:': '👨\\u200d👦\\u200d👦',\n",
       " ':family_man_girl:': '👨\\u200d👧',\n",
       " ':family_man_girl_boy:': '👨\\u200d👧\\u200d👦',\n",
       " ':family_man_girl_girl:': '👨\\u200d👧\\u200d👧',\n",
       " ':family_man_man_boy:': '👨\\u200d👨\\u200d👦',\n",
       " ':family_man_man_boy_boy:': '👨\\u200d👨\\u200d👦\\u200d👦',\n",
       " ':family_man_man_girl:': '👨\\u200d👨\\u200d👧',\n",
       " ':family_man_man_girl_boy:': '👨\\u200d👨\\u200d👧\\u200d👦',\n",
       " ':family_man_man_girl_girl:': '👨\\u200d👨\\u200d👧\\u200d👧',\n",
       " ':family_man_woman_boy:': '👨\\u200d👩\\u200d👦',\n",
       " ':family_man_woman_boy_boy:': '👨\\u200d👩\\u200d👦\\u200d👦',\n",
       " ':family_man_woman_girl:': '👨\\u200d👩\\u200d👧',\n",
       " ':family_man_woman_girl_boy:': '👨\\u200d👩\\u200d👧\\u200d👦',\n",
       " ':family_man_woman_girl_girl:': '👨\\u200d👩\\u200d👧\\u200d👧',\n",
       " ':family_woman_boy:': '👩\\u200d👦',\n",
       " ':family_woman_boy_boy:': '👩\\u200d👦\\u200d👦',\n",
       " ':family_woman_girl:': '👩\\u200d👧',\n",
       " ':family_woman_girl_boy:': '👩\\u200d👧\\u200d👦',\n",
       " ':family_woman_girl_girl:': '👩\\u200d👧\\u200d👧',\n",
       " ':family_woman_woman_boy:': '👩\\u200d👩\\u200d👦',\n",
       " ':family_woman_woman_boy_boy:': '👩\\u200d👩\\u200d👦\\u200d👦',\n",
       " ':family_woman_woman_girl:': '👩\\u200d👩\\u200d👧',\n",
       " ':family_woman_woman_girl_boy:': '👩\\u200d👩\\u200d👧\\u200d👦',\n",
       " ':family_woman_woman_girl_girl:': '👩\\u200d👩\\u200d👧\\u200d👧',\n",
       " ':farmer:': '🧑\\u200d🌾',\n",
       " ':farmer_dark_skin_tone:': '🧑🏿\\u200d🌾',\n",
       " ':farmer_light_skin_tone:': '🧑🏻\\u200d🌾',\n",
       " ':farmer_medium-dark_skin_tone:': '🧑🏾\\u200d🌾',\n",
       " ':farmer_medium-light_skin_tone:': '🧑🏼\\u200d🌾',\n",
       " ':farmer_medium_skin_tone:': '🧑🏽\\u200d🌾',\n",
       " ':fast-forward_button:': '⏩',\n",
       " ':fast_down_button:': '⏬',\n",
       " ':fast_reverse_button:': '⏪',\n",
       " ':fast_up_button:': '⏫',\n",
       " ':fax_machine:': '📠',\n",
       " ':fearful_face:': '😨',\n",
       " ':feather:': '\\U0001fab6',\n",
       " ':female_sign:': '♀️',\n",
       " ...}"
      ]
     },
     "execution_count": 12,
     "metadata": {},
     "output_type": "execute_result"
    }
   ],
   "source": [
    "emoji.EMOJI_UNICODE[\"en\"]"
   ]
  },
  {
   "cell_type": "code",
   "execution_count": null,
   "metadata": {
    "colab": {
     "base_uri": "https://localhost:8080/"
    },
    "id": "BXHQU69LpJrK",
    "outputId": "7e02af63-465b-455a-f9f4-f347a2dbc9f0"
   },
   "outputs": [
    {
     "name": "stdout",
     "output_type": "stream",
     "text": [
      "🥇\n"
     ]
    }
   ],
   "source": [
    "print(emoji.emojize(\":1st_place_medal:\")) # returns the unicode character corresponding to string key"
   ]
  },
  {
   "cell_type": "code",
   "execution_count": null,
   "metadata": {
    "colab": {
     "base_uri": "https://localhost:8080/"
    },
    "id": "8s7W2S8zp1U9",
    "outputId": "f6672146-c7c2-4cec-8439-e77fcdb0a544",
    "tags": []
   },
   "outputs": [
    {
     "data": {
      "text/plain": [
       "module"
      ]
     },
     "execution_count": 14,
     "metadata": {},
     "output_type": "execute_result"
    }
   ],
   "source": [
    "type(emoji)"
   ]
  },
  {
   "cell_type": "code",
   "execution_count": null,
   "metadata": {
    "colab": {
     "base_uri": "https://localhost:8080/"
    },
    "id": "VjuDSn-hsHir",
    "outputId": "819d273e-820d-4913-c82c-c19b4be99f35"
   },
   "outputs": [
    {
     "name": "stdout",
     "output_type": "stream",
     "text": [
      "--2022-05-27 09:01:42--  https://raw.githubusercontent.com/coding-blocks-archives/machine-learning-online-2018/master/20.%20RNN/Emoji%20Predictor/dataset/train_emoji.csv\n",
      "Resolving raw.githubusercontent.com (raw.githubusercontent.com)... 185.199.108.133, 185.199.109.133, 185.199.110.133, ...\n",
      "Connecting to raw.githubusercontent.com (raw.githubusercontent.com)|185.199.108.133|:443... connected.\n",
      "HTTP request sent, awaiting response... 200 OK\n",
      "Length: 3542 (3.5K) [text/plain]\n",
      "Saving to: ‘train_emoji.csv’\n",
      "\n",
      "train_emoji.csv     100%[===================>]   3.46K  --.-KB/s    in 0s      \n",
      "\n",
      "2022-05-27 09:01:42 (65.6 MB/s) - ‘train_emoji.csv’ saved [3542/3542]\n",
      "\n",
      "--2022-05-27 09:01:42--  https://raw.githubusercontent.com/coding-blocks-archives/machine-learning-online-2018/master/20.%20RNN/Emoji%20Predictor/dataset/test_emoji.csv\n",
      "Reusing existing connection to raw.githubusercontent.com:443.\n",
      "HTTP request sent, awaiting response... 200 OK\n",
      "Length: 1442 (1.4K) [text/plain]\n",
      "Saving to: ‘test_emoji.csv’\n",
      "\n",
      "test_emoji.csv      100%[===================>]   1.41K  --.-KB/s    in 0s      \n",
      "\n",
      "2022-05-27 09:01:43 (30.4 MB/s) - ‘test_emoji.csv’ saved [1442/1442]\n",
      "\n",
      "FINISHED --2022-05-27 09:01:43--\n",
      "Total wall clock time: 0.6s\n",
      "Downloaded: 2 files, 4.9K in 0s (49.1 MB/s)\n"
     ]
    }
   ],
   "source": [
    "!wget https://raw.githubusercontent.com/coding-blocks-archives/machine-learning-online-2018/master/20.%20RNN/Emoji%20Predictor/dataset/train_emoji.csv https://raw.githubusercontent.com/coding-blocks-archives/machine-learning-online-2018/master/20.%20RNN/Emoji%20Predictor/dataset/test_emoji.csv"
   ]
  },
  {
   "cell_type": "code",
   "execution_count": null,
   "metadata": {
    "colab": {
     "base_uri": "https://localhost:8080/"
    },
    "id": "LlQpt5gQsHmK",
    "outputId": "746b0798-de28-4814-9799-bce6d9dd04e4"
   },
   "outputs": [
    {
     "name": "stdout",
     "output_type": "stream",
     "text": [
      "glove  glove.6B.zip  sample_data  test_emoji.csv  train_emoji.csv\n"
     ]
    }
   ],
   "source": [
    "!ls"
   ]
  },
  {
   "cell_type": "code",
   "execution_count": null,
   "metadata": {
    "id": "RuFn2K3rswAR"
   },
   "outputs": [],
   "source": []
  },
  {
   "cell_type": "code",
   "execution_count": null,
   "metadata": {
    "id": "Opgwku-uswsv"
   },
   "outputs": [],
   "source": []
  },
  {
   "cell_type": "code",
   "execution_count": null,
   "metadata": {
    "id": "OYNj43h9sv4B"
   },
   "outputs": [],
   "source": []
  },
  {
   "cell_type": "markdown",
   "metadata": {
    "id": "Xmw8cOAtf3Qy"
   },
   "source": [
    "# Getting the dataset"
   ]
  },
  {
   "cell_type": "code",
   "execution_count": null,
   "metadata": {
    "id": "cGIn8SN3sXvC"
   },
   "outputs": [],
   "source": [
    "import numpy as np\n",
    "import pandas as pd \n",
    "import matplotlib.pyplot as plt"
   ]
  },
  {
   "cell_type": "code",
   "execution_count": null,
   "metadata": {
    "colab": {
     "base_uri": "https://localhost:8080/",
     "height": 206
    },
    "id": "gAncgpb0svj3",
    "outputId": "9eba3cb6-5278-4cc7-e000-3988268e2ca0"
   },
   "outputs": [
    {
     "data": {
      "text/html": [
       "\n",
       "  <div id=\"df-f156c912-6b9e-42e4-ad0f-31de9b13fd9c\">\n",
       "    <div class=\"colab-df-container\">\n",
       "      <div>\n",
       "<style scoped>\n",
       "    .dataframe tbody tr th:only-of-type {\n",
       "        vertical-align: middle;\n",
       "    }\n",
       "\n",
       "    .dataframe tbody tr th {\n",
       "        vertical-align: top;\n",
       "    }\n",
       "\n",
       "    .dataframe thead th {\n",
       "        text-align: right;\n",
       "    }\n",
       "</style>\n",
       "<table border=\"1\" class=\"dataframe\">\n",
       "  <thead>\n",
       "    <tr style=\"text-align: right;\">\n",
       "      <th></th>\n",
       "      <th>0</th>\n",
       "      <th>1</th>\n",
       "      <th>2</th>\n",
       "      <th>3</th>\n",
       "    </tr>\n",
       "  </thead>\n",
       "  <tbody>\n",
       "    <tr>\n",
       "      <th>0</th>\n",
       "      <td>never talk to me again</td>\n",
       "      <td>3</td>\n",
       "      <td>NaN</td>\n",
       "      <td>NaN</td>\n",
       "    </tr>\n",
       "    <tr>\n",
       "      <th>1</th>\n",
       "      <td>I am proud of your achievements</td>\n",
       "      <td>2</td>\n",
       "      <td>NaN</td>\n",
       "      <td>NaN</td>\n",
       "    </tr>\n",
       "    <tr>\n",
       "      <th>2</th>\n",
       "      <td>It is the worst day in my life</td>\n",
       "      <td>3</td>\n",
       "      <td>NaN</td>\n",
       "      <td>NaN</td>\n",
       "    </tr>\n",
       "    <tr>\n",
       "      <th>3</th>\n",
       "      <td>Miss you so much</td>\n",
       "      <td>0</td>\n",
       "      <td>NaN</td>\n",
       "      <td>[0]</td>\n",
       "    </tr>\n",
       "    <tr>\n",
       "      <th>4</th>\n",
       "      <td>food is life</td>\n",
       "      <td>4</td>\n",
       "      <td>NaN</td>\n",
       "      <td>NaN</td>\n",
       "    </tr>\n",
       "  </tbody>\n",
       "</table>\n",
       "</div>\n",
       "      <button class=\"colab-df-convert\" onclick=\"convertToInteractive('df-f156c912-6b9e-42e4-ad0f-31de9b13fd9c')\"\n",
       "              title=\"Convert this dataframe to an interactive table.\"\n",
       "              style=\"display:none;\">\n",
       "        \n",
       "  <svg xmlns=\"http://www.w3.org/2000/svg\" height=\"24px\"viewBox=\"0 0 24 24\"\n",
       "       width=\"24px\">\n",
       "    <path d=\"M0 0h24v24H0V0z\" fill=\"none\"/>\n",
       "    <path d=\"M18.56 5.44l.94 2.06.94-2.06 2.06-.94-2.06-.94-.94-2.06-.94 2.06-2.06.94zm-11 1L8.5 8.5l.94-2.06 2.06-.94-2.06-.94L8.5 2.5l-.94 2.06-2.06.94zm10 10l.94 2.06.94-2.06 2.06-.94-2.06-.94-.94-2.06-.94 2.06-2.06.94z\"/><path d=\"M17.41 7.96l-1.37-1.37c-.4-.4-.92-.59-1.43-.59-.52 0-1.04.2-1.43.59L10.3 9.45l-7.72 7.72c-.78.78-.78 2.05 0 2.83L4 21.41c.39.39.9.59 1.41.59.51 0 1.02-.2 1.41-.59l7.78-7.78 2.81-2.81c.8-.78.8-2.07 0-2.86zM5.41 20L4 18.59l7.72-7.72 1.47 1.35L5.41 20z\"/>\n",
       "  </svg>\n",
       "      </button>\n",
       "      \n",
       "  <style>\n",
       "    .colab-df-container {\n",
       "      display:flex;\n",
       "      flex-wrap:wrap;\n",
       "      gap: 12px;\n",
       "    }\n",
       "\n",
       "    .colab-df-convert {\n",
       "      background-color: #E8F0FE;\n",
       "      border: none;\n",
       "      border-radius: 50%;\n",
       "      cursor: pointer;\n",
       "      display: none;\n",
       "      fill: #1967D2;\n",
       "      height: 32px;\n",
       "      padding: 0 0 0 0;\n",
       "      width: 32px;\n",
       "    }\n",
       "\n",
       "    .colab-df-convert:hover {\n",
       "      background-color: #E2EBFA;\n",
       "      box-shadow: 0px 1px 2px rgba(60, 64, 67, 0.3), 0px 1px 3px 1px rgba(60, 64, 67, 0.15);\n",
       "      fill: #174EA6;\n",
       "    }\n",
       "\n",
       "    [theme=dark] .colab-df-convert {\n",
       "      background-color: #3B4455;\n",
       "      fill: #D2E3FC;\n",
       "    }\n",
       "\n",
       "    [theme=dark] .colab-df-convert:hover {\n",
       "      background-color: #434B5C;\n",
       "      box-shadow: 0px 1px 3px 1px rgba(0, 0, 0, 0.15);\n",
       "      filter: drop-shadow(0px 1px 2px rgba(0, 0, 0, 0.3));\n",
       "      fill: #FFFFFF;\n",
       "    }\n",
       "  </style>\n",
       "\n",
       "      <script>\n",
       "        const buttonEl =\n",
       "          document.querySelector('#df-f156c912-6b9e-42e4-ad0f-31de9b13fd9c button.colab-df-convert');\n",
       "        buttonEl.style.display =\n",
       "          google.colab.kernel.accessAllowed ? 'block' : 'none';\n",
       "\n",
       "        async function convertToInteractive(key) {\n",
       "          const element = document.querySelector('#df-f156c912-6b9e-42e4-ad0f-31de9b13fd9c');\n",
       "          const dataTable =\n",
       "            await google.colab.kernel.invokeFunction('convertToInteractive',\n",
       "                                                     [key], {});\n",
       "          if (!dataTable) return;\n",
       "\n",
       "          const docLinkHtml = 'Like what you see? Visit the ' +\n",
       "            '<a target=\"_blank\" href=https://colab.research.google.com/notebooks/data_table.ipynb>data table notebook</a>'\n",
       "            + ' to learn more about interactive tables.';\n",
       "          element.innerHTML = '';\n",
       "          dataTable['output_type'] = 'display_data';\n",
       "          await google.colab.output.renderOutput(dataTable, element);\n",
       "          const docLink = document.createElement('div');\n",
       "          docLink.innerHTML = docLinkHtml;\n",
       "          element.appendChild(docLink);\n",
       "        }\n",
       "      </script>\n",
       "    </div>\n",
       "  </div>\n",
       "  "
      ],
      "text/plain": [
       "                                 0  1   2     3\n",
       "0           never talk to me again  3 NaN   NaN\n",
       "1  I am proud of your achievements  2 NaN   NaN\n",
       "2   It is the worst day in my life  3 NaN   NaN\n",
       "3                 Miss you so much  0 NaN   [0]\n",
       "4                     food is life  4 NaN   NaN"
      ]
     },
     "execution_count": 18,
     "metadata": {},
     "output_type": "execute_result"
    }
   ],
   "source": [
    "train_df = pd.read_csv(\"train_emoji.csv\", header=None)\n",
    "train_df.head()"
   ]
  },
  {
   "cell_type": "code",
   "execution_count": null,
   "metadata": {
    "colab": {
     "base_uri": "https://localhost:8080/",
     "height": 206
    },
    "id": "cGYXnXzucRfq",
    "outputId": "d292acff-7599-4b04-cc45-a5b595350085"
   },
   "outputs": [
    {
     "data": {
      "text/html": [
       "\n",
       "  <div id=\"df-78f6cb7d-7e52-4b69-a724-8903242af9f0\">\n",
       "    <div class=\"colab-df-container\">\n",
       "      <div>\n",
       "<style scoped>\n",
       "    .dataframe tbody tr th:only-of-type {\n",
       "        vertical-align: middle;\n",
       "    }\n",
       "\n",
       "    .dataframe tbody tr th {\n",
       "        vertical-align: top;\n",
       "    }\n",
       "\n",
       "    .dataframe thead th {\n",
       "        text-align: right;\n",
       "    }\n",
       "</style>\n",
       "<table border=\"1\" class=\"dataframe\">\n",
       "  <thead>\n",
       "    <tr style=\"text-align: right;\">\n",
       "      <th></th>\n",
       "      <th>0</th>\n",
       "      <th>1</th>\n",
       "    </tr>\n",
       "  </thead>\n",
       "  <tbody>\n",
       "    <tr>\n",
       "      <th>0</th>\n",
       "      <td>I want to eat\\t</td>\n",
       "      <td>4</td>\n",
       "    </tr>\n",
       "    <tr>\n",
       "      <th>1</th>\n",
       "      <td>he did not answer\\t</td>\n",
       "      <td>3</td>\n",
       "    </tr>\n",
       "    <tr>\n",
       "      <th>2</th>\n",
       "      <td>he got a raise\\t</td>\n",
       "      <td>2</td>\n",
       "    </tr>\n",
       "    <tr>\n",
       "      <th>3</th>\n",
       "      <td>she got me a present\\t</td>\n",
       "      <td>0</td>\n",
       "    </tr>\n",
       "    <tr>\n",
       "      <th>4</th>\n",
       "      <td>ha ha ha it was so funny\\t</td>\n",
       "      <td>2</td>\n",
       "    </tr>\n",
       "  </tbody>\n",
       "</table>\n",
       "</div>\n",
       "      <button class=\"colab-df-convert\" onclick=\"convertToInteractive('df-78f6cb7d-7e52-4b69-a724-8903242af9f0')\"\n",
       "              title=\"Convert this dataframe to an interactive table.\"\n",
       "              style=\"display:none;\">\n",
       "        \n",
       "  <svg xmlns=\"http://www.w3.org/2000/svg\" height=\"24px\"viewBox=\"0 0 24 24\"\n",
       "       width=\"24px\">\n",
       "    <path d=\"M0 0h24v24H0V0z\" fill=\"none\"/>\n",
       "    <path d=\"M18.56 5.44l.94 2.06.94-2.06 2.06-.94-2.06-.94-.94-2.06-.94 2.06-2.06.94zm-11 1L8.5 8.5l.94-2.06 2.06-.94-2.06-.94L8.5 2.5l-.94 2.06-2.06.94zm10 10l.94 2.06.94-2.06 2.06-.94-2.06-.94-.94-2.06-.94 2.06-2.06.94z\"/><path d=\"M17.41 7.96l-1.37-1.37c-.4-.4-.92-.59-1.43-.59-.52 0-1.04.2-1.43.59L10.3 9.45l-7.72 7.72c-.78.78-.78 2.05 0 2.83L4 21.41c.39.39.9.59 1.41.59.51 0 1.02-.2 1.41-.59l7.78-7.78 2.81-2.81c.8-.78.8-2.07 0-2.86zM5.41 20L4 18.59l7.72-7.72 1.47 1.35L5.41 20z\"/>\n",
       "  </svg>\n",
       "      </button>\n",
       "      \n",
       "  <style>\n",
       "    .colab-df-container {\n",
       "      display:flex;\n",
       "      flex-wrap:wrap;\n",
       "      gap: 12px;\n",
       "    }\n",
       "\n",
       "    .colab-df-convert {\n",
       "      background-color: #E8F0FE;\n",
       "      border: none;\n",
       "      border-radius: 50%;\n",
       "      cursor: pointer;\n",
       "      display: none;\n",
       "      fill: #1967D2;\n",
       "      height: 32px;\n",
       "      padding: 0 0 0 0;\n",
       "      width: 32px;\n",
       "    }\n",
       "\n",
       "    .colab-df-convert:hover {\n",
       "      background-color: #E2EBFA;\n",
       "      box-shadow: 0px 1px 2px rgba(60, 64, 67, 0.3), 0px 1px 3px 1px rgba(60, 64, 67, 0.15);\n",
       "      fill: #174EA6;\n",
       "    }\n",
       "\n",
       "    [theme=dark] .colab-df-convert {\n",
       "      background-color: #3B4455;\n",
       "      fill: #D2E3FC;\n",
       "    }\n",
       "\n",
       "    [theme=dark] .colab-df-convert:hover {\n",
       "      background-color: #434B5C;\n",
       "      box-shadow: 0px 1px 3px 1px rgba(0, 0, 0, 0.15);\n",
       "      filter: drop-shadow(0px 1px 2px rgba(0, 0, 0, 0.3));\n",
       "      fill: #FFFFFF;\n",
       "    }\n",
       "  </style>\n",
       "\n",
       "      <script>\n",
       "        const buttonEl =\n",
       "          document.querySelector('#df-78f6cb7d-7e52-4b69-a724-8903242af9f0 button.colab-df-convert');\n",
       "        buttonEl.style.display =\n",
       "          google.colab.kernel.accessAllowed ? 'block' : 'none';\n",
       "\n",
       "        async function convertToInteractive(key) {\n",
       "          const element = document.querySelector('#df-78f6cb7d-7e52-4b69-a724-8903242af9f0');\n",
       "          const dataTable =\n",
       "            await google.colab.kernel.invokeFunction('convertToInteractive',\n",
       "                                                     [key], {});\n",
       "          if (!dataTable) return;\n",
       "\n",
       "          const docLinkHtml = 'Like what you see? Visit the ' +\n",
       "            '<a target=\"_blank\" href=https://colab.research.google.com/notebooks/data_table.ipynb>data table notebook</a>'\n",
       "            + ' to learn more about interactive tables.';\n",
       "          element.innerHTML = '';\n",
       "          dataTable['output_type'] = 'display_data';\n",
       "          await google.colab.output.renderOutput(dataTable, element);\n",
       "          const docLink = document.createElement('div');\n",
       "          docLink.innerHTML = docLinkHtml;\n",
       "          element.appendChild(docLink);\n",
       "        }\n",
       "      </script>\n",
       "    </div>\n",
       "  </div>\n",
       "  "
      ],
      "text/plain": [
       "                            0  1\n",
       "0             I want to eat\\t  4\n",
       "1         he did not answer\\t  3\n",
       "2            he got a raise\\t  2\n",
       "3      she got me a present\\t  0\n",
       "4  ha ha ha it was so funny\\t  2"
      ]
     },
     "execution_count": 19,
     "metadata": {},
     "output_type": "execute_result"
    }
   ],
   "source": [
    "test_df = pd.read_csv(\"test_emoji.csv\", header=None)\n",
    "test_df.head()"
   ]
  },
  {
   "cell_type": "code",
   "execution_count": null,
   "metadata": {
    "colab": {
     "base_uri": "https://localhost:8080/",
     "height": 1000
    },
    "id": "MBZoz76V2vmY",
    "outputId": "0b031765-2617-46b5-845b-831f837381eb"
   },
   "outputs": [
    {
     "data": {
      "text/html": [
       "\n",
       "  <div id=\"df-d5f32769-908b-48dc-a5d1-4ac8eb374c6f\">\n",
       "    <div class=\"colab-df-container\">\n",
       "      <div>\n",
       "<style scoped>\n",
       "    .dataframe tbody tr th:only-of-type {\n",
       "        vertical-align: middle;\n",
       "    }\n",
       "\n",
       "    .dataframe tbody tr th {\n",
       "        vertical-align: top;\n",
       "    }\n",
       "\n",
       "    .dataframe thead th {\n",
       "        text-align: right;\n",
       "    }\n",
       "</style>\n",
       "<table border=\"1\" class=\"dataframe\">\n",
       "  <thead>\n",
       "    <tr style=\"text-align: right;\">\n",
       "      <th></th>\n",
       "      <th>0</th>\n",
       "      <th>1</th>\n",
       "    </tr>\n",
       "  </thead>\n",
       "  <tbody>\n",
       "    <tr>\n",
       "      <th>0</th>\n",
       "      <td>I want to eat</td>\n",
       "      <td>4</td>\n",
       "    </tr>\n",
       "    <tr>\n",
       "      <th>1</th>\n",
       "      <td>he did not answer</td>\n",
       "      <td>3</td>\n",
       "    </tr>\n",
       "    <tr>\n",
       "      <th>2</th>\n",
       "      <td>he got a raise</td>\n",
       "      <td>2</td>\n",
       "    </tr>\n",
       "    <tr>\n",
       "      <th>3</th>\n",
       "      <td>she got me a present</td>\n",
       "      <td>0</td>\n",
       "    </tr>\n",
       "    <tr>\n",
       "      <th>4</th>\n",
       "      <td>ha ha ha it was so funny</td>\n",
       "      <td>2</td>\n",
       "    </tr>\n",
       "    <tr>\n",
       "      <th>5</th>\n",
       "      <td>he is a good friend</td>\n",
       "      <td>0</td>\n",
       "    </tr>\n",
       "    <tr>\n",
       "      <th>6</th>\n",
       "      <td>I am upset</td>\n",
       "      <td>0</td>\n",
       "    </tr>\n",
       "    <tr>\n",
       "      <th>7</th>\n",
       "      <td>We had such a lovely dinner tonight</td>\n",
       "      <td>0</td>\n",
       "    </tr>\n",
       "    <tr>\n",
       "      <th>8</th>\n",
       "      <td>where is the food</td>\n",
       "      <td>4</td>\n",
       "    </tr>\n",
       "    <tr>\n",
       "      <th>9</th>\n",
       "      <td>Stop making this joke ha ha ha</td>\n",
       "      <td>2</td>\n",
       "    </tr>\n",
       "    <tr>\n",
       "      <th>10</th>\n",
       "      <td>where is the ball</td>\n",
       "      <td>1</td>\n",
       "    </tr>\n",
       "    <tr>\n",
       "      <th>11</th>\n",
       "      <td>work is hard</td>\n",
       "      <td>3</td>\n",
       "    </tr>\n",
       "    <tr>\n",
       "      <th>12</th>\n",
       "      <td>This girl is messing with me</td>\n",
       "      <td>3</td>\n",
       "    </tr>\n",
       "    <tr>\n",
       "      <th>13</th>\n",
       "      <td>are you serious ha ha</td>\n",
       "      <td>2</td>\n",
       "    </tr>\n",
       "    <tr>\n",
       "      <th>14</th>\n",
       "      <td>Let us go play baseball</td>\n",
       "      <td>1</td>\n",
       "    </tr>\n",
       "    <tr>\n",
       "      <th>15</th>\n",
       "      <td>This stupid grader is not working</td>\n",
       "      <td>3</td>\n",
       "    </tr>\n",
       "    <tr>\n",
       "      <th>16</th>\n",
       "      <td>work is horrible</td>\n",
       "      <td>3</td>\n",
       "    </tr>\n",
       "    <tr>\n",
       "      <th>17</th>\n",
       "      <td>Congratulation for having a baby</td>\n",
       "      <td>2</td>\n",
       "    </tr>\n",
       "    <tr>\n",
       "      <th>18</th>\n",
       "      <td>stop messing around</td>\n",
       "      <td>3</td>\n",
       "    </tr>\n",
       "    <tr>\n",
       "      <th>19</th>\n",
       "      <td>any suggestions for dinner</td>\n",
       "      <td>4</td>\n",
       "    </tr>\n",
       "    <tr>\n",
       "      <th>20</th>\n",
       "      <td>I love taking breaks</td>\n",
       "      <td>0</td>\n",
       "    </tr>\n",
       "    <tr>\n",
       "      <th>21</th>\n",
       "      <td>you brighten my day</td>\n",
       "      <td>2</td>\n",
       "    </tr>\n",
       "    <tr>\n",
       "      <th>22</th>\n",
       "      <td>I boiled rice</td>\n",
       "      <td>4</td>\n",
       "    </tr>\n",
       "    <tr>\n",
       "      <th>23</th>\n",
       "      <td>she is a bully</td>\n",
       "      <td>3</td>\n",
       "    </tr>\n",
       "    <tr>\n",
       "      <th>24</th>\n",
       "      <td>Why are you feeling bad</td>\n",
       "      <td>3</td>\n",
       "    </tr>\n",
       "    <tr>\n",
       "      <th>25</th>\n",
       "      <td>I am upset</td>\n",
       "      <td>3</td>\n",
       "    </tr>\n",
       "    <tr>\n",
       "      <th>26</th>\n",
       "      <td>I worked during my birthday</td>\n",
       "      <td>3</td>\n",
       "    </tr>\n",
       "    <tr>\n",
       "      <th>27</th>\n",
       "      <td>My grandmother is the love of my life</td>\n",
       "      <td>0</td>\n",
       "    </tr>\n",
       "    <tr>\n",
       "      <th>28</th>\n",
       "      <td>enjoy your break</td>\n",
       "      <td>2</td>\n",
       "    </tr>\n",
       "    <tr>\n",
       "      <th>29</th>\n",
       "      <td>valentine day is near</td>\n",
       "      <td>0</td>\n",
       "    </tr>\n",
       "    <tr>\n",
       "      <th>30</th>\n",
       "      <td>I miss you so much</td>\n",
       "      <td>0</td>\n",
       "    </tr>\n",
       "    <tr>\n",
       "      <th>31</th>\n",
       "      <td>throw the ball</td>\n",
       "      <td>1</td>\n",
       "    </tr>\n",
       "    <tr>\n",
       "      <th>32</th>\n",
       "      <td>My life is so boring</td>\n",
       "      <td>3</td>\n",
       "    </tr>\n",
       "    <tr>\n",
       "      <th>33</th>\n",
       "      <td>she said yes</td>\n",
       "      <td>2</td>\n",
       "    </tr>\n",
       "    <tr>\n",
       "      <th>34</th>\n",
       "      <td>will you be my valentine</td>\n",
       "      <td>0</td>\n",
       "    </tr>\n",
       "    <tr>\n",
       "      <th>35</th>\n",
       "      <td>he can pitch really well</td>\n",
       "      <td>1</td>\n",
       "    </tr>\n",
       "    <tr>\n",
       "      <th>36</th>\n",
       "      <td>dance with me</td>\n",
       "      <td>2</td>\n",
       "    </tr>\n",
       "    <tr>\n",
       "      <th>37</th>\n",
       "      <td>I am starving</td>\n",
       "      <td>4</td>\n",
       "    </tr>\n",
       "    <tr>\n",
       "      <th>38</th>\n",
       "      <td>See you at the restaurant</td>\n",
       "      <td>4</td>\n",
       "    </tr>\n",
       "    <tr>\n",
       "      <th>39</th>\n",
       "      <td>I like to laugh</td>\n",
       "      <td>2</td>\n",
       "    </tr>\n",
       "    <tr>\n",
       "      <th>40</th>\n",
       "      <td>I will go danc</td>\n",
       "      <td>2</td>\n",
       "    </tr>\n",
       "    <tr>\n",
       "      <th>41</th>\n",
       "      <td>I like your jacket</td>\n",
       "      <td>2</td>\n",
       "    </tr>\n",
       "    <tr>\n",
       "      <th>42</th>\n",
       "      <td>i miss her</td>\n",
       "      <td>0</td>\n",
       "    </tr>\n",
       "    <tr>\n",
       "      <th>43</th>\n",
       "      <td>what is your favorite baseball game</td>\n",
       "      <td>1</td>\n",
       "    </tr>\n",
       "    <tr>\n",
       "      <th>44</th>\n",
       "      <td>Good job</td>\n",
       "      <td>2</td>\n",
       "    </tr>\n",
       "    <tr>\n",
       "      <th>45</th>\n",
       "      <td>I love to the stars and back</td>\n",
       "      <td>0</td>\n",
       "    </tr>\n",
       "    <tr>\n",
       "      <th>46</th>\n",
       "      <td>What you did was awesome</td>\n",
       "      <td>2</td>\n",
       "    </tr>\n",
       "    <tr>\n",
       "      <th>47</th>\n",
       "      <td>ha ha ha lol</td>\n",
       "      <td>2</td>\n",
       "    </tr>\n",
       "    <tr>\n",
       "      <th>48</th>\n",
       "      <td>I want to joke</td>\n",
       "      <td>2</td>\n",
       "    </tr>\n",
       "    <tr>\n",
       "      <th>49</th>\n",
       "      <td>go away</td>\n",
       "      <td>3</td>\n",
       "    </tr>\n",
       "    <tr>\n",
       "      <th>50</th>\n",
       "      <td>yesterday we lost again</td>\n",
       "      <td>3</td>\n",
       "    </tr>\n",
       "    <tr>\n",
       "      <th>51</th>\n",
       "      <td>family is all I have</td>\n",
       "      <td>0</td>\n",
       "    </tr>\n",
       "    <tr>\n",
       "      <th>52</th>\n",
       "      <td>you are failing this exercise</td>\n",
       "      <td>3</td>\n",
       "    </tr>\n",
       "    <tr>\n",
       "      <th>53</th>\n",
       "      <td>Good joke</td>\n",
       "      <td>2</td>\n",
       "    </tr>\n",
       "    <tr>\n",
       "      <th>54</th>\n",
       "      <td>You totally deserve this prize</td>\n",
       "      <td>2</td>\n",
       "    </tr>\n",
       "    <tr>\n",
       "      <th>55</th>\n",
       "      <td>I did not have breakfast</td>\n",
       "      <td>3</td>\n",
       "    </tr>\n",
       "  </tbody>\n",
       "</table>\n",
       "</div>\n",
       "      <button class=\"colab-df-convert\" onclick=\"convertToInteractive('df-d5f32769-908b-48dc-a5d1-4ac8eb374c6f')\"\n",
       "              title=\"Convert this dataframe to an interactive table.\"\n",
       "              style=\"display:none;\">\n",
       "        \n",
       "  <svg xmlns=\"http://www.w3.org/2000/svg\" height=\"24px\"viewBox=\"0 0 24 24\"\n",
       "       width=\"24px\">\n",
       "    <path d=\"M0 0h24v24H0V0z\" fill=\"none\"/>\n",
       "    <path d=\"M18.56 5.44l.94 2.06.94-2.06 2.06-.94-2.06-.94-.94-2.06-.94 2.06-2.06.94zm-11 1L8.5 8.5l.94-2.06 2.06-.94-2.06-.94L8.5 2.5l-.94 2.06-2.06.94zm10 10l.94 2.06.94-2.06 2.06-.94-2.06-.94-.94-2.06-.94 2.06-2.06.94z\"/><path d=\"M17.41 7.96l-1.37-1.37c-.4-.4-.92-.59-1.43-.59-.52 0-1.04.2-1.43.59L10.3 9.45l-7.72 7.72c-.78.78-.78 2.05 0 2.83L4 21.41c.39.39.9.59 1.41.59.51 0 1.02-.2 1.41-.59l7.78-7.78 2.81-2.81c.8-.78.8-2.07 0-2.86zM5.41 20L4 18.59l7.72-7.72 1.47 1.35L5.41 20z\"/>\n",
       "  </svg>\n",
       "      </button>\n",
       "      \n",
       "  <style>\n",
       "    .colab-df-container {\n",
       "      display:flex;\n",
       "      flex-wrap:wrap;\n",
       "      gap: 12px;\n",
       "    }\n",
       "\n",
       "    .colab-df-convert {\n",
       "      background-color: #E8F0FE;\n",
       "      border: none;\n",
       "      border-radius: 50%;\n",
       "      cursor: pointer;\n",
       "      display: none;\n",
       "      fill: #1967D2;\n",
       "      height: 32px;\n",
       "      padding: 0 0 0 0;\n",
       "      width: 32px;\n",
       "    }\n",
       "\n",
       "    .colab-df-convert:hover {\n",
       "      background-color: #E2EBFA;\n",
       "      box-shadow: 0px 1px 2px rgba(60, 64, 67, 0.3), 0px 1px 3px 1px rgba(60, 64, 67, 0.15);\n",
       "      fill: #174EA6;\n",
       "    }\n",
       "\n",
       "    [theme=dark] .colab-df-convert {\n",
       "      background-color: #3B4455;\n",
       "      fill: #D2E3FC;\n",
       "    }\n",
       "\n",
       "    [theme=dark] .colab-df-convert:hover {\n",
       "      background-color: #434B5C;\n",
       "      box-shadow: 0px 1px 3px 1px rgba(0, 0, 0, 0.15);\n",
       "      filter: drop-shadow(0px 1px 2px rgba(0, 0, 0, 0.3));\n",
       "      fill: #FFFFFF;\n",
       "    }\n",
       "  </style>\n",
       "\n",
       "      <script>\n",
       "        const buttonEl =\n",
       "          document.querySelector('#df-d5f32769-908b-48dc-a5d1-4ac8eb374c6f button.colab-df-convert');\n",
       "        buttonEl.style.display =\n",
       "          google.colab.kernel.accessAllowed ? 'block' : 'none';\n",
       "\n",
       "        async function convertToInteractive(key) {\n",
       "          const element = document.querySelector('#df-d5f32769-908b-48dc-a5d1-4ac8eb374c6f');\n",
       "          const dataTable =\n",
       "            await google.colab.kernel.invokeFunction('convertToInteractive',\n",
       "                                                     [key], {});\n",
       "          if (!dataTable) return;\n",
       "\n",
       "          const docLinkHtml = 'Like what you see? Visit the ' +\n",
       "            '<a target=\"_blank\" href=https://colab.research.google.com/notebooks/data_table.ipynb>data table notebook</a>'\n",
       "            + ' to learn more about interactive tables.';\n",
       "          element.innerHTML = '';\n",
       "          dataTable['output_type'] = 'display_data';\n",
       "          await google.colab.output.renderOutput(dataTable, element);\n",
       "          const docLink = document.createElement('div');\n",
       "          docLink.innerHTML = docLinkHtml;\n",
       "          element.appendChild(docLink);\n",
       "        }\n",
       "      </script>\n",
       "    </div>\n",
       "  </div>\n",
       "  "
      ],
      "text/plain": [
       "                                        0  1\n",
       "0                           I want to eat  4\n",
       "1                       he did not answer  3\n",
       "2                          he got a raise  2\n",
       "3                    she got me a present  0\n",
       "4                ha ha ha it was so funny  2\n",
       "5                     he is a good friend  0\n",
       "6                              I am upset  0\n",
       "7     We had such a lovely dinner tonight  0\n",
       "8                       where is the food  4\n",
       "9          Stop making this joke ha ha ha  2\n",
       "10                      where is the ball  1\n",
       "11                           work is hard  3\n",
       "12           This girl is messing with me  3\n",
       "13                  are you serious ha ha  2\n",
       "14                Let us go play baseball  1\n",
       "15     This stupid grader is not working   3\n",
       "16                       work is horrible  3\n",
       "17       Congratulation for having a baby  2\n",
       "18                    stop messing around  3\n",
       "19             any suggestions for dinner  4\n",
       "20                   I love taking breaks  0\n",
       "21                    you brighten my day  2\n",
       "22                          I boiled rice  4\n",
       "23                         she is a bully  3\n",
       "24                Why are you feeling bad  3\n",
       "25                             I am upset  3\n",
       "26            I worked during my birthday  3\n",
       "27  My grandmother is the love of my life  0\n",
       "28                       enjoy your break  2\n",
       "29                  valentine day is near  0\n",
       "30                     I miss you so much  0\n",
       "31                         throw the ball  1\n",
       "32                   My life is so boring  3\n",
       "33                           she said yes  2\n",
       "34               will you be my valentine  0\n",
       "35               he can pitch really well  1\n",
       "36                          dance with me  2\n",
       "37                          I am starving  4\n",
       "38              See you at the restaurant  4\n",
       "39                        I like to laugh  2\n",
       "40                         I will go danc  2\n",
       "41                    I like your jacket   2\n",
       "42                             i miss her  0\n",
       "43    what is your favorite baseball game  1\n",
       "44                               Good job  2\n",
       "45           I love to the stars and back  0\n",
       "46               What you did was awesome  2\n",
       "47                           ha ha ha lol  2\n",
       "48                         I want to joke  2\n",
       "49                                go away  3\n",
       "50                yesterday we lost again  3\n",
       "51                   family is all I have  0\n",
       "52          you are failing this exercise  3\n",
       "53                              Good joke  2\n",
       "54         You totally deserve this prize  2\n",
       "55               I did not have breakfast  3"
      ]
     },
     "execution_count": 20,
     "metadata": {},
     "output_type": "execute_result"
    }
   ],
   "source": [
    "# last 2 columns are not useful in train df\n",
    "train_df = train_df.drop([2, 3], axis=1)\n",
    "train_df\n",
    "\n",
    "# also, see that every phrase in test df is having \\t character at end, so remove that as well\n",
    "test_df[0] = test_df[0].apply(lambda text:text[:-1])\n",
    "test_df"
   ]
  },
  {
   "cell_type": "code",
   "execution_count": null,
   "metadata": {
    "colab": {
     "base_uri": "https://localhost:8080/",
     "height": 206
    },
    "id": "HbYmqg9teukp",
    "outputId": "d33e5b7d-e714-47ab-824c-f8ad7e8a3006"
   },
   "outputs": [
    {
     "data": {
      "text/html": [
       "\n",
       "  <div id=\"df-4278d7a2-b18a-43a4-b380-b3b68eb50d7f\">\n",
       "    <div class=\"colab-df-container\">\n",
       "      <div>\n",
       "<style scoped>\n",
       "    .dataframe tbody tr th:only-of-type {\n",
       "        vertical-align: middle;\n",
       "    }\n",
       "\n",
       "    .dataframe tbody tr th {\n",
       "        vertical-align: top;\n",
       "    }\n",
       "\n",
       "    .dataframe thead th {\n",
       "        text-align: right;\n",
       "    }\n",
       "</style>\n",
       "<table border=\"1\" class=\"dataframe\">\n",
       "  <thead>\n",
       "    <tr style=\"text-align: right;\">\n",
       "      <th></th>\n",
       "      <th>0</th>\n",
       "      <th>1</th>\n",
       "    </tr>\n",
       "  </thead>\n",
       "  <tbody>\n",
       "    <tr>\n",
       "      <th>0</th>\n",
       "      <td>never talk to me again</td>\n",
       "      <td>3</td>\n",
       "    </tr>\n",
       "    <tr>\n",
       "      <th>1</th>\n",
       "      <td>I am proud of your achievements</td>\n",
       "      <td>2</td>\n",
       "    </tr>\n",
       "    <tr>\n",
       "      <th>2</th>\n",
       "      <td>It is the worst day in my life</td>\n",
       "      <td>3</td>\n",
       "    </tr>\n",
       "    <tr>\n",
       "      <th>3</th>\n",
       "      <td>Miss you so much</td>\n",
       "      <td>0</td>\n",
       "    </tr>\n",
       "    <tr>\n",
       "      <th>4</th>\n",
       "      <td>food is life</td>\n",
       "      <td>4</td>\n",
       "    </tr>\n",
       "  </tbody>\n",
       "</table>\n",
       "</div>\n",
       "      <button class=\"colab-df-convert\" onclick=\"convertToInteractive('df-4278d7a2-b18a-43a4-b380-b3b68eb50d7f')\"\n",
       "              title=\"Convert this dataframe to an interactive table.\"\n",
       "              style=\"display:none;\">\n",
       "        \n",
       "  <svg xmlns=\"http://www.w3.org/2000/svg\" height=\"24px\"viewBox=\"0 0 24 24\"\n",
       "       width=\"24px\">\n",
       "    <path d=\"M0 0h24v24H0V0z\" fill=\"none\"/>\n",
       "    <path d=\"M18.56 5.44l.94 2.06.94-2.06 2.06-.94-2.06-.94-.94-2.06-.94 2.06-2.06.94zm-11 1L8.5 8.5l.94-2.06 2.06-.94-2.06-.94L8.5 2.5l-.94 2.06-2.06.94zm10 10l.94 2.06.94-2.06 2.06-.94-2.06-.94-.94-2.06-.94 2.06-2.06.94z\"/><path d=\"M17.41 7.96l-1.37-1.37c-.4-.4-.92-.59-1.43-.59-.52 0-1.04.2-1.43.59L10.3 9.45l-7.72 7.72c-.78.78-.78 2.05 0 2.83L4 21.41c.39.39.9.59 1.41.59.51 0 1.02-.2 1.41-.59l7.78-7.78 2.81-2.81c.8-.78.8-2.07 0-2.86zM5.41 20L4 18.59l7.72-7.72 1.47 1.35L5.41 20z\"/>\n",
       "  </svg>\n",
       "      </button>\n",
       "      \n",
       "  <style>\n",
       "    .colab-df-container {\n",
       "      display:flex;\n",
       "      flex-wrap:wrap;\n",
       "      gap: 12px;\n",
       "    }\n",
       "\n",
       "    .colab-df-convert {\n",
       "      background-color: #E8F0FE;\n",
       "      border: none;\n",
       "      border-radius: 50%;\n",
       "      cursor: pointer;\n",
       "      display: none;\n",
       "      fill: #1967D2;\n",
       "      height: 32px;\n",
       "      padding: 0 0 0 0;\n",
       "      width: 32px;\n",
       "    }\n",
       "\n",
       "    .colab-df-convert:hover {\n",
       "      background-color: #E2EBFA;\n",
       "      box-shadow: 0px 1px 2px rgba(60, 64, 67, 0.3), 0px 1px 3px 1px rgba(60, 64, 67, 0.15);\n",
       "      fill: #174EA6;\n",
       "    }\n",
       "\n",
       "    [theme=dark] .colab-df-convert {\n",
       "      background-color: #3B4455;\n",
       "      fill: #D2E3FC;\n",
       "    }\n",
       "\n",
       "    [theme=dark] .colab-df-convert:hover {\n",
       "      background-color: #434B5C;\n",
       "      box-shadow: 0px 1px 3px 1px rgba(0, 0, 0, 0.15);\n",
       "      filter: drop-shadow(0px 1px 2px rgba(0, 0, 0, 0.3));\n",
       "      fill: #FFFFFF;\n",
       "    }\n",
       "  </style>\n",
       "\n",
       "      <script>\n",
       "        const buttonEl =\n",
       "          document.querySelector('#df-4278d7a2-b18a-43a4-b380-b3b68eb50d7f button.colab-df-convert');\n",
       "        buttonEl.style.display =\n",
       "          google.colab.kernel.accessAllowed ? 'block' : 'none';\n",
       "\n",
       "        async function convertToInteractive(key) {\n",
       "          const element = document.querySelector('#df-4278d7a2-b18a-43a4-b380-b3b68eb50d7f');\n",
       "          const dataTable =\n",
       "            await google.colab.kernel.invokeFunction('convertToInteractive',\n",
       "                                                     [key], {});\n",
       "          if (!dataTable) return;\n",
       "\n",
       "          const docLinkHtml = 'Like what you see? Visit the ' +\n",
       "            '<a target=\"_blank\" href=https://colab.research.google.com/notebooks/data_table.ipynb>data table notebook</a>'\n",
       "            + ' to learn more about interactive tables.';\n",
       "          element.innerHTML = '';\n",
       "          dataTable['output_type'] = 'display_data';\n",
       "          await google.colab.output.renderOutput(dataTable, element);\n",
       "          const docLink = document.createElement('div');\n",
       "          docLink.innerHTML = docLinkHtml;\n",
       "          element.appendChild(docLink);\n",
       "        }\n",
       "      </script>\n",
       "    </div>\n",
       "  </div>\n",
       "  "
      ],
      "text/plain": [
       "                                 0  1\n",
       "0           never talk to me again  3\n",
       "1  I am proud of your achievements  2\n",
       "2   It is the worst day in my life  3\n",
       "3                 Miss you so much  0\n",
       "4                     food is life  4"
      ]
     },
     "execution_count": 21,
     "metadata": {},
     "output_type": "execute_result"
    }
   ],
   "source": [
    "train_df.head()"
   ]
  },
  {
   "cell_type": "code",
   "execution_count": null,
   "metadata": {
    "colab": {
     "base_uri": "https://localhost:8080/",
     "height": 206
    },
    "id": "XOiMkvMXe32B",
    "outputId": "8286cf4c-0f5b-4035-f32f-88b1110d1490"
   },
   "outputs": [
    {
     "data": {
      "text/html": [
       "\n",
       "  <div id=\"df-aa769685-b8ba-4fc2-a48b-8372275871f3\">\n",
       "    <div class=\"colab-df-container\">\n",
       "      <div>\n",
       "<style scoped>\n",
       "    .dataframe tbody tr th:only-of-type {\n",
       "        vertical-align: middle;\n",
       "    }\n",
       "\n",
       "    .dataframe tbody tr th {\n",
       "        vertical-align: top;\n",
       "    }\n",
       "\n",
       "    .dataframe thead th {\n",
       "        text-align: right;\n",
       "    }\n",
       "</style>\n",
       "<table border=\"1\" class=\"dataframe\">\n",
       "  <thead>\n",
       "    <tr style=\"text-align: right;\">\n",
       "      <th></th>\n",
       "      <th>0</th>\n",
       "      <th>1</th>\n",
       "    </tr>\n",
       "  </thead>\n",
       "  <tbody>\n",
       "    <tr>\n",
       "      <th>0</th>\n",
       "      <td>I want to eat</td>\n",
       "      <td>4</td>\n",
       "    </tr>\n",
       "    <tr>\n",
       "      <th>1</th>\n",
       "      <td>he did not answer</td>\n",
       "      <td>3</td>\n",
       "    </tr>\n",
       "    <tr>\n",
       "      <th>2</th>\n",
       "      <td>he got a raise</td>\n",
       "      <td>2</td>\n",
       "    </tr>\n",
       "    <tr>\n",
       "      <th>3</th>\n",
       "      <td>she got me a present</td>\n",
       "      <td>0</td>\n",
       "    </tr>\n",
       "    <tr>\n",
       "      <th>4</th>\n",
       "      <td>ha ha ha it was so funny</td>\n",
       "      <td>2</td>\n",
       "    </tr>\n",
       "  </tbody>\n",
       "</table>\n",
       "</div>\n",
       "      <button class=\"colab-df-convert\" onclick=\"convertToInteractive('df-aa769685-b8ba-4fc2-a48b-8372275871f3')\"\n",
       "              title=\"Convert this dataframe to an interactive table.\"\n",
       "              style=\"display:none;\">\n",
       "        \n",
       "  <svg xmlns=\"http://www.w3.org/2000/svg\" height=\"24px\"viewBox=\"0 0 24 24\"\n",
       "       width=\"24px\">\n",
       "    <path d=\"M0 0h24v24H0V0z\" fill=\"none\"/>\n",
       "    <path d=\"M18.56 5.44l.94 2.06.94-2.06 2.06-.94-2.06-.94-.94-2.06-.94 2.06-2.06.94zm-11 1L8.5 8.5l.94-2.06 2.06-.94-2.06-.94L8.5 2.5l-.94 2.06-2.06.94zm10 10l.94 2.06.94-2.06 2.06-.94-2.06-.94-.94-2.06-.94 2.06-2.06.94z\"/><path d=\"M17.41 7.96l-1.37-1.37c-.4-.4-.92-.59-1.43-.59-.52 0-1.04.2-1.43.59L10.3 9.45l-7.72 7.72c-.78.78-.78 2.05 0 2.83L4 21.41c.39.39.9.59 1.41.59.51 0 1.02-.2 1.41-.59l7.78-7.78 2.81-2.81c.8-.78.8-2.07 0-2.86zM5.41 20L4 18.59l7.72-7.72 1.47 1.35L5.41 20z\"/>\n",
       "  </svg>\n",
       "      </button>\n",
       "      \n",
       "  <style>\n",
       "    .colab-df-container {\n",
       "      display:flex;\n",
       "      flex-wrap:wrap;\n",
       "      gap: 12px;\n",
       "    }\n",
       "\n",
       "    .colab-df-convert {\n",
       "      background-color: #E8F0FE;\n",
       "      border: none;\n",
       "      border-radius: 50%;\n",
       "      cursor: pointer;\n",
       "      display: none;\n",
       "      fill: #1967D2;\n",
       "      height: 32px;\n",
       "      padding: 0 0 0 0;\n",
       "      width: 32px;\n",
       "    }\n",
       "\n",
       "    .colab-df-convert:hover {\n",
       "      background-color: #E2EBFA;\n",
       "      box-shadow: 0px 1px 2px rgba(60, 64, 67, 0.3), 0px 1px 3px 1px rgba(60, 64, 67, 0.15);\n",
       "      fill: #174EA6;\n",
       "    }\n",
       "\n",
       "    [theme=dark] .colab-df-convert {\n",
       "      background-color: #3B4455;\n",
       "      fill: #D2E3FC;\n",
       "    }\n",
       "\n",
       "    [theme=dark] .colab-df-convert:hover {\n",
       "      background-color: #434B5C;\n",
       "      box-shadow: 0px 1px 3px 1px rgba(0, 0, 0, 0.15);\n",
       "      filter: drop-shadow(0px 1px 2px rgba(0, 0, 0, 0.3));\n",
       "      fill: #FFFFFF;\n",
       "    }\n",
       "  </style>\n",
       "\n",
       "      <script>\n",
       "        const buttonEl =\n",
       "          document.querySelector('#df-aa769685-b8ba-4fc2-a48b-8372275871f3 button.colab-df-convert');\n",
       "        buttonEl.style.display =\n",
       "          google.colab.kernel.accessAllowed ? 'block' : 'none';\n",
       "\n",
       "        async function convertToInteractive(key) {\n",
       "          const element = document.querySelector('#df-aa769685-b8ba-4fc2-a48b-8372275871f3');\n",
       "          const dataTable =\n",
       "            await google.colab.kernel.invokeFunction('convertToInteractive',\n",
       "                                                     [key], {});\n",
       "          if (!dataTable) return;\n",
       "\n",
       "          const docLinkHtml = 'Like what you see? Visit the ' +\n",
       "            '<a target=\"_blank\" href=https://colab.research.google.com/notebooks/data_table.ipynb>data table notebook</a>'\n",
       "            + ' to learn more about interactive tables.';\n",
       "          element.innerHTML = '';\n",
       "          dataTable['output_type'] = 'display_data';\n",
       "          await google.colab.output.renderOutput(dataTable, element);\n",
       "          const docLink = document.createElement('div');\n",
       "          docLink.innerHTML = docLinkHtml;\n",
       "          element.appendChild(docLink);\n",
       "        }\n",
       "      </script>\n",
       "    </div>\n",
       "  </div>\n",
       "  "
      ],
      "text/plain": [
       "                          0  1\n",
       "0             I want to eat  4\n",
       "1         he did not answer  3\n",
       "2            he got a raise  2\n",
       "3      she got me a present  0\n",
       "4  ha ha ha it was so funny  2"
      ]
     },
     "execution_count": 22,
     "metadata": {},
     "output_type": "execute_result"
    }
   ],
   "source": [
    "test_df.head()"
   ]
  },
  {
   "cell_type": "code",
   "execution_count": null,
   "metadata": {
    "id": "nQzI6HLGb9_d"
   },
   "outputs": [],
   "source": [
    "training_corpus = train_df[0].values\n",
    "y_train = train_df[1].values\n",
    "\n",
    "testing_corpus = test_df[0].values\n",
    "y_test = test_df[1].values"
   ]
  },
  {
   "cell_type": "code",
   "execution_count": null,
   "metadata": {
    "colab": {
     "base_uri": "https://localhost:8080/"
    },
    "id": "EcyGRLiGXQa5",
    "outputId": "32ba119a-fdfd-48c0-9fde-f1c2e3f3391e"
   },
   "outputs": [
    {
     "data": {
      "text/plain": [
       "array(['never talk to me again', 'I am proud of your achievements',\n",
       "       'It is the worst day in my life', 'Miss you so much',\n",
       "       'food is life', 'I love you mum', 'Stop saying bullshit',\n",
       "       'congratulations on your acceptance',\n",
       "       'The assignment is too long ', 'I want to go play',\n",
       "       'she did not answer my text ', 'Your stupidity has no limit',\n",
       "       'how many points did he score', 'my algorithm performs poorly',\n",
       "       'I got approved', 'Stop shouting at me',\n",
       "       'Sounds like a fun plan ha ha', 'no one likes him',\n",
       "       'the game just finished', 'I will celebrate soon',\n",
       "       'So sad you are not coming', 'She is my dearest love', 'Good job',\n",
       "       'It was funny lol', 'candy is life ', 'The chicago cubs won again',\n",
       "       'I am hungry', 'I am so excited to see you after so long',\n",
       "       'you did well on you exam', 'lets brunch some day',\n",
       "       'he is so cute', 'How dare you ask that',\n",
       "       'do you want to join me for dinner ', 'I said yes',\n",
       "       'she is attractive', 'you suck', 'she smiles a lot',\n",
       "       'he is laughing', 'she takes forever to get ready ',\n",
       "       'French macaroon is so tasty', 'we made it', 'I am excited',\n",
       "       'I adore my dogs', 'Congratulations', 'this girl was mean',\n",
       "       'you two are cute',\n",
       "       'my code is working but the grader gave me zero',\n",
       "       'this joke is killing me haha', 'do you like pizza ',\n",
       "       'you got a down grade', 'I missed you',\n",
       "       'I think I will end up alone', 'I got humiliated by my sister',\n",
       "       'you are awful', 'I cooked meat', 'This is so funny',\n",
       "       'lets exercise', 'he is the best player',\n",
       "       'I am going to the stadium',\n",
       "       'You are incredibly intelligent and talented',\n",
       "       'Stop shouting at me', 'Who is your favorite player',\n",
       "       'I like you a lot', 'i miss him', 'my dog just had a few puppies',\n",
       "       'I hate him', 'I want chinese food', 'cookies are good',\n",
       "       'her smile is so charming',\n",
       "       'Bravo for the announcement it got a lot of traction',\n",
       "       'she plays baseball', 'he did an amazing job',\n",
       "       'The baby is adorable', 'I was waiting for her for two hours ',\n",
       "       'funny', 'I like it when people smile', 'I love dogs',\n",
       "       'they are so kind and friendly',\n",
       "       'So bad that you cannot come with us', 'he likes baseball',\n",
       "       'I am so impressed by your dedication to this project',\n",
       "       'I am at the baseball game', 'Bravo', 'What a fun moment',\n",
       "       'I want to have sushi for dinner', 'I am very disappointed',\n",
       "       'he can not do anything', 'lol', 'Lets have food together',\n",
       "       'she is so cute', 'miss you my dear', 'I am looking for a date',\n",
       "       'I am frustrated', 'I lost my wallet', 'you failed the midterm',\n",
       "       'ha ha ha it was so funny', 'Do you want to give me a hug',\n",
       "       'who is playing in the final', 'she is happy',\n",
       "       'You are not qualified for this position', 'I love my dad',\n",
       "       'this guy was such a joke', 'Good joke',\n",
       "       'This specialization is great', 'you could not solve it',\n",
       "       'I am so happy for you', 'Congrats on the new job',\n",
       "       'I am proud of you forever', 'I want to eat',\n",
       "       'That catcher sucks ', 'The first base man got the ball',\n",
       "       'this is bad', 'you did not do your homework',\n",
       "       'I will have a cheese cake', 'do you have a ball',\n",
       "       'the lectures are great though ',\n",
       "       'Are you down for baseball this afternoon',\n",
       "       'what are the rules of the game', 'I am always working',\n",
       "       'where is the stadium',\n",
       "       'She is the cutest person I have ever seen',\n",
       "       'vegetables are healthy', 'he is handsome',\n",
       "       'too bad that you were not here', 'you are a loser',\n",
       "       'I love indian food', 'Who is down for a restaurant',\n",
       "       'he had to make a home run', 'I am ordering food',\n",
       "       'What is wrong with you', 'I love you', 'great job'], dtype=object)"
      ]
     },
     "execution_count": 24,
     "metadata": {},
     "output_type": "execute_result"
    }
   ],
   "source": [
    "training_corpus"
   ]
  },
  {
   "cell_type": "code",
   "execution_count": null,
   "metadata": {
    "colab": {
     "base_uri": "https://localhost:8080/"
    },
    "id": "cZSz7Khfb-DO",
    "outputId": "9b0730a0-2d47-47a5-e29a-2f2059b344ea"
   },
   "outputs": [
    {
     "data": {
      "text/plain": [
       "(array(['never talk to me again', 'I am proud of your achievements',\n",
       "        'It is the worst day in my life', 'Miss you so much',\n",
       "        'food is life', 'I love you mum', 'Stop saying bullshit',\n",
       "        'congratulations on your acceptance',\n",
       "        'The assignment is too long ', 'I want to go play',\n",
       "        'she did not answer my text ', 'Your stupidity has no limit',\n",
       "        'how many points did he score', 'my algorithm performs poorly',\n",
       "        'I got approved', 'Stop shouting at me',\n",
       "        'Sounds like a fun plan ha ha', 'no one likes him',\n",
       "        'the game just finished', 'I will celebrate soon',\n",
       "        'So sad you are not coming', 'She is my dearest love', 'Good job',\n",
       "        'It was funny lol', 'candy is life ', 'The chicago cubs won again',\n",
       "        'I am hungry', 'I am so excited to see you after so long',\n",
       "        'you did well on you exam', 'lets brunch some day',\n",
       "        'he is so cute', 'How dare you ask that',\n",
       "        'do you want to join me for dinner ', 'I said yes',\n",
       "        'she is attractive', 'you suck', 'she smiles a lot',\n",
       "        'he is laughing', 'she takes forever to get ready ',\n",
       "        'French macaroon is so tasty', 'we made it', 'I am excited',\n",
       "        'I adore my dogs', 'Congratulations', 'this girl was mean',\n",
       "        'you two are cute',\n",
       "        'my code is working but the grader gave me zero',\n",
       "        'this joke is killing me haha', 'do you like pizza ',\n",
       "        'you got a down grade', 'I missed you',\n",
       "        'I think I will end up alone', 'I got humiliated by my sister',\n",
       "        'you are awful', 'I cooked meat', 'This is so funny',\n",
       "        'lets exercise', 'he is the best player',\n",
       "        'I am going to the stadium',\n",
       "        'You are incredibly intelligent and talented',\n",
       "        'Stop shouting at me', 'Who is your favorite player',\n",
       "        'I like you a lot', 'i miss him', 'my dog just had a few puppies',\n",
       "        'I hate him', 'I want chinese food', 'cookies are good',\n",
       "        'her smile is so charming',\n",
       "        'Bravo for the announcement it got a lot of traction',\n",
       "        'she plays baseball', 'he did an amazing job',\n",
       "        'The baby is adorable', 'I was waiting for her for two hours ',\n",
       "        'funny', 'I like it when people smile', 'I love dogs',\n",
       "        'they are so kind and friendly',\n",
       "        'So bad that you cannot come with us', 'he likes baseball',\n",
       "        'I am so impressed by your dedication to this project',\n",
       "        'I am at the baseball game', 'Bravo', 'What a fun moment',\n",
       "        'I want to have sushi for dinner', 'I am very disappointed',\n",
       "        'he can not do anything', 'lol', 'Lets have food together',\n",
       "        'she is so cute', 'miss you my dear', 'I am looking for a date',\n",
       "        'I am frustrated', 'I lost my wallet', 'you failed the midterm',\n",
       "        'ha ha ha it was so funny', 'Do you want to give me a hug',\n",
       "        'who is playing in the final', 'she is happy',\n",
       "        'You are not qualified for this position', 'I love my dad',\n",
       "        'this guy was such a joke', 'Good joke',\n",
       "        'This specialization is great', 'you could not solve it',\n",
       "        'I am so happy for you', 'Congrats on the new job',\n",
       "        'I am proud of you forever', 'I want to eat',\n",
       "        'That catcher sucks ', 'The first base man got the ball',\n",
       "        'this is bad', 'you did not do your homework',\n",
       "        'I will have a cheese cake', 'do you have a ball',\n",
       "        'the lectures are great though ',\n",
       "        'Are you down for baseball this afternoon',\n",
       "        'what are the rules of the game', 'I am always working',\n",
       "        'where is the stadium',\n",
       "        'She is the cutest person I have ever seen',\n",
       "        'vegetables are healthy', 'he is handsome',\n",
       "        'too bad that you were not here', 'you are a loser',\n",
       "        'I love indian food', 'Who is down for a restaurant',\n",
       "        'he had to make a home run', 'I am ordering food',\n",
       "        'What is wrong with you', 'I love you', 'great job'], dtype=object),\n",
       " array([3, 2, 3, 0, 4, 0, 3, 2, 3, 1, 3, 3, 1, 3, 2, 3, 2, 3, 1, 2, 3, 0,\n",
       "        2, 2, 2, 1, 4, 2, 2, 4, 0, 3, 4, 2, 0, 3, 2, 2, 3, 4, 2, 2, 0, 2,\n",
       "        3, 0, 3, 2, 4, 3, 0, 3, 3, 3, 4, 2, 1, 1, 1, 2, 3, 1, 0, 0, 0, 3,\n",
       "        4, 4, 2, 2, 1, 2, 0, 3, 2, 2, 0, 0, 3, 1, 2, 1, 2, 2, 4, 3, 3, 2,\n",
       "        4, 0, 0, 0, 3, 3, 3, 2, 0, 1, 2, 3, 0, 2, 2, 2, 3, 2, 2, 2, 4, 1,\n",
       "        1, 3, 3, 4, 1, 2, 1, 1, 3, 1, 0, 4, 0, 3, 3, 4, 4, 1, 4, 3, 0, 2]),\n",
       " array(['I want to eat', 'he did not answer', 'he got a raise',\n",
       "        'she got me a present', 'ha ha ha it was so funny',\n",
       "        'he is a good friend', 'I am upset',\n",
       "        'We had such a lovely dinner tonight', 'where is the food',\n",
       "        'Stop making this joke ha ha ha', 'where is the ball',\n",
       "        'work is hard', 'This girl is messing with me',\n",
       "        'are you serious ha ha', 'Let us go play baseball',\n",
       "        'This stupid grader is not working ', 'work is horrible',\n",
       "        'Congratulation for having a baby', 'stop messing around',\n",
       "        'any suggestions for dinner', 'I love taking breaks',\n",
       "        'you brighten my day', 'I boiled rice', 'she is a bully',\n",
       "        'Why are you feeling bad', 'I am upset',\n",
       "        'I worked during my birthday',\n",
       "        'My grandmother is the love of my life', 'enjoy your break',\n",
       "        'valentine day is near', 'I miss you so much', 'throw the ball',\n",
       "        'My life is so boring', 'she said yes', 'will you be my valentine',\n",
       "        'he can pitch really well', 'dance with me', 'I am starving',\n",
       "        'See you at the restaurant', 'I like to laugh', 'I will go danc',\n",
       "        'I like your jacket ', 'i miss her',\n",
       "        'what is your favorite baseball game', 'Good job',\n",
       "        'I love to the stars and back', 'What you did was awesome',\n",
       "        'ha ha ha lol', 'I want to joke', 'go away',\n",
       "        'yesterday we lost again', 'family is all I have',\n",
       "        'you are failing this exercise', 'Good joke',\n",
       "        'You totally deserve this prize', 'I did not have breakfast'],\n",
       "       dtype=object),\n",
       " array([4, 3, 2, 0, 2, 0, 0, 0, 4, 2, 1, 3, 3, 2, 1, 3, 3, 2, 3, 4, 0, 2,\n",
       "        4, 3, 3, 3, 3, 0, 2, 0, 0, 1, 3, 2, 0, 1, 2, 4, 4, 2, 2, 2, 0, 1,\n",
       "        2, 0, 2, 2, 2, 3, 3, 0, 3, 2, 2, 3]))"
      ]
     },
     "execution_count": 25,
     "metadata": {},
     "output_type": "execute_result"
    }
   ],
   "source": [
    "training_corpus, y_train, testing_corpus, y_test"
   ]
  },
  {
   "cell_type": "code",
   "execution_count": null,
   "metadata": {
    "id": "WqERmBzLsvgW"
   },
   "outputs": [],
   "source": [
    "emoji_dictionary = {\n",
    "    \"0\": \"\\u2764\\uFE0F\",    # :heart: prints a black instead of red heart depending on the font\n",
    "    \"1\": \":baseball:\",\n",
    "    \"2\": \":beaming_face_with_smiling_eyes:\",\n",
    "    \"3\": \":downcast_face_with_sweat:\",\n",
    "    \"4\": \":fork_and_knife:\",\n",
    "    }"
   ]
  },
  {
   "cell_type": "code",
   "execution_count": null,
   "metadata": {
    "colab": {
     "base_uri": "https://localhost:8080/"
    },
    "id": "NFtrHiDAsvbr",
    "outputId": "67315701-9ee3-4cb1-effb-3ce1c983c70c"
   },
   "outputs": [
    {
     "data": {
      "text/plain": [
       "('❤️', '🍴')"
      ]
     },
     "execution_count": 27,
     "metadata": {},
     "output_type": "execute_result"
    }
   ],
   "source": [
    "emoji.emojize(emoji_dictionary[\"0\"]), emoji.emojize(emoji_dictionary[\"4\"])"
   ]
  },
  {
   "cell_type": "code",
   "execution_count": null,
   "metadata": {
    "id": "BrFzvbJosjJ_"
   },
   "outputs": [],
   "source": []
  },
  {
   "cell_type": "code",
   "execution_count": null,
   "metadata": {
    "colab": {
     "background_save": true
    },
    "id": "u3aVT7oVf6wv"
   },
   "outputs": [],
   "source": []
  },
  {
   "cell_type": "code",
   "execution_count": null,
   "metadata": {
    "colab": {
     "background_save": true
    },
    "id": "2zCUOSHbf6_k"
   },
   "outputs": [],
   "source": []
  },
  {
   "cell_type": "markdown",
   "metadata": {
    "id": "AG7FLWj_f7cl"
   },
   "source": [
    "# Data Preparation"
   ]
  },
  {
   "cell_type": "code",
   "execution_count": null,
   "metadata": {
    "colab": {
     "background_save": true
    },
    "id": "wqDKaOSbf-iW"
   },
   "outputs": [],
   "source": [
    "with open(\"glove/glove.6B.50d.txt\", encoding=\"utf-8\") as file:\n",
    "  glove_list = file.readlines()"
   ]
  },
  {
   "cell_type": "code",
   "execution_count": null,
   "metadata": {
    "colab": {
     "background_save": true,
     "base_uri": "https://localhost:8080/"
    },
    "id": "1Dz5r216grGf",
    "outputId": "f1a4abb7-72c2-44cf-ccce-f682e51fe81b"
   },
   "outputs": [
    {
     "data": {
      "text/plain": [
       "400000"
      ]
     },
     "execution_count": null,
     "metadata": {},
     "output_type": "execute_result"
    }
   ],
   "source": [
    "len(glove_list)"
   ]
  },
  {
   "cell_type": "code",
   "execution_count": null,
   "metadata": {
    "colab": {
     "background_save": true,
     "base_uri": "https://localhost:8080/"
    },
    "id": "6dpDtg9-jyvA",
    "outputId": "946839be-2980-4b49-bdd7-fce8171dee8e"
   },
   "outputs": [
    {
     "data": {
      "text/plain": [
       "['the 0.418 0.24968 -0.41242 0.1217 0.34527 -0.044457 -0.49688 -0.17862 -0.00066023 -0.6566 0.27843 -0.14767 -0.55677 0.14658 -0.0095095 0.011658 0.10204 -0.12792 -0.8443 -0.12181 -0.016801 -0.33279 -0.1552 -0.23131 -0.19181 -1.8823 -0.76746 0.099051 -0.42125 -0.19526 4.0071 -0.18594 -0.52287 -0.31681 0.00059213 0.0074449 0.17778 -0.15897 0.012041 -0.054223 -0.29871 -0.15749 -0.34758 -0.045637 -0.44251 0.18785 0.0027849 -0.18411 -0.11514 -0.78581\\n',\n",
       " ', 0.013441 0.23682 -0.16899 0.40951 0.63812 0.47709 -0.42852 -0.55641 -0.364 -0.23938 0.13001 -0.063734 -0.39575 -0.48162 0.23291 0.090201 -0.13324 0.078639 -0.41634 -0.15428 0.10068 0.48891 0.31226 -0.1252 -0.037512 -1.5179 0.12612 -0.02442 -0.042961 -0.28351 3.5416 -0.11956 -0.014533 -0.1499 0.21864 -0.33412 -0.13872 0.31806 0.70358 0.44858 -0.080262 0.63003 0.32111 -0.46765 0.22786 0.36034 -0.37818 -0.56657 0.044691 0.30392\\n',\n",
       " '. 0.15164 0.30177 -0.16763 0.17684 0.31719 0.33973 -0.43478 -0.31086 -0.44999 -0.29486 0.16608 0.11963 -0.41328 -0.42353 0.59868 0.28825 -0.11547 -0.041848 -0.67989 -0.25063 0.18472 0.086876 0.46582 0.015035 0.043474 -1.4671 -0.30384 -0.023441 0.30589 -0.21785 3.746 0.0042284 -0.18436 -0.46209 0.098329 -0.11907 0.23919 0.1161 0.41705 0.056763 -6.3681e-05 0.068987 0.087939 -0.10285 -0.13931 0.22314 -0.080803 -0.35652 0.016413 0.10216\\n',\n",
       " 'of 0.70853 0.57088 -0.4716 0.18048 0.54449 0.72603 0.18157 -0.52393 0.10381 -0.17566 0.078852 -0.36216 -0.11829 -0.83336 0.11917 -0.16605 0.061555 -0.012719 -0.56623 0.013616 0.22851 -0.14396 -0.067549 -0.38157 -0.23698 -1.7037 -0.86692 -0.26704 -0.2589 0.1767 3.8676 -0.1613 -0.13273 -0.68881 0.18444 0.0052464 -0.33874 -0.078956 0.24185 0.36576 -0.34727 0.28483 0.075693 -0.062178 -0.38988 0.22902 -0.21617 -0.22562 -0.093918 -0.80375\\n',\n",
       " 'to 0.68047 -0.039263 0.30186 -0.17792 0.42962 0.032246 -0.41376 0.13228 -0.29847 -0.085253 0.17118 0.22419 -0.10046 -0.43653 0.33418 0.67846 0.057204 -0.34448 -0.42785 -0.43275 0.55963 0.10032 0.18677 -0.26854 0.037334 -2.0932 0.22171 -0.39868 0.20912 -0.55725 3.8826 0.47466 -0.95658 -0.37788 0.20869 -0.32752 0.12751 0.088359 0.16351 -0.21634 -0.094375 0.018324 0.21048 -0.03088 -0.19722 0.082279 -0.09434 -0.073297 -0.064699 -0.26044\\n']"
      ]
     },
     "execution_count": null,
     "metadata": {},
     "output_type": "execute_result"
    }
   ],
   "source": [
    "glove_list[0:5]"
   ]
  },
  {
   "cell_type": "code",
   "execution_count": null,
   "metadata": {
    "colab": {
     "background_save": true
    },
    "id": "Et5T8a2oj5pL"
   },
   "outputs": [],
   "source": [
    "wv = {}\n",
    "for vector in glove_list:\n",
    "  vector = vector.split()\n",
    "  wv[vector[0]] = np.array(vector[1:])"
   ]
  },
  {
   "cell_type": "code",
   "execution_count": null,
   "metadata": {
    "colab": {
     "background_save": true
    },
    "id": "35ggLYSimLpL"
   },
   "outputs": [],
   "source": [
    "# wv"
   ]
  },
  {
   "cell_type": "code",
   "execution_count": null,
   "metadata": {
    "colab": {
     "background_save": true,
     "base_uri": "https://localhost:8080/"
    },
    "id": "Q_Q1WVwRlN8-",
    "outputId": "566721d6-12c5-400e-99e1-c627ab63f9e9"
   },
   "outputs": [
    {
     "data": {
      "text/plain": [
       "array(['0.64295', '-0.42946', '-0.54277', '-1.0307', '1.2056', '-0.27174',\n",
       "       '-0.63561', '-0.015065', '0.37856', '0.046474', '-0.13102',\n",
       "       '0.605', '1.6391', '0.2394', '1.2128', '0.83178', '0.73893',\n",
       "       '0.152', '-0.14175', '-0.88384', '0.020829', '-0.32545', '1.8035',\n",
       "       '1.0045', '0.58484', '-0.62031', '-0.43296', '0.23562', '1.3027',\n",
       "       '-0.81264', '2.3158', '1.103', '-0.60608', '1.0101', '-0.22426',\n",
       "       '0.018908', '-0.10931', '0.3835', '0.77362', '-0.081927',\n",
       "       '-0.3404', '-0.0015143', '-0.05664', '0.87359', '1.4805',\n",
       "       '0.69421', '-0.30966', '-0.90826', '0.0037277', '0.8455'],\n",
       "      dtype='<U10')"
      ]
     },
     "execution_count": null,
     "metadata": {},
     "output_type": "execute_result"
    }
   ],
   "source": [
    "wv[\"eat\"]"
   ]
  },
  {
   "cell_type": "code",
   "execution_count": null,
   "metadata": {
    "colab": {
     "background_save": true
    },
    "id": "mr5CCl_anTUd"
   },
   "outputs": [],
   "source": []
  },
  {
   "cell_type": "code",
   "execution_count": null,
   "metadata": {
    "colab": {
     "background_save": true
    },
    "id": "puzY69nUpcgO"
   },
   "outputs": [],
   "source": []
  },
  {
   "cell_type": "code",
   "execution_count": null,
   "metadata": {
    "colab": {
     "background_save": true
    },
    "id": "ijo5tsmMpd-Y"
   },
   "outputs": [],
   "source": [
    "def create_dense(corpus, wv, max_len=10):\n",
    "  X = np.zeros((len(corpus), max_len, 50))\n",
    "\n",
    "  for i, sentence in enumerate(corpus):\n",
    "\n",
    "    for tau, word in enumerate(sentence.split()):\n",
    "      if tau >= max_len:\n",
    "        break\n",
    "      \n",
    "      word = word.lower()\n",
    "      try:\n",
    "        X[i][tau] = wv[word]\n",
    "      except:\n",
    "        pass\n",
    "\n",
    "  return X"
   ]
  },
  {
   "cell_type": "code",
   "execution_count": null,
   "metadata": {
    "colab": {
     "background_save": true
    },
    "id": "uqEQVJ0Spcj2"
   },
   "outputs": [],
   "source": [
    "X_train = create_dense(training_corpus, wv)"
   ]
  },
  {
   "cell_type": "code",
   "execution_count": null,
   "metadata": {
    "colab": {
     "background_save": true,
     "base_uri": "https://localhost:8080/"
    },
    "id": "RXVnc23hpcoY",
    "outputId": "670875c7-be0b-4286-ff60-6f102eb1520c"
   },
   "outputs": [
    {
     "data": {
      "text/plain": [
       "(132, 10, 50)"
      ]
     },
     "execution_count": null,
     "metadata": {},
     "output_type": "execute_result"
    }
   ],
   "source": [
    "X_train.shape"
   ]
  },
  {
   "cell_type": "code",
   "execution_count": null,
   "metadata": {
    "colab": {
     "background_save": true
    },
    "id": "Y4gfSmFu1Asz"
   },
   "outputs": [],
   "source": [
    "X_test = create_dense(testing_corpus, wv)"
   ]
  },
  {
   "cell_type": "code",
   "execution_count": null,
   "metadata": {
    "colab": {
     "background_save": true,
     "base_uri": "https://localhost:8080/"
    },
    "id": "JCrjKBw41I8m",
    "outputId": "e422bf94-e5a0-422a-a857-9c784f6e1198"
   },
   "outputs": [
    {
     "data": {
      "text/plain": [
       "(56, 10, 50)"
      ]
     },
     "execution_count": null,
     "metadata": {},
     "output_type": "execute_result"
    }
   ],
   "source": [
    "X_test.shape"
   ]
  },
  {
   "cell_type": "code",
   "execution_count": null,
   "metadata": {
    "colab": {
     "background_save": true,
     "base_uri": "https://localhost:8080/"
    },
    "id": "zlETEQlm1zHS",
    "outputId": "d75cfc1a-2dbb-4af0-a531-09651dabbdb4"
   },
   "outputs": [
    {
     "data": {
      "text/plain": [
       "array([[[ 9.5387e-02, -1.6865e-01, -1.1514e-01, ..., -4.2103e-01,\n",
       "         -5.3817e-01,  1.3738e-01],\n",
       "        [-3.4604e-02,  4.1087e-01, -9.7368e-02, ...,  5.6204e-01,\n",
       "         -5.9770e-01,  9.5068e-01],\n",
       "        [ 6.8047e-01, -3.9263e-02,  3.0186e-01, ..., -7.3297e-02,\n",
       "         -6.4699e-02, -2.6044e-01],\n",
       "        ...,\n",
       "        [ 0.0000e+00,  0.0000e+00,  0.0000e+00, ...,  0.0000e+00,\n",
       "          0.0000e+00,  0.0000e+00],\n",
       "        [ 0.0000e+00,  0.0000e+00,  0.0000e+00, ...,  0.0000e+00,\n",
       "          0.0000e+00,  0.0000e+00],\n",
       "        [ 0.0000e+00,  0.0000e+00,  0.0000e+00, ...,  0.0000e+00,\n",
       "          0.0000e+00,  0.0000e+00]],\n",
       "\n",
       "       [[ 1.1891e-01,  1.5255e-01, -8.2073e-02, ..., -5.7512e-01,\n",
       "         -2.6671e-01,  9.2121e-01],\n",
       "        [ 3.4664e-01,  3.9805e-01,  4.8970e-01, ...,  8.6576e-02,\n",
       "          3.4037e-01,  1.3588e+00],\n",
       "        [-5.9180e-01,  2.7671e-01, -4.6971e-01, ..., -2.0055e-01,\n",
       "         -2.6487e-01,  5.7981e-01],\n",
       "        ...,\n",
       "        [ 0.0000e+00,  0.0000e+00,  0.0000e+00, ...,  0.0000e+00,\n",
       "          0.0000e+00,  0.0000e+00],\n",
       "        [ 0.0000e+00,  0.0000e+00,  0.0000e+00, ...,  0.0000e+00,\n",
       "          0.0000e+00,  0.0000e+00],\n",
       "        [ 0.0000e+00,  0.0000e+00,  0.0000e+00, ...,  0.0000e+00,\n",
       "          0.0000e+00,  0.0000e+00]],\n",
       "\n",
       "       [[ 6.1183e-01, -2.2072e-01, -1.0898e-01, ..., -4.3688e-02,\n",
       "         -9.7922e-02,  1.6806e-01],\n",
       "        [ 6.1850e-01,  6.4254e-01, -4.6552e-01, ..., -2.7557e-01,\n",
       "          3.0899e-01,  4.8497e-01],\n",
       "        [ 4.1800e-01,  2.4968e-01, -4.1242e-01, ..., -1.8411e-01,\n",
       "         -1.1514e-01, -7.8581e-01],\n",
       "        ...,\n",
       "        [ 5.1491e-01,  8.8806e-01, -7.1906e-01, ..., -9.9837e-01,\n",
       "         -6.6328e-02,  1.3118e-01],\n",
       "        [ 0.0000e+00,  0.0000e+00,  0.0000e+00, ...,  0.0000e+00,\n",
       "          0.0000e+00,  0.0000e+00],\n",
       "        [ 0.0000e+00,  0.0000e+00,  0.0000e+00, ...,  0.0000e+00,\n",
       "          0.0000e+00,  0.0000e+00]],\n",
       "\n",
       "       ...,\n",
       "\n",
       "       [[ 4.5323e-01,  5.9811e-02, -1.0577e-01, ...,  5.3240e-01,\n",
       "         -2.5103e-01,  6.2546e-01],\n",
       "        [ 6.1850e-01,  6.4254e-01, -4.6552e-01, ..., -2.7557e-01,\n",
       "          3.0899e-01,  4.8497e-01],\n",
       "        [ 1.3423e-01, -7.0572e-01,  2.5652e-01, ...,  4.3723e-01,\n",
       "          9.0636e-01,  5.1193e-01],\n",
       "        ...,\n",
       "        [ 0.0000e+00,  0.0000e+00,  0.0000e+00, ...,  0.0000e+00,\n",
       "          0.0000e+00,  0.0000e+00],\n",
       "        [ 0.0000e+00,  0.0000e+00,  0.0000e+00, ...,  0.0000e+00,\n",
       "          0.0000e+00,  0.0000e+00],\n",
       "        [ 0.0000e+00,  0.0000e+00,  0.0000e+00, ...,  0.0000e+00,\n",
       "          0.0000e+00,  0.0000e+00]],\n",
       "\n",
       "       [[ 1.1891e-01,  1.5255e-01, -8.2073e-02, ..., -5.7512e-01,\n",
       "         -2.6671e-01,  9.2121e-01],\n",
       "        [-1.3886e-01,  1.1401e+00, -8.5212e-01, ..., -1.3711e+00,\n",
       "         -2.8606e-01,  2.8980e-01],\n",
       "        [-1.0919e-03,  3.3324e-01,  3.5743e-01, ..., -4.5697e-01,\n",
       "         -4.8969e-02,  1.1316e+00],\n",
       "        ...,\n",
       "        [ 0.0000e+00,  0.0000e+00,  0.0000e+00, ...,  0.0000e+00,\n",
       "          0.0000e+00,  0.0000e+00],\n",
       "        [ 0.0000e+00,  0.0000e+00,  0.0000e+00, ...,  0.0000e+00,\n",
       "          0.0000e+00,  0.0000e+00],\n",
       "        [ 0.0000e+00,  0.0000e+00,  0.0000e+00, ...,  0.0000e+00,\n",
       "          0.0000e+00,  0.0000e+00]],\n",
       "\n",
       "       [[-2.6567e-02,  1.3357e+00, -1.0280e+00, ..., -4.9658e-01,\n",
       "         -4.1618e-01, -2.5490e-01],\n",
       "        [-2.0343e-01, -4.5235e-02,  2.3346e-01, ...,  7.8093e-01,\n",
       "          4.6384e-03,  1.3011e+00],\n",
       "        [ 0.0000e+00,  0.0000e+00,  0.0000e+00, ...,  0.0000e+00,\n",
       "          0.0000e+00,  0.0000e+00],\n",
       "        ...,\n",
       "        [ 0.0000e+00,  0.0000e+00,  0.0000e+00, ...,  0.0000e+00,\n",
       "          0.0000e+00,  0.0000e+00],\n",
       "        [ 0.0000e+00,  0.0000e+00,  0.0000e+00, ...,  0.0000e+00,\n",
       "          0.0000e+00,  0.0000e+00],\n",
       "        [ 0.0000e+00,  0.0000e+00,  0.0000e+00, ...,  0.0000e+00,\n",
       "          0.0000e+00,  0.0000e+00]]])"
      ]
     },
     "execution_count": null,
     "metadata": {},
     "output_type": "execute_result"
    }
   ],
   "source": [
    "X_train"
   ]
  },
  {
   "cell_type": "code",
   "execution_count": null,
   "metadata": {
    "colab": {
     "background_save": true
    },
    "id": "uzC_trBmNRYo"
   },
   "outputs": [],
   "source": []
  },
  {
   "cell_type": "code",
   "execution_count": null,
   "metadata": {
    "colab": {
     "background_save": true
    },
    "id": "75dzab2lNRPT"
   },
   "outputs": [],
   "source": [
    "from tensorflow.keras.utils import to_categorical"
   ]
  },
  {
   "cell_type": "code",
   "execution_count": null,
   "metadata": {
    "colab": {
     "background_save": true
    },
    "id": "qJ-K7aZE10Td"
   },
   "outputs": [],
   "source": [
    "y_train = to_categorical(y_train)\n",
    "y_test = to_categorical(y_test)"
   ]
  },
  {
   "cell_type": "code",
   "execution_count": null,
   "metadata": {
    "colab": {
     "background_save": true
    },
    "id": "rO5f48LULaYn"
   },
   "outputs": [],
   "source": []
  },
  {
   "cell_type": "code",
   "execution_count": null,
   "metadata": {
    "colab": {
     "background_save": true
    },
    "id": "vl0UmMyMLacU"
   },
   "outputs": [],
   "source": []
  },
  {
   "cell_type": "markdown",
   "metadata": {
    "id": "3cF_pKbILcWZ"
   },
   "source": [
    "# Model Preparation"
   ]
  },
  {
   "cell_type": "markdown",
   "metadata": {
    "id": "jbD1ZF-JLmi7"
   },
   "source": [
    "### LSTM based model"
   ]
  },
  {
   "cell_type": "code",
   "execution_count": null,
   "metadata": {
    "colab": {
     "background_save": true
    },
    "id": "MEbAjKU3Lage"
   },
   "outputs": [],
   "source": [
    "from keras.models import Sequential\n",
    "from keras.layers import LSTM, Dense"
   ]
  },
  {
   "cell_type": "code",
   "execution_count": null,
   "metadata": {
    "colab": {
     "background_save": true
    },
    "id": "TW3YIweTMl-Q"
   },
   "outputs": [],
   "source": [
    "model = Sequential()"
   ]
  },
  {
   "cell_type": "code",
   "execution_count": null,
   "metadata": {
    "colab": {
     "background_save": true
    },
    "id": "7TexDU-QMok5"
   },
   "outputs": [],
   "source": [
    "model.add(LSTM(64, input_shape=(10, 50)))\n",
    "model.add(Dense(5, activation='softmax'))"
   ]
  },
  {
   "cell_type": "code",
   "execution_count": null,
   "metadata": {
    "colab": {
     "background_save": true
    },
    "id": "DRmSHLL3M0Lz"
   },
   "outputs": [],
   "source": [
    "model.compile(loss='categorical_crossentropy', optimizer='adam', metrics=['accuracy'])"
   ]
  },
  {
   "cell_type": "code",
   "execution_count": null,
   "metadata": {
    "colab": {
     "background_save": true,
     "base_uri": "https://localhost:8080/"
    },
    "id": "6iYbBmLTM8Eu",
    "outputId": "da868073-8d8b-4648-d465-f451108916dd"
   },
   "outputs": [
    {
     "name": "stdout",
     "output_type": "stream",
     "text": [
      "Model: \"sequential\"\n",
      "_________________________________________________________________\n",
      " Layer (type)                Output Shape              Param #   \n",
      "=================================================================\n",
      " lstm (LSTM)                 (None, 64)                29440     \n",
      "                                                                 \n",
      " dense (Dense)               (None, 5)                 325       \n",
      "                                                                 \n",
      "=================================================================\n",
      "Total params: 29,765\n",
      "Trainable params: 29,765\n",
      "Non-trainable params: 0\n",
      "_________________________________________________________________\n"
     ]
    }
   ],
   "source": [
    "model.summary()"
   ]
  },
  {
   "cell_type": "code",
   "execution_count": null,
   "metadata": {
    "colab": {
     "background_save": true
    },
    "id": "SJb9ByVOSfa0"
   },
   "outputs": [],
   "source": [
    "from keras.callbacks import ModelCheckpoint\n",
    "model_checkpoint_callback = ModelCheckpoint('best_emoji_weights.h5', monitor='val_accuracy', save_best_only=True)"
   ]
  },
  {
   "cell_type": "code",
   "execution_count": null,
   "metadata": {
    "colab": {
     "background_save": true
    },
    "id": "w_JsW46gOa1m"
   },
   "outputs": [],
   "source": [
    "# from keras.callbacks import EarlyStopping\n",
    "# early_stopping_callback = EarlyStopping(monitor='val_accuracy', min_delta=0.01, patience=15, restore_best_weights=True)"
   ]
  },
  {
   "cell_type": "code",
   "execution_count": null,
   "metadata": {
    "colab": {
     "background_save": true,
     "base_uri": "https://localhost:8080/"
    },
    "id": "15P746HVM_eU",
    "outputId": "25528139-64ac-4dcc-9632-fdd20e50d6d3"
   },
   "outputs": [
    {
     "name": "stdout",
     "output_type": "stream",
     "text": [
      "Epoch 1/100\n",
      "4/4 [==============================] - 6s 209ms/step - loss: 1.6215 - accuracy: 0.2476 - val_loss: 1.5737 - val_accuracy: 0.2222\n",
      "Epoch 2/100\n",
      "4/4 [==============================] - 0s 16ms/step - loss: 1.5483 - accuracy: 0.3619 - val_loss: 1.5610 - val_accuracy: 0.2593\n",
      "Epoch 3/100\n",
      "4/4 [==============================] - 0s 11ms/step - loss: 1.4972 - accuracy: 0.4286 - val_loss: 1.5600 - val_accuracy: 0.2222\n",
      "Epoch 4/100\n",
      "4/4 [==============================] - 0s 11ms/step - loss: 1.4547 - accuracy: 0.4381 - val_loss: 1.5673 - val_accuracy: 0.2222\n",
      "Epoch 5/100\n",
      "4/4 [==============================] - 0s 11ms/step - loss: 1.4147 - accuracy: 0.4190 - val_loss: 1.5635 - val_accuracy: 0.2222\n",
      "Epoch 6/100\n",
      "4/4 [==============================] - 0s 10ms/step - loss: 1.3727 - accuracy: 0.4476 - val_loss: 1.5479 - val_accuracy: 0.2593\n",
      "Epoch 7/100\n",
      "4/4 [==============================] - 0s 11ms/step - loss: 1.3272 - accuracy: 0.5143 - val_loss: 1.5114 - val_accuracy: 0.2222\n",
      "Epoch 8/100\n",
      "4/4 [==============================] - 0s 16ms/step - loss: 1.2683 - accuracy: 0.5333 - val_loss: 1.4627 - val_accuracy: 0.3704\n",
      "Epoch 9/100\n",
      "4/4 [==============================] - 0s 11ms/step - loss: 1.1985 - accuracy: 0.6286 - val_loss: 1.3927 - val_accuracy: 0.3333\n",
      "Epoch 10/100\n",
      "4/4 [==============================] - 0s 16ms/step - loss: 1.1274 - accuracy: 0.6190 - val_loss: 1.3107 - val_accuracy: 0.4074\n",
      "Epoch 11/100\n",
      "4/4 [==============================] - 0s 16ms/step - loss: 1.0374 - accuracy: 0.6286 - val_loss: 1.1943 - val_accuracy: 0.4444\n",
      "Epoch 12/100\n",
      "4/4 [==============================] - 0s 10ms/step - loss: 0.9591 - accuracy: 0.6571 - val_loss: 1.1389 - val_accuracy: 0.4074\n",
      "Epoch 13/100\n",
      "4/4 [==============================] - 0s 15ms/step - loss: 0.8806 - accuracy: 0.7048 - val_loss: 1.1216 - val_accuracy: 0.5185\n",
      "Epoch 14/100\n",
      "4/4 [==============================] - 0s 16ms/step - loss: 0.7926 - accuracy: 0.7429 - val_loss: 1.0800 - val_accuracy: 0.5926\n",
      "Epoch 15/100\n",
      "4/4 [==============================] - 0s 16ms/step - loss: 0.7050 - accuracy: 0.8000 - val_loss: 0.9989 - val_accuracy: 0.6667\n",
      "Epoch 16/100\n",
      "4/4 [==============================] - 0s 16ms/step - loss: 0.6523 - accuracy: 0.8000 - val_loss: 0.9116 - val_accuracy: 0.7778\n",
      "Epoch 17/100\n",
      "4/4 [==============================] - 0s 11ms/step - loss: 0.6091 - accuracy: 0.8286 - val_loss: 0.8727 - val_accuracy: 0.7037\n",
      "Epoch 18/100\n",
      "4/4 [==============================] - 0s 10ms/step - loss: 0.5233 - accuracy: 0.8667 - val_loss: 0.8517 - val_accuracy: 0.7407\n",
      "Epoch 19/100\n",
      "4/4 [==============================] - 0s 10ms/step - loss: 0.4720 - accuracy: 0.8762 - val_loss: 0.9533 - val_accuracy: 0.7037\n",
      "Epoch 20/100\n",
      "4/4 [==============================] - 0s 10ms/step - loss: 0.4228 - accuracy: 0.8762 - val_loss: 0.8381 - val_accuracy: 0.7778\n",
      "Epoch 21/100\n",
      "4/4 [==============================] - 0s 16ms/step - loss: 0.4368 - accuracy: 0.8857 - val_loss: 0.6896 - val_accuracy: 0.8148\n",
      "Epoch 22/100\n",
      "4/4 [==============================] - 0s 10ms/step - loss: 0.3617 - accuracy: 0.9048 - val_loss: 0.8535 - val_accuracy: 0.7407\n",
      "Epoch 23/100\n",
      "4/4 [==============================] - 0s 10ms/step - loss: 0.3929 - accuracy: 0.8667 - val_loss: 0.8358 - val_accuracy: 0.7407\n",
      "Epoch 24/100\n",
      "4/4 [==============================] - 0s 13ms/step - loss: 0.2695 - accuracy: 0.9524 - val_loss: 0.8280 - val_accuracy: 0.6667\n",
      "Epoch 25/100\n",
      "4/4 [==============================] - 0s 10ms/step - loss: 0.2783 - accuracy: 0.9238 - val_loss: 0.7652 - val_accuracy: 0.7778\n",
      "Epoch 26/100\n",
      "4/4 [==============================] - 0s 10ms/step - loss: 0.2180 - accuracy: 0.9619 - val_loss: 0.7948 - val_accuracy: 0.7778\n",
      "Epoch 27/100\n",
      "4/4 [==============================] - 0s 10ms/step - loss: 0.1908 - accuracy: 0.9429 - val_loss: 0.7688 - val_accuracy: 0.7037\n",
      "Epoch 28/100\n",
      "4/4 [==============================] - 0s 10ms/step - loss: 0.1690 - accuracy: 0.9810 - val_loss: 0.7618 - val_accuracy: 0.7037\n",
      "Epoch 29/100\n",
      "4/4 [==============================] - 0s 12ms/step - loss: 0.1540 - accuracy: 0.9714 - val_loss: 0.7285 - val_accuracy: 0.7407\n",
      "Epoch 30/100\n",
      "4/4 [==============================] - 0s 10ms/step - loss: 0.1315 - accuracy: 0.9714 - val_loss: 0.8053 - val_accuracy: 0.7037\n",
      "Epoch 31/100\n",
      "4/4 [==============================] - 0s 11ms/step - loss: 0.1194 - accuracy: 0.9810 - val_loss: 0.8690 - val_accuracy: 0.7407\n",
      "Epoch 32/100\n",
      "4/4 [==============================] - 0s 10ms/step - loss: 0.1083 - accuracy: 0.9905 - val_loss: 0.8169 - val_accuracy: 0.7407\n",
      "Epoch 33/100\n",
      "4/4 [==============================] - 0s 10ms/step - loss: 0.0893 - accuracy: 1.0000 - val_loss: 0.7751 - val_accuracy: 0.7407\n",
      "Epoch 34/100\n",
      "4/4 [==============================] - 0s 10ms/step - loss: 0.0826 - accuracy: 1.0000 - val_loss: 0.7834 - val_accuracy: 0.6667\n",
      "Epoch 35/100\n",
      "4/4 [==============================] - 0s 11ms/step - loss: 0.0732 - accuracy: 1.0000 - val_loss: 0.8329 - val_accuracy: 0.7037\n",
      "Epoch 36/100\n",
      "4/4 [==============================] - 0s 10ms/step - loss: 0.0556 - accuracy: 1.0000 - val_loss: 0.9476 - val_accuracy: 0.7037\n",
      "Epoch 37/100\n",
      "4/4 [==============================] - 0s 10ms/step - loss: 0.0620 - accuracy: 0.9905 - val_loss: 0.8497 - val_accuracy: 0.7407\n",
      "Epoch 38/100\n",
      "4/4 [==============================] - 0s 11ms/step - loss: 0.0442 - accuracy: 1.0000 - val_loss: 0.8765 - val_accuracy: 0.6667\n",
      "Epoch 39/100\n",
      "4/4 [==============================] - 0s 10ms/step - loss: 0.0506 - accuracy: 1.0000 - val_loss: 0.8716 - val_accuracy: 0.6667\n",
      "Epoch 40/100\n",
      "4/4 [==============================] - 0s 10ms/step - loss: 0.0359 - accuracy: 1.0000 - val_loss: 1.0012 - val_accuracy: 0.7037\n",
      "Epoch 41/100\n",
      "4/4 [==============================] - 0s 10ms/step - loss: 0.0325 - accuracy: 1.0000 - val_loss: 1.0284 - val_accuracy: 0.7037\n",
      "Epoch 42/100\n",
      "4/4 [==============================] - 0s 10ms/step - loss: 0.0371 - accuracy: 1.0000 - val_loss: 0.9969 - val_accuracy: 0.7037\n",
      "Epoch 43/100\n",
      "4/4 [==============================] - 0s 10ms/step - loss: 0.0251 - accuracy: 1.0000 - val_loss: 1.0117 - val_accuracy: 0.6667\n",
      "Epoch 44/100\n",
      "4/4 [==============================] - 0s 11ms/step - loss: 0.0256 - accuracy: 1.0000 - val_loss: 0.9936 - val_accuracy: 0.6667\n",
      "Epoch 45/100\n",
      "4/4 [==============================] - 0s 12ms/step - loss: 0.0210 - accuracy: 1.0000 - val_loss: 1.0167 - val_accuracy: 0.6667\n",
      "Epoch 46/100\n",
      "4/4 [==============================] - 0s 11ms/step - loss: 0.0201 - accuracy: 1.0000 - val_loss: 1.0608 - val_accuracy: 0.7407\n",
      "Epoch 47/100\n",
      "4/4 [==============================] - 0s 12ms/step - loss: 0.0181 - accuracy: 1.0000 - val_loss: 1.0744 - val_accuracy: 0.7407\n",
      "Epoch 48/100\n",
      "4/4 [==============================] - 0s 13ms/step - loss: 0.0168 - accuracy: 1.0000 - val_loss: 1.0515 - val_accuracy: 0.7407\n",
      "Epoch 49/100\n",
      "4/4 [==============================] - 0s 12ms/step - loss: 0.0154 - accuracy: 1.0000 - val_loss: 1.0278 - val_accuracy: 0.7037\n",
      "Epoch 50/100\n",
      "4/4 [==============================] - 0s 11ms/step - loss: 0.0145 - accuracy: 1.0000 - val_loss: 1.0259 - val_accuracy: 0.7037\n",
      "Epoch 51/100\n",
      "4/4 [==============================] - 0s 11ms/step - loss: 0.0136 - accuracy: 1.0000 - val_loss: 1.0277 - val_accuracy: 0.7037\n",
      "Epoch 52/100\n",
      "4/4 [==============================] - 0s 11ms/step - loss: 0.0129 - accuracy: 1.0000 - val_loss: 1.0423 - val_accuracy: 0.7037\n",
      "Epoch 53/100\n",
      "4/4 [==============================] - 0s 10ms/step - loss: 0.0122 - accuracy: 1.0000 - val_loss: 1.0628 - val_accuracy: 0.7407\n",
      "Epoch 54/100\n",
      "4/4 [==============================] - 0s 11ms/step - loss: 0.0117 - accuracy: 1.0000 - val_loss: 1.0769 - val_accuracy: 0.7407\n",
      "Epoch 55/100\n",
      "4/4 [==============================] - 0s 11ms/step - loss: 0.0110 - accuracy: 1.0000 - val_loss: 1.0787 - val_accuracy: 0.7037\n",
      "Epoch 56/100\n",
      "4/4 [==============================] - 0s 10ms/step - loss: 0.0107 - accuracy: 1.0000 - val_loss: 1.0836 - val_accuracy: 0.7037\n",
      "Epoch 57/100\n",
      "4/4 [==============================] - 0s 10ms/step - loss: 0.0101 - accuracy: 1.0000 - val_loss: 1.1031 - val_accuracy: 0.6667\n",
      "Epoch 58/100\n",
      "4/4 [==============================] - 0s 11ms/step - loss: 0.0097 - accuracy: 1.0000 - val_loss: 1.1137 - val_accuracy: 0.6667\n",
      "Epoch 59/100\n",
      "4/4 [==============================] - 0s 11ms/step - loss: 0.0094 - accuracy: 1.0000 - val_loss: 1.1142 - val_accuracy: 0.6667\n",
      "Epoch 60/100\n",
      "4/4 [==============================] - 0s 12ms/step - loss: 0.0090 - accuracy: 1.0000 - val_loss: 1.1108 - val_accuracy: 0.7037\n",
      "Epoch 61/100\n",
      "4/4 [==============================] - 0s 10ms/step - loss: 0.0088 - accuracy: 1.0000 - val_loss: 1.1084 - val_accuracy: 0.7037\n",
      "Epoch 62/100\n",
      "4/4 [==============================] - 0s 11ms/step - loss: 0.0085 - accuracy: 1.0000 - val_loss: 1.1099 - val_accuracy: 0.6667\n",
      "Epoch 63/100\n",
      "4/4 [==============================] - 0s 10ms/step - loss: 0.0081 - accuracy: 1.0000 - val_loss: 1.1291 - val_accuracy: 0.6667\n",
      "Epoch 64/100\n",
      "4/4 [==============================] - 0s 11ms/step - loss: 0.0078 - accuracy: 1.0000 - val_loss: 1.1399 - val_accuracy: 0.6667\n",
      "Epoch 65/100\n",
      "4/4 [==============================] - 0s 11ms/step - loss: 0.0079 - accuracy: 1.0000 - val_loss: 1.1502 - val_accuracy: 0.7037\n",
      "Epoch 66/100\n",
      "4/4 [==============================] - 0s 10ms/step - loss: 0.0074 - accuracy: 1.0000 - val_loss: 1.1517 - val_accuracy: 0.7037\n",
      "Epoch 67/100\n",
      "4/4 [==============================] - 0s 11ms/step - loss: 0.0069 - accuracy: 1.0000 - val_loss: 1.1467 - val_accuracy: 0.7037\n",
      "Epoch 68/100\n",
      "4/4 [==============================] - 0s 10ms/step - loss: 0.0068 - accuracy: 1.0000 - val_loss: 1.1311 - val_accuracy: 0.7037\n",
      "Epoch 69/100\n",
      "4/4 [==============================] - 0s 11ms/step - loss: 0.0065 - accuracy: 1.0000 - val_loss: 1.1387 - val_accuracy: 0.6667\n",
      "Epoch 70/100\n",
      "4/4 [==============================] - 0s 11ms/step - loss: 0.0064 - accuracy: 1.0000 - val_loss: 1.1441 - val_accuracy: 0.6667\n",
      "Epoch 71/100\n",
      "4/4 [==============================] - 0s 11ms/step - loss: 0.0062 - accuracy: 1.0000 - val_loss: 1.1433 - val_accuracy: 0.6667\n",
      "Epoch 72/100\n",
      "4/4 [==============================] - 0s 12ms/step - loss: 0.0060 - accuracy: 1.0000 - val_loss: 1.1430 - val_accuracy: 0.6667\n",
      "Epoch 73/100\n",
      "4/4 [==============================] - 0s 11ms/step - loss: 0.0059 - accuracy: 1.0000 - val_loss: 1.1471 - val_accuracy: 0.6667\n",
      "Epoch 74/100\n",
      "4/4 [==============================] - 0s 11ms/step - loss: 0.0057 - accuracy: 1.0000 - val_loss: 1.1502 - val_accuracy: 0.6667\n",
      "Epoch 75/100\n",
      "4/4 [==============================] - 0s 11ms/step - loss: 0.0055 - accuracy: 1.0000 - val_loss: 1.1564 - val_accuracy: 0.6667\n",
      "Epoch 76/100\n",
      "4/4 [==============================] - 0s 11ms/step - loss: 0.0053 - accuracy: 1.0000 - val_loss: 1.1599 - val_accuracy: 0.6667\n",
      "Epoch 77/100\n",
      "4/4 [==============================] - 0s 11ms/step - loss: 0.0052 - accuracy: 1.0000 - val_loss: 1.1760 - val_accuracy: 0.6667\n",
      "Epoch 78/100\n",
      "4/4 [==============================] - 0s 11ms/step - loss: 0.0051 - accuracy: 1.0000 - val_loss: 1.1908 - val_accuracy: 0.6667\n",
      "Epoch 79/100\n",
      "4/4 [==============================] - 0s 11ms/step - loss: 0.0049 - accuracy: 1.0000 - val_loss: 1.1934 - val_accuracy: 0.6667\n",
      "Epoch 80/100\n",
      "4/4 [==============================] - 0s 11ms/step - loss: 0.0048 - accuracy: 1.0000 - val_loss: 1.1942 - val_accuracy: 0.6667\n",
      "Epoch 81/100\n",
      "4/4 [==============================] - 0s 11ms/step - loss: 0.0047 - accuracy: 1.0000 - val_loss: 1.1974 - val_accuracy: 0.6667\n",
      "Epoch 82/100\n",
      "4/4 [==============================] - 0s 17ms/step - loss: 0.0046 - accuracy: 1.0000 - val_loss: 1.1963 - val_accuracy: 0.6667\n",
      "Epoch 83/100\n",
      "4/4 [==============================] - 0s 11ms/step - loss: 0.0045 - accuracy: 1.0000 - val_loss: 1.2135 - val_accuracy: 0.6667\n",
      "Epoch 84/100\n",
      "4/4 [==============================] - 0s 11ms/step - loss: 0.0044 - accuracy: 1.0000 - val_loss: 1.2198 - val_accuracy: 0.6667\n",
      "Epoch 85/100\n",
      "4/4 [==============================] - 0s 10ms/step - loss: 0.0043 - accuracy: 1.0000 - val_loss: 1.2052 - val_accuracy: 0.6667\n",
      "Epoch 86/100\n",
      "4/4 [==============================] - 0s 11ms/step - loss: 0.0042 - accuracy: 1.0000 - val_loss: 1.1967 - val_accuracy: 0.7037\n",
      "Epoch 87/100\n",
      "4/4 [==============================] - 0s 11ms/step - loss: 0.0041 - accuracy: 1.0000 - val_loss: 1.1981 - val_accuracy: 0.6667\n",
      "Epoch 88/100\n",
      "4/4 [==============================] - 0s 11ms/step - loss: 0.0040 - accuracy: 1.0000 - val_loss: 1.2005 - val_accuracy: 0.6667\n",
      "Epoch 89/100\n",
      "4/4 [==============================] - 0s 11ms/step - loss: 0.0039 - accuracy: 1.0000 - val_loss: 1.2114 - val_accuracy: 0.6667\n",
      "Epoch 90/100\n",
      "4/4 [==============================] - 0s 11ms/step - loss: 0.0039 - accuracy: 1.0000 - val_loss: 1.2211 - val_accuracy: 0.6667\n",
      "Epoch 91/100\n",
      "4/4 [==============================] - 0s 11ms/step - loss: 0.0038 - accuracy: 1.0000 - val_loss: 1.2195 - val_accuracy: 0.6667\n",
      "Epoch 92/100\n",
      "4/4 [==============================] - 0s 10ms/step - loss: 0.0037 - accuracy: 1.0000 - val_loss: 1.2212 - val_accuracy: 0.6667\n",
      "Epoch 93/100\n",
      "4/4 [==============================] - 0s 11ms/step - loss: 0.0037 - accuracy: 1.0000 - val_loss: 1.2308 - val_accuracy: 0.6667\n",
      "Epoch 94/100\n",
      "4/4 [==============================] - 0s 11ms/step - loss: 0.0036 - accuracy: 1.0000 - val_loss: 1.2432 - val_accuracy: 0.6667\n",
      "Epoch 95/100\n",
      "4/4 [==============================] - 0s 11ms/step - loss: 0.0035 - accuracy: 1.0000 - val_loss: 1.2525 - val_accuracy: 0.6667\n",
      "Epoch 96/100\n",
      "4/4 [==============================] - 0s 10ms/step - loss: 0.0034 - accuracy: 1.0000 - val_loss: 1.2574 - val_accuracy: 0.6667\n",
      "Epoch 97/100\n",
      "4/4 [==============================] - 0s 11ms/step - loss: 0.0033 - accuracy: 1.0000 - val_loss: 1.2527 - val_accuracy: 0.6667\n",
      "Epoch 98/100\n",
      "4/4 [==============================] - 0s 11ms/step - loss: 0.0032 - accuracy: 1.0000 - val_loss: 1.2594 - val_accuracy: 0.6667\n",
      "Epoch 99/100\n",
      "4/4 [==============================] - 0s 11ms/step - loss: 0.0032 - accuracy: 1.0000 - val_loss: 1.2589 - val_accuracy: 0.6667\n",
      "Epoch 100/100\n",
      "4/4 [==============================] - 0s 11ms/step - loss: 0.0031 - accuracy: 1.0000 - val_loss: 1.2558 - val_accuracy: 0.6667\n"
     ]
    }
   ],
   "source": [
    "hist = model.fit(X_train, y_train, epochs=100, validation_split=0.2, callbacks=[model_checkpoint_callback])"
   ]
  },
  {
   "cell_type": "code",
   "execution_count": null,
   "metadata": {
    "colab": {
     "background_save": true
    },
    "id": "uO2JrNKDT7ga"
   },
   "outputs": [],
   "source": [
    "model.load_weights(\"best_emoji_weights.h5\")"
   ]
  },
  {
   "cell_type": "code",
   "execution_count": null,
   "metadata": {
    "colab": {
     "background_save": true,
     "base_uri": "https://localhost:8080/",
     "height": 265
    },
    "id": "NZAqmW_XN656",
    "outputId": "86280b97-06c3-4b3d-bc90-1bc7ff1cd4c1"
   },
   "outputs": [
    {
     "data": {
      "image/png": "[encoded data removed]",
      "text/plain": [
       "<Figure size 432x288 with 1 Axes>"
      ]
     },
     "metadata": {},
     "output_type": "display_data"
    }
   ],
   "source": [
    "plt.plot(hist.history[\"accuracy\"])\n",
    "plt.plot(hist.history[\"val_accuracy\"])\n",
    "plt.show()"
   ]
  },
  {
   "cell_type": "code",
   "execution_count": null,
   "metadata": {
    "colab": {
     "background_save": true,
     "base_uri": "https://localhost:8080/"
    },
    "id": "RJckAxg_OTRk",
    "outputId": "eb28e206-aa57-4522-ae3a-e8bd2531279c"
   },
   "outputs": [
    {
     "name": "stdout",
     "output_type": "stream",
     "text": [
      "5/5 [==============================] - 0s 4ms/step - loss: 0.4345 - accuracy: 0.8864\n"
     ]
    },
    {
     "data": {
      "text/plain": [
       "[0.4345426857471466, 0.8863636255264282]"
      ]
     },
     "execution_count": null,
     "metadata": {},
     "output_type": "execute_result"
    }
   ],
   "source": [
    "model.evaluate(X_train, y_train)"
   ]
  },
  {
   "cell_type": "code",
   "execution_count": null,
   "metadata": {
    "colab": {
     "background_save": true,
     "base_uri": "https://localhost:8080/"
    },
    "id": "-pPCehLWPNYn",
    "outputId": "7ed10c9e-7b08-465e-c449-768d0166779c"
   },
   "outputs": [
    {
     "name": "stdout",
     "output_type": "stream",
     "text": [
      "2/2 [==============================] - 0s 7ms/step - loss: 1.2695 - accuracy: 0.5714\n"
     ]
    },
    {
     "data": {
      "text/plain": [
       "[1.2694971561431885, 0.5714285969734192]"
      ]
     },
     "execution_count": null,
     "metadata": {},
     "output_type": "execute_result"
    }
   ],
   "source": [
    "model.evaluate(X_test, y_test)"
   ]
  },
  {
   "cell_type": "code",
   "execution_count": null,
   "metadata": {
    "colab": {
     "background_save": true,
     "base_uri": "https://localhost:8080/"
    },
    "id": "dTDCWzpYPSgC",
    "outputId": "454d4a1c-d181-440a-e577-4a5614ef3e48"
   },
   "outputs": [
    {
     "data": {
      "text/plain": [
       "array([[2.96630971e-02, 6.99031353e-03, 3.94990817e-02, 4.87498343e-02,\n",
       "        8.75097692e-01],\n",
       "       [1.17589161e-02, 8.64413530e-02, 8.10991600e-02, 8.19317758e-01,\n",
       "        1.38281763e-03],\n",
       "       [1.97818466e-02, 4.72490311e-01, 3.49119514e-01, 1.55452698e-01,\n",
       "        3.15555441e-03],\n",
       "       [4.85456020e-01, 6.80437544e-03, 3.25468153e-01, 1.81480035e-01,\n",
       "        7.91445782e-04],\n",
       "       [1.25327408e-02, 1.74127275e-03, 9.74721611e-01, 5.10962354e-03,\n",
       "        5.89479366e-03],\n",
       "       [1.76245570e-02, 3.08846831e-02, 9.43067193e-01, 6.27188478e-03,\n",
       "        2.15164712e-03],\n",
       "       [1.13328723e-02, 6.41035676e-01, 1.97442204e-01, 1.38403744e-01,\n",
       "        1.17855212e-02],\n",
       "       [5.63992374e-02, 1.12049310e-02, 8.82196784e-01, 4.77575511e-03,\n",
       "        4.54232581e-02],\n",
       "       [2.45669447e-02, 1.49613813e-01, 4.77765918e-01, 9.72050875e-02,\n",
       "        2.50848204e-01],\n",
       "       [6.55240938e-03, 3.89328785e-03, 9.67238367e-01, 1.19186705e-02,\n",
       "        1.03972051e-02],\n",
       "       [7.05041271e-03, 8.39177310e-01, 1.09968401e-01, 4.16289754e-02,\n",
       "        2.17482261e-03],\n",
       "       [1.15180463e-02, 3.78087074e-01, 5.41477799e-01, 4.21757996e-02,\n",
       "        2.67412756e-02],\n",
       "       [6.94286942e-01, 1.16609805e-03, 2.64562488e-01, 3.90230380e-02,\n",
       "        9.61459125e-04],\n",
       "       [8.78628790e-02, 2.28072237e-03, 2.13361397e-01, 4.37348604e-01,\n",
       "        2.59146422e-01],\n",
       "       [3.64939682e-03, 9.27715421e-01, 4.44268882e-02, 1.85255315e-02,\n",
       "        5.68262301e-03],\n",
       "       [9.13332179e-02, 6.29787042e-04, 5.86461313e-02, 8.48157942e-01,\n",
       "        1.23294909e-03],\n",
       "       [3.27167585e-02, 2.28208397e-02, 6.93374157e-01, 2.42662176e-01,\n",
       "        8.42609536e-03],\n",
       "       [1.00471295e-01, 1.40355052e-02, 8.43260705e-01, 1.23691270e-02,\n",
       "        2.98633706e-02],\n",
       "       [4.22917046e-02, 2.10509911e-01, 1.21626347e-01, 5.00071704e-01,\n",
       "        1.25500366e-01],\n",
       "       [3.19926143e-02, 4.27625366e-02, 2.40424603e-01, 3.21275480e-02,\n",
       "        6.52692735e-01],\n",
       "       [2.28149205e-01, 4.43305494e-03, 7.20609307e-01, 4.29146364e-02,\n",
       "        3.89369903e-03],\n",
       "       [8.05882156e-01, 1.06966519e-03, 3.16852480e-02, 1.53193608e-01,\n",
       "        8.16925056e-03],\n",
       "       [3.35226394e-02, 3.01260836e-02, 1.32554755e-01, 3.06360517e-02,\n",
       "        7.73160458e-01],\n",
       "       [3.44521478e-02, 8.23355466e-03, 9.43716705e-01, 9.81718116e-03,\n",
       "        3.78039270e-03],\n",
       "       [5.23832031e-02, 9.75708943e-04, 7.57042365e-03, 9.34842706e-01,\n",
       "        4.22786316e-03],\n",
       "       [1.13328723e-02, 6.41035676e-01, 1.97442204e-01, 1.38403744e-01,\n",
       "        1.17855212e-02],\n",
       "       [1.79352108e-02, 1.61722247e-02, 9.52942729e-01, 7.89155066e-03,\n",
       "        5.05835051e-03],\n",
       "       [8.20321202e-01, 5.51021483e-04, 1.48759454e-01, 2.83054598e-02,\n",
       "        2.06281920e-03],\n",
       "       [1.01523176e-01, 2.54508913e-01, 3.12620431e-01, 1.82483688e-01,\n",
       "        1.48863733e-01],\n",
       "       [1.99921876e-02, 5.20732887e-02, 8.90552163e-01, 1.73474476e-02,\n",
       "        2.00349018e-02],\n",
       "       [6.36007369e-01, 2.04491708e-03, 3.21465403e-01, 3.96536365e-02,\n",
       "        8.28693563e-04],\n",
       "       [1.34784048e-02, 8.56124997e-01, 8.46729130e-02, 4.22560871e-02,\n",
       "        3.46767157e-03],\n",
       "       [8.36244106e-01, 2.97253631e-04, 7.43230209e-02, 8.79542977e-02,\n",
       "        1.18130178e-03],\n",
       "       [6.08927831e-02, 1.46720354e-02, 6.06256425e-01, 1.58562914e-01,\n",
       "        1.59615844e-01],\n",
       "       [2.35101983e-01, 1.08240182e-02, 4.01559561e-01, 5.47518879e-02,\n",
       "        2.97762603e-01],\n",
       "       [1.08535290e-02, 5.68902373e-01, 3.64432901e-01, 5.39697707e-02,\n",
       "        1.84148469e-03],\n",
       "       [2.97854543e-02, 2.40630850e-01, 7.09578156e-01, 1.26273176e-02,\n",
       "        7.37818470e-03],\n",
       "       [4.23274040e-02, 1.81819834e-02, 8.60784501e-02, 2.87688673e-01,\n",
       "        5.65723479e-01],\n",
       "       [1.12288423e-01, 5.67906797e-02, 4.50596213e-01, 7.41975382e-02,\n",
       "        3.06127191e-01],\n",
       "       [5.56881987e-02, 4.88271378e-03, 8.89001012e-01, 1.15246717e-02,\n",
       "        3.89033854e-02],\n",
       "       [4.42636497e-02, 3.42218846e-01, 2.86957294e-01, 1.28675610e-01,\n",
       "        1.97884619e-01],\n",
       "       [9.59857345e-01, 3.69761809e-04, 2.55974568e-02, 1.22910244e-02,\n",
       "        1.88429025e-03],\n",
       "       [8.44284236e-01, 1.94707641e-03, 1.23543367e-01, 2.96880379e-02,\n",
       "        5.37213462e-04],\n",
       "       [7.79773435e-03, 8.25888634e-01, 1.56028286e-01, 7.66250910e-03,\n",
       "        2.62276572e-03],\n",
       "       [5.07826284e-02, 2.15111524e-01, 6.56985343e-01, 4.93112989e-02,\n",
       "        2.78091803e-02],\n",
       "       [5.04813977e-02, 2.35091850e-01, 6.68507338e-01, 4.40478772e-02,\n",
       "        1.87159434e-03],\n",
       "       [1.82772219e-01, 1.29919695e-02, 5.89749932e-01, 2.12786481e-01,\n",
       "        1.69938221e-03],\n",
       "       [2.35513486e-02, 1.36098340e-02, 9.01195228e-01, 1.24868704e-02,\n",
       "        4.91567254e-02],\n",
       "       [9.43253413e-02, 2.17571929e-02, 4.30733800e-01, 1.72596350e-01,\n",
       "        2.80587345e-01],\n",
       "       [7.31306002e-02, 2.62152255e-01, 1.00772746e-01, 5.27907312e-01,\n",
       "        3.60370912e-02],\n",
       "       [6.59709424e-03, 4.86438751e-01, 7.22723454e-02, 4.29172009e-01,\n",
       "        5.51981106e-03],\n",
       "       [2.23063365e-01, 4.47098305e-03, 1.94459006e-01, 5.01999855e-01,\n",
       "        7.60067701e-02],\n",
       "       [1.01566510e-02, 6.22492889e-03, 1.40638519e-02, 9.60062981e-01,\n",
       "        9.49157961e-03],\n",
       "       [3.31686288e-02, 1.66695081e-02, 9.31914747e-01, 7.48826563e-03,\n",
       "        1.07589280e-02],\n",
       "       [5.00191227e-02, 1.57889072e-02, 7.13794887e-01, 2.15862840e-01,\n",
       "        4.53421474e-03],\n",
       "       [1.24813445e-01, 1.15642343e-02, 2.79069722e-01, 1.73994258e-01,\n",
       "        4.10558343e-01]], dtype=float32)"
      ]
     },
     "execution_count": null,
     "metadata": {},
     "output_type": "execute_result"
    }
   ],
   "source": [
    "pred = model.predict(X_test)\n",
    "pred"
   ]
  },
  {
   "cell_type": "code",
   "execution_count": null,
   "metadata": {
    "colab": {
     "background_save": true,
     "base_uri": "https://localhost:8080/"
    },
    "id": "YRIAPFOhP3JZ",
    "outputId": "d6da46ea-993b-4e6c-a7c6-c2fc8607fea8"
   },
   "outputs": [
    {
     "data": {
      "text/plain": [
       "array([4, 3, 1, 0, 2, 2, 1, 2, 2, 2, 1, 2, 0, 3, 1, 3, 2, 2, 3, 4, 2, 0,\n",
       "       4, 2, 3, 1, 2, 0, 2, 2, 0, 1, 0, 2, 2, 1, 2, 4, 2, 2, 1, 0, 0, 1,\n",
       "       2, 2, 2, 2, 2, 3, 1, 3, 3, 2, 2, 4])"
      ]
     },
     "execution_count": null,
     "metadata": {},
     "output_type": "execute_result"
    }
   ],
   "source": [
    "y_pred = np.argmax(pred, axis=1)\n",
    "y_pred"
   ]
  },
  {
   "cell_type": "code",
   "execution_count": null,
   "metadata": {
    "colab": {
     "background_save": true,
     "base_uri": "https://localhost:8080/"
    },
    "id": "mJSzhGvJQClr",
    "outputId": "48c9b5c0-c1b8-453a-a11f-7e864238794d"
   },
   "outputs": [
    {
     "name": "stdout",
     "output_type": "stream",
     "text": [
      "I want to eat🍴🍴\n",
      "\n",
      "he did not answer😓😓\n",
      "\n",
      "he got a raise⚾😁\n",
      "\n",
      "she got me a present❤️❤️\n",
      "\n",
      "ha ha ha it was so funny😁😁\n",
      "\n",
      "he is a good friend😁❤️\n",
      "\n",
      "I am upset⚾❤️\n",
      "\n",
      "We had such a lovely dinner tonight😁❤️\n",
      "\n",
      "where is the food😁🍴\n",
      "\n",
      "Stop making this joke ha ha ha😁😁\n",
      "\n",
      "where is the ball⚾⚾\n",
      "\n",
      "work is hard😁😓\n",
      "\n",
      "This girl is messing with me❤️😓\n",
      "\n",
      "are you serious ha ha😓😁\n",
      "\n",
      "Let us go play baseball⚾⚾\n",
      "\n",
      "This stupid grader is not working 😓😓\n",
      "\n",
      "work is horrible😁😓\n",
      "\n",
      "Congratulation for having a baby😁😁\n",
      "\n",
      "stop messing around😓😓\n",
      "\n",
      "any suggestions for dinner🍴🍴\n",
      "\n",
      "I love taking breaks😁❤️\n",
      "\n",
      "you brighten my day❤️😁\n",
      "\n",
      "I boiled rice🍴🍴\n",
      "\n",
      "she is a bully😁😓\n",
      "\n",
      "Why are you feeling bad😓😓\n",
      "\n",
      "I am upset⚾😓\n",
      "\n",
      "I worked during my birthday😁😓\n",
      "\n",
      "My grandmother is the love of my life❤️❤️\n",
      "\n",
      "enjoy your break😁😁\n",
      "\n",
      "valentine day is near😁❤️\n",
      "\n",
      "I miss you so much❤️❤️\n",
      "\n",
      "throw the ball⚾⚾\n",
      "\n",
      "My life is so boring❤️😓\n",
      "\n",
      "she said yes😁😁\n",
      "\n",
      "will you be my valentine😁❤️\n",
      "\n",
      "he can pitch really well⚾⚾\n",
      "\n",
      "dance with me😁😁\n",
      "\n",
      "I am starving🍴🍴\n",
      "\n",
      "See you at the restaurant😁🍴\n",
      "\n",
      "I like to laugh😁😁\n",
      "\n",
      "I will go danc⚾😁\n",
      "\n",
      "I like your jacket ❤️😁\n",
      "\n",
      "i miss her❤️❤️\n",
      "\n",
      "what is your favorite baseball game⚾⚾\n",
      "\n",
      "Good job😁😁\n",
      "\n",
      "I love to the stars and back😁❤️\n",
      "\n",
      "What you did was awesome😁😁\n",
      "\n",
      "ha ha ha lol😁😁\n",
      "\n",
      "I want to joke😁😁\n",
      "\n",
      "go away😓😓\n",
      "\n",
      "yesterday we lost again⚾😓\n",
      "\n",
      "family is all I have😓❤️\n",
      "\n",
      "you are failing this exercise😓😓\n",
      "\n",
      "Good joke😁😁\n",
      "\n",
      "You totally deserve this prize😁😁\n",
      "\n",
      "I did not have breakfast🍴😓\n",
      "\n"
     ]
    }
   ],
   "source": [
    "# print the prediction vs actual emoji \n",
    "for i, sent in enumerate(testing_corpus):\n",
    "  print(sent + emoji.emojize(emoji_dictionary[str(y_pred[i])]) + emoji.emojize(emoji_dictionary[str(np.argmax(y_test, axis=1)[i])]))\n",
    "  print()"
   ]
  },
  {
   "cell_type": "code",
   "execution_count": null,
   "metadata": {
    "colab": {
     "background_save": true,
     "base_uri": "https://localhost:8080/"
    },
    "id": "WeQW6bQwQJm_",
    "outputId": "08f4973c-3233-49e8-ced4-f674240d505c"
   },
   "outputs": [
    {
     "data": {
      "text/plain": [
       "<keras.callbacks.ModelCheckpoint at 0x7ff7903b0d90>"
      ]
     },
     "execution_count": null,
     "metadata": {},
     "output_type": "execute_result"
    }
   ],
   "source": [
    "model_checkpoint_callback"
   ]
  },
  {
   "cell_type": "code",
   "execution_count": null,
   "metadata": {
    "colab": {
     "background_save": true,
     "base_uri": "https://localhost:8080/"
    },
    "id": "grJhj9hpWgEb",
    "outputId": "00b4e1f1-7625-4bbd-8023-a18b34a6aa57"
   },
   "outputs": [
    {
     "name": "stdout",
     "output_type": "stream",
     "text": [
      "I want to eat🍴\n",
      "he did not answer😓\n",
      "he got a raise⚾\n",
      "she got me a present❤️\n",
      "ha ha ha it was so funny😁\n",
      "he is a good friend😁\n",
      "I am upset⚾\n",
      "We had such a lovely dinner tonight😁\n",
      "where is the food😁\n",
      "Stop making this joke ha ha ha😁\n",
      "where is the ball⚾\n",
      "work is hard😁\n",
      "This girl is messing with me❤️\n",
      "are you serious ha ha😓\n",
      "Let us go play baseball⚾\n",
      "This stupid grader is not working 😓\n",
      "work is horrible😁\n",
      "Congratulation for having a baby😁\n",
      "stop messing around😓\n",
      "any suggestions for dinner🍴\n",
      "I love taking breaks😁\n",
      "you brighten my day❤️\n",
      "I boiled rice🍴\n",
      "she is a bully😁\n",
      "Why are you feeling bad😓\n",
      "I am upset⚾\n",
      "I worked during my birthday😁\n",
      "My grandmother is the love of my life❤️\n",
      "enjoy your break😁\n",
      "valentine day is near😁\n",
      "I miss you so much❤️\n",
      "throw the ball⚾\n",
      "My life is so boring❤️\n",
      "she said yes😁\n",
      "will you be my valentine😁\n",
      "he can pitch really well⚾\n",
      "dance with me😁\n",
      "I am starving🍴\n",
      "See you at the restaurant😁\n",
      "I like to laugh😁\n",
      "I will go danc⚾\n",
      "I like your jacket ❤️\n",
      "i miss her❤️\n",
      "what is your favorite baseball game⚾\n",
      "Good job😁\n",
      "I love to the stars and back😁\n",
      "What you did was awesome😁\n",
      "ha ha ha lol😁\n",
      "I want to joke😁\n",
      "go away😓\n",
      "yesterday we lost again⚾\n",
      "family is all I have😓\n",
      "you are failing this exercise😓\n",
      "Good joke😁\n",
      "You totally deserve this prize😁\n",
      "I did not have breakfast🍴\n"
     ]
    }
   ],
   "source": [
    "for i, sent in enumerate(testing_corpus):\n",
    "  predicted_emoji_code = emoji_dictionary[str(y_pred[i])]\n",
    "  predicted_emoji = emoji.emojize(predicted_emoji_code)\n",
    "  print(sent +  predicted_emoji)"
   ]
  },
  {
   "cell_type": "code",
   "execution_count": null,
   "metadata": {
    "colab": {
     "background_save": true
    },
    "id": "w2CgNNoYWhD1"
   },
   "outputs": [],
   "source": []
  },
  {
   "cell_type": "markdown",
   "metadata": {
    "id": "sg1pX1MDWigZ"
   },
   "source": [
    "### Stacked LSTM based model"
   ]
  },
  {
   "cell_type": "code",
   "execution_count": null,
   "metadata": {
    "colab": {
     "background_save": true
    },
    "id": "xXjJguuGXUAk"
   },
   "outputs": [],
   "source": [
    "from keras.models import Sequential\n",
    "from keras.layers import LSTM, Dense, Dropout"
   ]
  },
  {
   "cell_type": "code",
   "execution_count": null,
   "metadata": {
    "colab": {
     "background_save": true
    },
    "id": "EFN6v65LXUAq"
   },
   "outputs": [],
   "source": [
    "model = Sequential()"
   ]
  },
  {
   "cell_type": "code",
   "execution_count": null,
   "metadata": {
    "colab": {
     "background_save": true
    },
    "id": "wkLv-j1mXUAq"
   },
   "outputs": [],
   "source": [
    "model.add(LSTM(64, input_shape=(10, 50), return_sequences=True))\n",
    "# model.add(Dropout(0.5))\n",
    "model.add(LSTM(64, return_sequences=True))\n",
    "model.add(LSTM(64))\n",
    "# model.add(Dropout(0.5))\n",
    "model.add(Dense(5, activation='softmax')) "
   ]
  },
  {
   "cell_type": "code",
   "execution_count": null,
   "metadata": {
    "colab": {
     "background_save": true
    },
    "id": "vTFrSZW2XUAq"
   },
   "outputs": [],
   "source": [
    "model.compile(loss='categorical_crossentropy', optimizer='adam', metrics=['accuracy'])"
   ]
  },
  {
   "cell_type": "code",
   "execution_count": null,
   "metadata": {
    "colab": {
     "background_save": true,
     "base_uri": "https://localhost:8080/"
    },
    "id": "4MJftsdzXUAq",
    "outputId": "5acdfd12-c94b-4ad9-8726-0a67596e6f49"
   },
   "outputs": [
    {
     "name": "stdout",
     "output_type": "stream",
     "text": [
      "Model: \"sequential_1\"\n",
      "_________________________________________________________________\n",
      " Layer (type)                Output Shape              Param #   \n",
      "=================================================================\n",
      " lstm_1 (LSTM)               (None, 10, 64)            29440     \n",
      "                                                                 \n",
      " lstm_2 (LSTM)               (None, 10, 64)            33024     \n",
      "                                                                 \n",
      " lstm_3 (LSTM)               (None, 64)                33024     \n",
      "                                                                 \n",
      " dense_1 (Dense)             (None, 5)                 325       \n",
      "                                                                 \n",
      "=================================================================\n",
      "Total params: 95,813\n",
      "Trainable params: 95,813\n",
      "Non-trainable params: 0\n",
      "_________________________________________________________________\n"
     ]
    }
   ],
   "source": [
    "model.summary()"
   ]
  },
  {
   "cell_type": "code",
   "execution_count": null,
   "metadata": {
    "colab": {
     "background_save": true
    },
    "id": "w2Vi1LvoWuhr"
   },
   "outputs": [],
   "source": [
    "from keras.callbacks import ModelCheckpoint\n",
    "model_checkpoint_callback = ModelCheckpoint('best_emoji_weights.h5', monitor='val_accuracy', save_best_only=True)"
   ]
  },
  {
   "cell_type": "code",
   "execution_count": null,
   "metadata": {
    "colab": {
     "background_save": true,
     "base_uri": "https://localhost:8080/"
    },
    "id": "RwKlZv06X5rm",
    "outputId": "5fac85d4-9af2-4c0f-c504-9cd99390d12b"
   },
   "outputs": [
    {
     "name": "stdout",
     "output_type": "stream",
     "text": [
      "Epoch 1/100\n",
      "4/4 [==============================] - 5s 342ms/step - loss: 1.6086 - accuracy: 0.2095 - val_loss: 1.5987 - val_accuracy: 0.2222\n",
      "Epoch 2/100\n",
      "4/4 [==============================] - 0s 14ms/step - loss: 1.5446 - accuracy: 0.4000 - val_loss: 1.6008 - val_accuracy: 0.1852\n",
      "Epoch 3/100\n",
      "4/4 [==============================] - 0s 14ms/step - loss: 1.4932 - accuracy: 0.4095 - val_loss: 1.6376 - val_accuracy: 0.2222\n",
      "Epoch 4/100\n",
      "4/4 [==============================] - 0s 25ms/step - loss: 1.4452 - accuracy: 0.4190 - val_loss: 1.6810 - val_accuracy: 0.2593\n",
      "Epoch 5/100\n",
      "4/4 [==============================] - 0s 14ms/step - loss: 1.3788 - accuracy: 0.4762 - val_loss: 1.6371 - val_accuracy: 0.2222\n",
      "Epoch 6/100\n",
      "4/4 [==============================] - 0s 23ms/step - loss: 1.2766 - accuracy: 0.5048 - val_loss: 1.5630 - val_accuracy: 0.2963\n",
      "Epoch 7/100\n",
      "4/4 [==============================] - 0s 24ms/step - loss: 1.1675 - accuracy: 0.6000 - val_loss: 1.4491 - val_accuracy: 0.3333\n",
      "Epoch 8/100\n",
      "4/4 [==============================] - 0s 23ms/step - loss: 1.0289 - accuracy: 0.6952 - val_loss: 1.4671 - val_accuracy: 0.4444\n",
      "Epoch 9/100\n",
      "4/4 [==============================] - 0s 14ms/step - loss: 0.9176 - accuracy: 0.6571 - val_loss: 1.4150 - val_accuracy: 0.4074\n",
      "Epoch 10/100\n",
      "4/4 [==============================] - 0s 14ms/step - loss: 0.8514 - accuracy: 0.7048 - val_loss: 1.5052 - val_accuracy: 0.3704\n",
      "Epoch 11/100\n",
      "4/4 [==============================] - 0s 24ms/step - loss: 0.7491 - accuracy: 0.7429 - val_loss: 1.3179 - val_accuracy: 0.4815\n",
      "Epoch 12/100\n",
      "4/4 [==============================] - 0s 13ms/step - loss: 0.6482 - accuracy: 0.7714 - val_loss: 1.2702 - val_accuracy: 0.4815\n",
      "Epoch 13/100\n",
      "4/4 [==============================] - 0s 23ms/step - loss: 0.5675 - accuracy: 0.8095 - val_loss: 1.0891 - val_accuracy: 0.6667\n",
      "Epoch 14/100\n",
      "4/4 [==============================] - 0s 16ms/step - loss: 0.5294 - accuracy: 0.8190 - val_loss: 1.1176 - val_accuracy: 0.5926\n",
      "Epoch 15/100\n",
      "4/4 [==============================] - 0s 13ms/step - loss: 0.4881 - accuracy: 0.8286 - val_loss: 1.2227 - val_accuracy: 0.5556\n",
      "Epoch 16/100\n",
      "4/4 [==============================] - 0s 13ms/step - loss: 0.3845 - accuracy: 0.8762 - val_loss: 1.3753 - val_accuracy: 0.5556\n",
      "Epoch 17/100\n",
      "4/4 [==============================] - 0s 13ms/step - loss: 0.3348 - accuracy: 0.8857 - val_loss: 1.2995 - val_accuracy: 0.5185\n",
      "Epoch 18/100\n",
      "4/4 [==============================] - 0s 13ms/step - loss: 0.2947 - accuracy: 0.8952 - val_loss: 1.4506 - val_accuracy: 0.5926\n",
      "Epoch 19/100\n",
      "4/4 [==============================] - 0s 13ms/step - loss: 0.3471 - accuracy: 0.8762 - val_loss: 1.2300 - val_accuracy: 0.6667\n",
      "Epoch 20/100\n",
      "4/4 [==============================] - 0s 13ms/step - loss: 0.3253 - accuracy: 0.8952 - val_loss: 1.4285 - val_accuracy: 0.5926\n",
      "Epoch 21/100\n",
      "4/4 [==============================] - 0s 14ms/step - loss: 0.3390 - accuracy: 0.8476 - val_loss: 1.4189 - val_accuracy: 0.5926\n",
      "Epoch 22/100\n",
      "4/4 [==============================] - 0s 13ms/step - loss: 0.3197 - accuracy: 0.8952 - val_loss: 1.2745 - val_accuracy: 0.6296\n",
      "Epoch 23/100\n",
      "4/4 [==============================] - 0s 13ms/step - loss: 0.3660 - accuracy: 0.8667 - val_loss: 1.0955 - val_accuracy: 0.6667\n",
      "Epoch 24/100\n",
      "4/4 [==============================] - 0s 23ms/step - loss: 0.3592 - accuracy: 0.8762 - val_loss: 1.2917 - val_accuracy: 0.7037\n",
      "Epoch 25/100\n",
      "4/4 [==============================] - 0s 14ms/step - loss: 0.2846 - accuracy: 0.8952 - val_loss: 1.1699 - val_accuracy: 0.6667\n",
      "Epoch 26/100\n",
      "4/4 [==============================] - 0s 14ms/step - loss: 0.2466 - accuracy: 0.9143 - val_loss: 1.0316 - val_accuracy: 0.7037\n",
      "Epoch 27/100\n",
      "4/4 [==============================] - 0s 13ms/step - loss: 0.2205 - accuracy: 0.9238 - val_loss: 0.9658 - val_accuracy: 0.6667\n",
      "Epoch 28/100\n",
      "4/4 [==============================] - 0s 13ms/step - loss: 0.1397 - accuracy: 0.9524 - val_loss: 1.1484 - val_accuracy: 0.7037\n",
      "Epoch 29/100\n",
      "4/4 [==============================] - 0s 13ms/step - loss: 0.1466 - accuracy: 0.9429 - val_loss: 0.8905 - val_accuracy: 0.7037\n",
      "Epoch 30/100\n",
      "4/4 [==============================] - 0s 23ms/step - loss: 0.1079 - accuracy: 0.9810 - val_loss: 0.9145 - val_accuracy: 0.7407\n",
      "Epoch 31/100\n",
      "4/4 [==============================] - 0s 15ms/step - loss: 0.1000 - accuracy: 0.9810 - val_loss: 0.9918 - val_accuracy: 0.7037\n",
      "Epoch 32/100\n",
      "4/4 [==============================] - 0s 13ms/step - loss: 0.0858 - accuracy: 0.9714 - val_loss: 1.0618 - val_accuracy: 0.6667\n",
      "Epoch 33/100\n",
      "4/4 [==============================] - 0s 13ms/step - loss: 0.0559 - accuracy: 1.0000 - val_loss: 1.0674 - val_accuracy: 0.7037\n",
      "Epoch 34/100\n",
      "4/4 [==============================] - 0s 13ms/step - loss: 0.0955 - accuracy: 0.9619 - val_loss: 1.2660 - val_accuracy: 0.6667\n",
      "Epoch 35/100\n",
      "4/4 [==============================] - 0s 13ms/step - loss: 0.1178 - accuracy: 0.9619 - val_loss: 1.0399 - val_accuracy: 0.7037\n",
      "Epoch 36/100\n",
      "4/4 [==============================] - 0s 16ms/step - loss: 0.3815 - accuracy: 0.8952 - val_loss: 1.2164 - val_accuracy: 0.6667\n",
      "Epoch 37/100\n",
      "4/4 [==============================] - 0s 13ms/step - loss: 0.1415 - accuracy: 0.9429 - val_loss: 1.9412 - val_accuracy: 0.6296\n",
      "Epoch 38/100\n",
      "4/4 [==============================] - 0s 14ms/step - loss: 0.2176 - accuracy: 0.8762 - val_loss: 1.5671 - val_accuracy: 0.5556\n",
      "Epoch 39/100\n",
      "4/4 [==============================] - 0s 14ms/step - loss: 0.1204 - accuracy: 0.9524 - val_loss: 1.1433 - val_accuracy: 0.7037\n",
      "Epoch 40/100\n",
      "4/4 [==============================] - 0s 13ms/step - loss: 0.1199 - accuracy: 0.9619 - val_loss: 1.1217 - val_accuracy: 0.6667\n",
      "Epoch 41/100\n",
      "4/4 [==============================] - 0s 14ms/step - loss: 0.0818 - accuracy: 0.9905 - val_loss: 1.0646 - val_accuracy: 0.6667\n",
      "Epoch 42/100\n",
      "4/4 [==============================] - 0s 14ms/step - loss: 0.1616 - accuracy: 0.9238 - val_loss: 0.9899 - val_accuracy: 0.6667\n",
      "Epoch 43/100\n",
      "4/4 [==============================] - 0s 14ms/step - loss: 0.0719 - accuracy: 0.9810 - val_loss: 1.3462 - val_accuracy: 0.6296\n",
      "Epoch 44/100\n",
      "4/4 [==============================] - 0s 14ms/step - loss: 0.0770 - accuracy: 0.9905 - val_loss: 1.4263 - val_accuracy: 0.6667\n",
      "Epoch 45/100\n",
      "4/4 [==============================] - 0s 15ms/step - loss: 0.0533 - accuracy: 1.0000 - val_loss: 1.3709 - val_accuracy: 0.6296\n",
      "Epoch 46/100\n",
      "4/4 [==============================] - 0s 14ms/step - loss: 0.0433 - accuracy: 0.9905 - val_loss: 1.3985 - val_accuracy: 0.5926\n",
      "Epoch 47/100\n",
      "4/4 [==============================] - 0s 14ms/step - loss: 0.0385 - accuracy: 0.9905 - val_loss: 1.3114 - val_accuracy: 0.6296\n",
      "Epoch 48/100\n",
      "4/4 [==============================] - 0s 14ms/step - loss: 0.0290 - accuracy: 0.9905 - val_loss: 1.1997 - val_accuracy: 0.6296\n",
      "Epoch 49/100\n",
      "4/4 [==============================] - 0s 15ms/step - loss: 0.0233 - accuracy: 1.0000 - val_loss: 1.1633 - val_accuracy: 0.7037\n",
      "Epoch 50/100\n",
      "4/4 [==============================] - 0s 14ms/step - loss: 0.0205 - accuracy: 1.0000 - val_loss: 1.1872 - val_accuracy: 0.6667\n",
      "Epoch 51/100\n",
      "4/4 [==============================] - 0s 14ms/step - loss: 0.0169 - accuracy: 1.0000 - val_loss: 1.2270 - val_accuracy: 0.6667\n",
      "Epoch 52/100\n",
      "4/4 [==============================] - 0s 13ms/step - loss: 0.0148 - accuracy: 1.0000 - val_loss: 1.2748 - val_accuracy: 0.7037\n",
      "Epoch 53/100\n",
      "4/4 [==============================] - 0s 13ms/step - loss: 0.0135 - accuracy: 1.0000 - val_loss: 1.2831 - val_accuracy: 0.7037\n",
      "Epoch 54/100\n",
      "4/4 [==============================] - 0s 13ms/step - loss: 0.0120 - accuracy: 1.0000 - val_loss: 1.2636 - val_accuracy: 0.7037\n",
      "Epoch 55/100\n",
      "4/4 [==============================] - 0s 13ms/step - loss: 0.0108 - accuracy: 1.0000 - val_loss: 1.2264 - val_accuracy: 0.7037\n",
      "Epoch 56/100\n",
      "4/4 [==============================] - 0s 14ms/step - loss: 0.0095 - accuracy: 1.0000 - val_loss: 1.1968 - val_accuracy: 0.7037\n",
      "Epoch 57/100\n",
      "4/4 [==============================] - 0s 14ms/step - loss: 0.0087 - accuracy: 1.0000 - val_loss: 1.1748 - val_accuracy: 0.7037\n",
      "Epoch 58/100\n",
      "4/4 [==============================] - 0s 14ms/step - loss: 0.0082 - accuracy: 1.0000 - val_loss: 1.1655 - val_accuracy: 0.6667\n",
      "Epoch 59/100\n",
      "4/4 [==============================] - 0s 13ms/step - loss: 0.0076 - accuracy: 1.0000 - val_loss: 1.1782 - val_accuracy: 0.7037\n",
      "Epoch 60/100\n",
      "4/4 [==============================] - 0s 14ms/step - loss: 0.0071 - accuracy: 1.0000 - val_loss: 1.1880 - val_accuracy: 0.7037\n",
      "Epoch 61/100\n",
      "4/4 [==============================] - 0s 14ms/step - loss: 0.0067 - accuracy: 1.0000 - val_loss: 1.1955 - val_accuracy: 0.6667\n",
      "Epoch 62/100\n",
      "4/4 [==============================] - 0s 14ms/step - loss: 0.0063 - accuracy: 1.0000 - val_loss: 1.1944 - val_accuracy: 0.6667\n",
      "Epoch 63/100\n",
      "4/4 [==============================] - 0s 15ms/step - loss: 0.0059 - accuracy: 1.0000 - val_loss: 1.1779 - val_accuracy: 0.7037\n",
      "Epoch 64/100\n",
      "4/4 [==============================] - 0s 15ms/step - loss: 0.0055 - accuracy: 1.0000 - val_loss: 1.1705 - val_accuracy: 0.7037\n",
      "Epoch 65/100\n",
      "4/4 [==============================] - 0s 15ms/step - loss: 0.0053 - accuracy: 1.0000 - val_loss: 1.1601 - val_accuracy: 0.7037\n",
      "Epoch 66/100\n",
      "4/4 [==============================] - 0s 16ms/step - loss: 0.0051 - accuracy: 1.0000 - val_loss: 1.1561 - val_accuracy: 0.7037\n",
      "Epoch 67/100\n",
      "4/4 [==============================] - 0s 14ms/step - loss: 0.0048 - accuracy: 1.0000 - val_loss: 1.1653 - val_accuracy: 0.7037\n",
      "Epoch 68/100\n",
      "4/4 [==============================] - 0s 14ms/step - loss: 0.0045 - accuracy: 1.0000 - val_loss: 1.1760 - val_accuracy: 0.7037\n",
      "Epoch 69/100\n",
      "4/4 [==============================] - 0s 14ms/step - loss: 0.0048 - accuracy: 1.0000 - val_loss: 1.1843 - val_accuracy: 0.7037\n",
      "Epoch 70/100\n",
      "4/4 [==============================] - 0s 14ms/step - loss: 0.0045 - accuracy: 1.0000 - val_loss: 1.1908 - val_accuracy: 0.7037\n",
      "Epoch 71/100\n",
      "4/4 [==============================] - 0s 14ms/step - loss: 0.0041 - accuracy: 1.0000 - val_loss: 1.1867 - val_accuracy: 0.7037\n",
      "Epoch 72/100\n",
      "4/4 [==============================] - 0s 15ms/step - loss: 0.0039 - accuracy: 1.0000 - val_loss: 1.1841 - val_accuracy: 0.7037\n",
      "Epoch 73/100\n",
      "4/4 [==============================] - 0s 15ms/step - loss: 0.0038 - accuracy: 1.0000 - val_loss: 1.1819 - val_accuracy: 0.7037\n",
      "Epoch 74/100\n",
      "4/4 [==============================] - 0s 14ms/step - loss: 0.0037 - accuracy: 1.0000 - val_loss: 1.1836 - val_accuracy: 0.7037\n",
      "Epoch 75/100\n",
      "4/4 [==============================] - 0s 13ms/step - loss: 0.0035 - accuracy: 1.0000 - val_loss: 1.1906 - val_accuracy: 0.7037\n",
      "Epoch 76/100\n",
      "4/4 [==============================] - 0s 14ms/step - loss: 0.0034 - accuracy: 1.0000 - val_loss: 1.1981 - val_accuracy: 0.7037\n",
      "Epoch 77/100\n",
      "4/4 [==============================] - 0s 14ms/step - loss: 0.0033 - accuracy: 1.0000 - val_loss: 1.2056 - val_accuracy: 0.7037\n",
      "Epoch 78/100\n",
      "4/4 [==============================] - 0s 14ms/step - loss: 0.0032 - accuracy: 1.0000 - val_loss: 1.2113 - val_accuracy: 0.7037\n",
      "Epoch 79/100\n",
      "4/4 [==============================] - 0s 14ms/step - loss: 0.0031 - accuracy: 1.0000 - val_loss: 1.2154 - val_accuracy: 0.7037\n",
      "Epoch 80/100\n",
      "4/4 [==============================] - 0s 16ms/step - loss: 0.0030 - accuracy: 1.0000 - val_loss: 1.2208 - val_accuracy: 0.7037\n",
      "Epoch 81/100\n",
      "4/4 [==============================] - 0s 14ms/step - loss: 0.0029 - accuracy: 1.0000 - val_loss: 1.2273 - val_accuracy: 0.7037\n",
      "Epoch 82/100\n",
      "4/4 [==============================] - 0s 14ms/step - loss: 0.0028 - accuracy: 1.0000 - val_loss: 1.2326 - val_accuracy: 0.7037\n",
      "Epoch 83/100\n",
      "4/4 [==============================] - 0s 13ms/step - loss: 0.0028 - accuracy: 1.0000 - val_loss: 1.2381 - val_accuracy: 0.7037\n",
      "Epoch 84/100\n",
      "4/4 [==============================] - 0s 14ms/step - loss: 0.0027 - accuracy: 1.0000 - val_loss: 1.2420 - val_accuracy: 0.7037\n",
      "Epoch 85/100\n",
      "4/4 [==============================] - 0s 13ms/step - loss: 0.0026 - accuracy: 1.0000 - val_loss: 1.2485 - val_accuracy: 0.6667\n",
      "Epoch 86/100\n",
      "4/4 [==============================] - 0s 13ms/step - loss: 0.0026 - accuracy: 1.0000 - val_loss: 1.2492 - val_accuracy: 0.6667\n",
      "Epoch 87/100\n",
      "4/4 [==============================] - 0s 15ms/step - loss: 0.0025 - accuracy: 1.0000 - val_loss: 1.2518 - val_accuracy: 0.6667\n",
      "Epoch 88/100\n",
      "4/4 [==============================] - 0s 15ms/step - loss: 0.0025 - accuracy: 1.0000 - val_loss: 1.2556 - val_accuracy: 0.6667\n",
      "Epoch 89/100\n",
      "4/4 [==============================] - 0s 15ms/step - loss: 0.0024 - accuracy: 1.0000 - val_loss: 1.2582 - val_accuracy: 0.7037\n",
      "Epoch 90/100\n",
      "4/4 [==============================] - 0s 14ms/step - loss: 0.0023 - accuracy: 1.0000 - val_loss: 1.2635 - val_accuracy: 0.7037\n",
      "Epoch 91/100\n",
      "4/4 [==============================] - 0s 15ms/step - loss: 0.0023 - accuracy: 1.0000 - val_loss: 1.2697 - val_accuracy: 0.7037\n",
      "Epoch 92/100\n",
      "4/4 [==============================] - 0s 14ms/step - loss: 0.0022 - accuracy: 1.0000 - val_loss: 1.2728 - val_accuracy: 0.6667\n",
      "Epoch 93/100\n",
      "4/4 [==============================] - 0s 14ms/step - loss: 0.0022 - accuracy: 1.0000 - val_loss: 1.2751 - val_accuracy: 0.6667\n",
      "Epoch 94/100\n",
      "4/4 [==============================] - 0s 14ms/step - loss: 0.0021 - accuracy: 1.0000 - val_loss: 1.2807 - val_accuracy: 0.6667\n",
      "Epoch 95/100\n",
      "4/4 [==============================] - 0s 14ms/step - loss: 0.0021 - accuracy: 1.0000 - val_loss: 1.2862 - val_accuracy: 0.6667\n",
      "Epoch 96/100\n",
      "4/4 [==============================] - 0s 14ms/step - loss: 0.0021 - accuracy: 1.0000 - val_loss: 1.2914 - val_accuracy: 0.6667\n",
      "Epoch 97/100\n",
      "4/4 [==============================] - 0s 14ms/step - loss: 0.0020 - accuracy: 1.0000 - val_loss: 1.2964 - val_accuracy: 0.6667\n",
      "Epoch 98/100\n",
      "4/4 [==============================] - 0s 13ms/step - loss: 0.0020 - accuracy: 1.0000 - val_loss: 1.2995 - val_accuracy: 0.6667\n",
      "Epoch 99/100\n",
      "4/4 [==============================] - 0s 14ms/step - loss: 0.0019 - accuracy: 1.0000 - val_loss: 1.3030 - val_accuracy: 0.6667\n",
      "Epoch 100/100\n",
      "4/4 [==============================] - 0s 13ms/step - loss: 0.0019 - accuracy: 1.0000 - val_loss: 1.3045 - val_accuracy: 0.6667\n"
     ]
    }
   ],
   "source": [
    "hist = model.fit(X_train, y_train, epochs=100, validation_split=0.2, callbacks=[model_checkpoint_callback])"
   ]
  },
  {
   "cell_type": "code",
   "execution_count": null,
   "metadata": {
    "colab": {
     "background_save": true
    },
    "id": "pZoZOQISX-r8"
   },
   "outputs": [],
   "source": [
    "model.load_weights(\"best_emoji_weights.h5\")"
   ]
  },
  {
   "cell_type": "code",
   "execution_count": null,
   "metadata": {
    "colab": {
     "base_uri": "https://localhost:8080/",
     "height": 265
    },
    "id": "IWSgdHmEYFv7",
    "outputId": "cbbdc973-ad3c-43e6-aac8-5895484394ac"
   },
   "outputs": [
    {
     "data": {
      "image/png": "[encoded data removed]",
      "text/plain": [
       "<Figure size 432x288 with 1 Axes>"
      ]
     },
     "metadata": {},
     "output_type": "display_data"
    }
   ],
   "source": [
    "plt.plot(hist.history[\"accuracy\"])\n",
    "plt.plot(hist.history[\"val_accuracy\"])\n",
    "plt.show()"
   ]
  },
  {
   "cell_type": "code",
   "execution_count": null,
   "metadata": {
    "colab": {
     "base_uri": "https://localhost:8080/"
    },
    "id": "sRcdJMEOYHTE",
    "outputId": "aa25b467-e9db-4a60-8514-6c2399bfb479"
   },
   "outputs": [
    {
     "name": "stdout",
     "output_type": "stream",
     "text": [
      "5/5 [==============================] - 0s 5ms/step - loss: 0.2672 - accuracy: 0.9318\n"
     ]
    },
    {
     "data": {
      "text/plain": [
       "[0.2672489583492279, 0.9318181872367859]"
      ]
     },
     "execution_count": 68,
     "metadata": {},
     "output_type": "execute_result"
    }
   ],
   "source": [
    "model.evaluate(X_train, y_train)"
   ]
  },
  {
   "cell_type": "code",
   "execution_count": null,
   "metadata": {
    "colab": {
     "base_uri": "https://localhost:8080/"
    },
    "id": "KUyGokVCYInC",
    "outputId": "b3a037aa-2d91-4096-f0fe-990285d6561d"
   },
   "outputs": [
    {
     "name": "stdout",
     "output_type": "stream",
     "text": [
      "2/2 [==============================] - 0s 8ms/step - loss: 1.4331 - accuracy: 0.6071\n"
     ]
    },
    {
     "data": {
      "text/plain": [
       "[1.4330533742904663, 0.6071428656578064]"
      ]
     },
     "execution_count": 69,
     "metadata": {},
     "output_type": "execute_result"
    }
   ],
   "source": [
    "model.evaluate(X_test, y_test)"
   ]
  },
  {
   "cell_type": "code",
   "execution_count": null,
   "metadata": {
    "colab": {
     "base_uri": "https://localhost:8080/"
    },
    "id": "_nF2YhCwYJgx",
    "outputId": "e308704f-348a-4a9a-f6a4-bbc67319d5a4"
   },
   "outputs": [
    {
     "data": {
      "text/plain": [
       "array([[5.75997904e-02, 4.73867357e-03, 1.19785173e-02, 2.07266416e-02,\n",
       "        9.04956341e-01],\n",
       "       [2.93604867e-03, 8.56117904e-03, 8.09654128e-03, 9.80313003e-01,\n",
       "        9.31395771e-05],\n",
       "       [7.84241855e-02, 6.61514342e-01, 4.16214280e-02, 2.17963085e-01,\n",
       "        4.77051741e-04],\n",
       "       [7.36432731e-01, 1.71422597e-03, 2.29404733e-01, 3.19522545e-02,\n",
       "        4.95993474e-04],\n",
       "       [3.24399123e-04, 5.22523624e-05, 9.97262001e-01, 8.65427079e-04,\n",
       "        1.49593141e-03],\n",
       "       [9.38429870e-03, 8.19531211e-04, 9.88884687e-01, 7.55613786e-04,\n",
       "        1.55844231e-04],\n",
       "       [5.85969351e-02, 5.55312000e-02, 4.05348986e-02, 8.39637399e-01,\n",
       "        5.69954235e-03],\n",
       "       [4.00494644e-03, 9.62129416e-05, 9.90900159e-01, 1.30038999e-03,\n",
       "        3.69829754e-03],\n",
       "       [2.29607657e-01, 1.90859362e-02, 9.88224968e-02, 8.75479504e-02,\n",
       "        5.64935982e-01],\n",
       "       [1.56221818e-03, 2.88119976e-04, 8.59039903e-01, 1.36719674e-01,\n",
       "        2.39009364e-03],\n",
       "       [9.36611369e-03, 9.65553701e-01, 5.02473069e-03, 1.97363663e-02,\n",
       "        3.19087791e-04],\n",
       "       [8.35031737e-04, 6.40378334e-04, 9.86111164e-01, 1.20935794e-02,\n",
       "        3.19819461e-04],\n",
       "       [9.59252775e-01, 1.00947544e-03, 2.11115777e-02, 1.81465130e-02,\n",
       "        4.79562761e-04],\n",
       "       [1.65959686e-01, 1.68047566e-03, 1.07517309e-01, 2.59103298e-01,\n",
       "        4.65739220e-01],\n",
       "       [1.30858663e-02, 9.48941529e-01, 5.47649991e-03, 3.12143490e-02,\n",
       "        1.28171488e-03],\n",
       "       [2.77659670e-02, 1.69420452e-03, 2.38336865e-02, 9.46604371e-01,\n",
       "        1.01839199e-04],\n",
       "       [3.83568904e-03, 1.39854813e-03, 7.30863690e-01, 2.63089061e-01,\n",
       "        8.12966900e-04],\n",
       "       [1.20409578e-03, 3.13599507e-04, 9.96673822e-01, 1.70418364e-03,\n",
       "        1.04331339e-04],\n",
       "       [8.06478113e-02, 1.02038451e-01, 5.26753254e-02, 6.55592203e-01,\n",
       "        1.09046206e-01],\n",
       "       [1.34706004e-02, 3.16426158e-03, 1.63409531e-01, 3.04984562e-02,\n",
       "        7.89457202e-01],\n",
       "       [9.27451730e-01, 3.78605817e-03, 2.76344530e-02, 4.04923148e-02,\n",
       "        6.35474629e-04],\n",
       "       [9.63235259e-01, 1.43317017e-03, 1.36337150e-02, 1.00659514e-02,\n",
       "        1.16319610e-02],\n",
       "       [1.30461510e-02, 2.86475336e-03, 2.50233170e-02, 1.23720830e-02,\n",
       "        9.46693659e-01],\n",
       "       [8.71747851e-01, 4.50056698e-03, 7.68898278e-02, 4.65250388e-02,\n",
       "        3.36689409e-04],\n",
       "       [1.49056995e-02, 1.68893952e-03, 1.44694708e-02, 9.67269301e-01,\n",
       "        1.66667544e-03],\n",
       "       [5.85969351e-02, 5.55312000e-02, 4.05348986e-02, 8.39637399e-01,\n",
       "        5.69954235e-03],\n",
       "       [1.22370978e-03, 3.77560355e-04, 9.97672021e-01, 6.16207893e-04,\n",
       "        1.10442423e-04],\n",
       "       [9.75186825e-01, 5.82603097e-04, 1.76900979e-02, 6.11376483e-03,\n",
       "        4.26606712e-04],\n",
       "       [1.37525290e-01, 7.20293641e-01, 2.21982542e-02, 1.12015329e-01,\n",
       "        7.96743948e-03],\n",
       "       [4.05590842e-03, 3.57063982e-04, 9.90392208e-01, 1.39422610e-03,\n",
       "        3.80060542e-03],\n",
       "       [9.80820656e-01, 6.86235551e-04, 1.33894077e-02, 4.29733237e-03,\n",
       "        8.06446827e-04],\n",
       "       [7.40080373e-03, 9.68701839e-01, 4.06117551e-03, 1.92824602e-02,\n",
       "        5.53875521e-04],\n",
       "       [9.66138542e-01, 9.86087252e-04, 1.81360990e-02, 1.43856565e-02,\n",
       "        3.53568321e-04],\n",
       "       [4.43290803e-04, 2.38774184e-04, 9.74074304e-01, 2.33855583e-02,\n",
       "        1.85796490e-03],\n",
       "       [9.65955198e-01, 7.77676352e-04, 2.06639357e-02, 8.38287268e-03,\n",
       "        4.22030780e-03],\n",
       "       [1.02152713e-02, 9.47705030e-01, 2.42272578e-02, 1.76804494e-02,\n",
       "        1.72080487e-04],\n",
       "       [1.36389341e-02, 3.42835346e-03, 9.81309533e-01, 1.34948979e-03,\n",
       "        2.73642363e-04],\n",
       "       [5.39429523e-02, 6.96279341e-03, 4.05900627e-02, 1.41799659e-01,\n",
       "        7.56704569e-01],\n",
       "       [8.81119013e-01, 2.20868737e-02, 3.72035466e-02, 3.02214269e-02,\n",
       "        2.93691047e-02],\n",
       "       [6.87036589e-02, 4.08627238e-04, 9.20605123e-01, 5.13595669e-03,\n",
       "        5.14673395e-03],\n",
       "       [5.00715435e-01, 1.23477608e-01, 8.27319100e-02, 2.01899618e-01,\n",
       "        9.11753997e-02],\n",
       "       [9.86549556e-01, 5.05612348e-04, 6.60096575e-03, 2.62723560e-03,\n",
       "        3.71673657e-03],\n",
       "       [9.62341785e-01, 2.77095870e-03, 2.48807725e-02, 9.42214858e-03,\n",
       "        5.84401248e-04],\n",
       "       [1.85635015e-01, 7.60570019e-02, 7.30175257e-01, 7.36434897e-03,\n",
       "        7.68463011e-04],\n",
       "       [1.02739828e-02, 4.76627238e-03, 9.78066087e-01, 5.84456418e-03,\n",
       "        1.04910706e-03],\n",
       "       [2.06534997e-01, 1.92569811e-02, 7.62979865e-01, 1.09463818e-02,\n",
       "        2.81794026e-04],\n",
       "       [9.96773946e-04, 2.04404510e-04, 9.83622134e-01, 1.49806906e-02,\n",
       "        1.95912682e-04],\n",
       "       [6.73842616e-04, 1.65159086e-04, 9.91911888e-01, 1.56769948e-03,\n",
       "        5.68138994e-03],\n",
       "       [5.75213432e-01, 5.13838045e-03, 7.47200325e-02, 2.71437347e-01,\n",
       "        7.34908432e-02],\n",
       "       [1.36994928e-01, 4.93000478e-01, 2.71726493e-02, 3.13361794e-01,\n",
       "        2.94700600e-02],\n",
       "       [3.09688062e-03, 6.04935288e-02, 7.99539313e-03, 9.27968502e-01,\n",
       "        4.45661077e-04],\n",
       "       [9.32476699e-01, 4.20162315e-03, 2.56701093e-02, 3.41062434e-02,\n",
       "        3.54532222e-03],\n",
       "       [7.12328171e-03, 6.85054017e-03, 6.05149893e-03, 9.79178667e-01,\n",
       "        7.96020962e-04],\n",
       "       [7.14834838e-04, 1.63920864e-04, 9.98158872e-01, 8.04993382e-04,\n",
       "        1.57424380e-04],\n",
       "       [3.64667759e-03, 5.01301314e-04, 6.97967708e-01, 2.96859682e-01,\n",
       "        1.02459616e-03],\n",
       "       [6.61540776e-02, 1.78705377e-03, 1.55500889e-01, 2.67557651e-01,\n",
       "        5.09000361e-01]], dtype=float32)"
      ]
     },
     "execution_count": 70,
     "metadata": {},
     "output_type": "execute_result"
    }
   ],
   "source": [
    "pred = model.predict(X_test)\n",
    "pred"
   ]
  },
  {
   "cell_type": "code",
   "execution_count": null,
   "metadata": {
    "colab": {
     "base_uri": "https://localhost:8080/"
    },
    "id": "lHtNQRVCu_5a",
    "outputId": "9cc548c8-b088-4b87-b370-e892882970b1"
   },
   "outputs": [
    {
     "data": {
      "text/plain": [
       "array([4, 3, 1, 0, 2, 2, 3, 2, 4, 2, 1, 2, 0, 4, 1, 3, 2, 2, 3, 4, 0, 0,\n",
       "       4, 0, 3, 3, 2, 0, 1, 2, 0, 1, 0, 2, 0, 1, 2, 4, 0, 2, 0, 0, 0, 2,\n",
       "       2, 2, 2, 2, 0, 1, 3, 0, 3, 2, 2, 4])"
      ]
     },
     "execution_count": 71,
     "metadata": {},
     "output_type": "execute_result"
    }
   ],
   "source": [
    "y_pred = np.argmax(pred, axis=1)\n",
    "y_pred"
   ]
  },
  {
   "cell_type": "code",
   "execution_count": null,
   "metadata": {
    "colab": {
     "base_uri": "https://localhost:8080/"
    },
    "id": "J-RwsnS7vAl6",
    "outputId": "a713ccef-ce6a-4e3a-87a0-009fd0ad617a"
   },
   "outputs": [
    {
     "name": "stdout",
     "output_type": "stream",
     "text": [
      "I want to eat🍴🍴\n",
      "\n",
      "he did not answer😓😓\n",
      "\n",
      "he got a raise⚾😁\n",
      "\n",
      "she got me a present❤️❤️\n",
      "\n",
      "ha ha ha it was so funny😁😁\n",
      "\n",
      "he is a good friend😁❤️\n",
      "\n",
      "I am upset😓❤️\n",
      "\n",
      "We had such a lovely dinner tonight😁❤️\n",
      "\n",
      "where is the food🍴🍴\n",
      "\n",
      "Stop making this joke ha ha ha😁😁\n",
      "\n",
      "where is the ball⚾⚾\n",
      "\n",
      "work is hard😁😓\n",
      "\n",
      "This girl is messing with me❤️😓\n",
      "\n",
      "are you serious ha ha🍴😁\n",
      "\n",
      "Let us go play baseball⚾⚾\n",
      "\n",
      "This stupid grader is not working 😓😓\n",
      "\n",
      "work is horrible😁😓\n",
      "\n",
      "Congratulation for having a baby😁😁\n",
      "\n",
      "stop messing around😓😓\n",
      "\n",
      "any suggestions for dinner🍴🍴\n",
      "\n",
      "I love taking breaks❤️❤️\n",
      "\n",
      "you brighten my day❤️😁\n",
      "\n",
      "I boiled rice🍴🍴\n",
      "\n",
      "she is a bully❤️😓\n",
      "\n",
      "Why are you feeling bad😓😓\n",
      "\n",
      "I am upset😓😓\n",
      "\n",
      "I worked during my birthday😁😓\n",
      "\n",
      "My grandmother is the love of my life❤️❤️\n",
      "\n",
      "enjoy your break⚾😁\n",
      "\n",
      "valentine day is near😁❤️\n",
      "\n",
      "I miss you so much❤️❤️\n",
      "\n",
      "throw the ball⚾⚾\n",
      "\n",
      "My life is so boring❤️😓\n",
      "\n",
      "she said yes😁😁\n",
      "\n",
      "will you be my valentine❤️❤️\n",
      "\n",
      "he can pitch really well⚾⚾\n",
      "\n",
      "dance with me😁😁\n",
      "\n",
      "I am starving🍴🍴\n",
      "\n",
      "See you at the restaurant❤️🍴\n",
      "\n",
      "I like to laugh😁😁\n",
      "\n",
      "I will go danc❤️😁\n",
      "\n",
      "I like your jacket ❤️😁\n",
      "\n",
      "i miss her❤️❤️\n",
      "\n",
      "what is your favorite baseball game😁⚾\n",
      "\n",
      "Good job😁😁\n",
      "\n",
      "I love to the stars and back😁❤️\n",
      "\n",
      "What you did was awesome😁😁\n",
      "\n",
      "ha ha ha lol😁😁\n",
      "\n",
      "I want to joke❤️😁\n",
      "\n",
      "go away⚾😓\n",
      "\n",
      "yesterday we lost again😓😓\n",
      "\n",
      "family is all I have❤️❤️\n",
      "\n",
      "you are failing this exercise😓😓\n",
      "\n",
      "Good joke😁😁\n",
      "\n",
      "You totally deserve this prize😁😁\n",
      "\n",
      "I did not have breakfast🍴😓\n",
      "\n"
     ]
    }
   ],
   "source": [
    "# print the prediction vs actual emoji \n",
    "for i, sent in enumerate(testing_corpus):\n",
    "  print(sent + emoji.emojize(emoji_dictionary[str(y_pred[i])]) + emoji.emojize(emoji_dictionary[str(np.argmax(y_test, axis=1)[i])]))\n",
    "  print()"
   ]
  },
  {
   "cell_type": "code",
   "execution_count": null,
   "metadata": {
    "colab": {
     "base_uri": "https://localhost:8080/"
    },
    "id": "48gmltQ5vAps",
    "outputId": "ec3e0523-4c73-4f7a-89bf-5b676b28544c"
   },
   "outputs": [
    {
     "name": "stdout",
     "output_type": "stream",
     "text": [
      "I want to eat🍴\n",
      "he did not answer😓\n",
      "he got a raise⚾\n",
      "she got me a present❤️\n",
      "ha ha ha it was so funny😁\n",
      "he is a good friend😁\n",
      "I am upset😓\n",
      "We had such a lovely dinner tonight😁\n",
      "where is the food🍴\n",
      "Stop making this joke ha ha ha😁\n",
      "where is the ball⚾\n",
      "work is hard😁\n",
      "This girl is messing with me❤️\n",
      "are you serious ha ha🍴\n",
      "Let us go play baseball⚾\n",
      "This stupid grader is not working 😓\n",
      "work is horrible😁\n",
      "Congratulation for having a baby😁\n",
      "stop messing around😓\n",
      "any suggestions for dinner🍴\n",
      "I love taking breaks❤️\n",
      "you brighten my day❤️\n",
      "I boiled rice🍴\n",
      "she is a bully❤️\n",
      "Why are you feeling bad😓\n",
      "I am upset😓\n",
      "I worked during my birthday😁\n",
      "My grandmother is the love of my life❤️\n",
      "enjoy your break⚾\n",
      "valentine day is near😁\n",
      "I miss you so much❤️\n",
      "throw the ball⚾\n",
      "My life is so boring❤️\n",
      "she said yes😁\n",
      "will you be my valentine❤️\n",
      "he can pitch really well⚾\n",
      "dance with me😁\n",
      "I am starving🍴\n",
      "See you at the restaurant❤️\n",
      "I like to laugh😁\n",
      "I will go danc❤️\n",
      "I like your jacket ❤️\n",
      "i miss her❤️\n",
      "what is your favorite baseball game😁\n",
      "Good job😁\n",
      "I love to the stars and back😁\n",
      "What you did was awesome😁\n",
      "ha ha ha lol😁\n",
      "I want to joke❤️\n",
      "go away⚾\n",
      "yesterday we lost again😓\n",
      "family is all I have❤️\n",
      "you are failing this exercise😓\n",
      "Good joke😁\n",
      "You totally deserve this prize😁\n",
      "I did not have breakfast🍴\n"
     ]
    }
   ],
   "source": [
    "for i, sent in enumerate(testing_corpus):\n",
    "  predicted_emoji_code = emoji_dictionary[str(y_pred[i])]\n",
    "  predicted_emoji = emoji.emojize(predicted_emoji_code)\n",
    "  print(sent +  predicted_emoji)"
   ]
  },
  {
   "cell_type": "code",
   "execution_count": null,
   "metadata": {
    "id": "wSq92e40vAt2"
   },
   "outputs": [],
   "source": []
  },
  {
   "cell_type": "code",
   "execution_count": null,
   "metadata": {
    "id": "pkpZXK4VvAyF"
   },
   "outputs": [],
   "source": []
  }
 ],
 "metadata": {
  "accelerator": "GPU",
  "colab": {
   "collapsed_sections": [],
   "name": "emoji_prediction",
   "provenance": []
  },
  "kernelspec": {
   "display_name": "Python 3 (ipykernel)",
   "language": "python",
   "name": "python3"
  },
  "language_info": {
   "codemirror_mode": {
    "name": "ipython",
    "version": 3
   },
   "file_extension": ".py",
   "mimetype": "text/x-python",
   "name": "python",
   "nbconvert_exporter": "python",
   "pygments_lexer": "ipython3",
   "version": "3.9.7"
  }
 },
 "nbformat": 4,
 "nbformat_minor": 4
}
